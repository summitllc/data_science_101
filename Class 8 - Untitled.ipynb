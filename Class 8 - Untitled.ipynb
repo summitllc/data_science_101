{
 "cells": [
  {
   "attachments": {},
   "cell_type": "markdown",
   "metadata": {},
   "source": "# Class 8 - SQL and Databases"
  },
  {
   "cell_type": "code",
   "metadata": {},
   "source": [
    "import pandas as pd\n",
    "import sqlite3"
   ],
   "outputs": [],
   "execution_count": null
  },
  {
   "cell_type": "code",
   "metadata": {},
   "source": [
    "conn = sqlite3.connect(\"SQLiteDatabase/TYSQL.sqlite\")"
   ],
   "outputs": [],
   "execution_count": null
  },
  {
   "cell_type": "code",
   "metadata": {},
   "source": [
    "df = pd.read_sql_query('''\n",
    "SELECT \n",
    "    Orders.order_num,\n",
    "    Orders.order_date,\n",
    "    oi.quantity,\n",
    "    oi.item_price,\n",
    "    quantity * item_price as total_cost,\n",
    "    SUM(quantity * item_price) OVER (ORDER BY order_date range BETWEEN UNBOUNDED PRECEDING and CURRENT ROW)\n",
    "FROM\n",
    "    Orders\n",
    "    left join OrderItems oi on oi.order_num = Orders.order_num'''\n",
    ", conn)"
   ],
   "outputs": [],
   "execution_count": null
  },
  {
   "cell_type": "code",
   "metadata": {},
   "source": [
    "df"
   ],
   "outputs": [],
   "execution_count": null
  },
  {
   "cell_type": "code",
   "metadata": {},
   "source": [],
   "outputs": [],
   "execution_count": null
  }
 ],
 "metadata": {
  "kernelspec": {
   "display_name": "base",
   "language": "python",
   "name": "python3"
  },
  "language_info": {
   "codemirror_mode": {
    "name": "ipython",
    "version": 3
   },
   "file_extension": ".py",
   "mimetype": "text/x-python",
   "name": "python",
   "nbconvert_exporter": "python",
   "pygments_lexer": "ipython3",
   "version": "3.10.9"
  },
  "orig_nbformat": 4
 },
 "nbformat": 4,
 "nbformat_minor": 2
}
