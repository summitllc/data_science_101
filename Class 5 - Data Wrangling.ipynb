{
 "cells": [
  {
   "cell_type": "markdown",
   "source": [
    "# Data Wrangling 2 - Data Reformatting\n",
    "\n",
    "## Restructuring Data\n",
    "Depending on where you obtain your data, you might receive it in one of two formats. These are referred to as Wide Data or Long Data. The wide data format is one where each column has uniquely one type of value in it, e.g., all values are a temperature in Celsius, money in dollars, the name of a person, the address of the business, etc."
   ],
   "metadata": {
    "collapsed": false,
    "pycharm": {
     "name": "#%% md\n"
    }
   }
  },
  {
   "cell_type": "code",
   "execution_count": null,
   "outputs": [],
   "source": [
    "import pandas as pd"
   ],
   "metadata": {
    "collapsed": false,
    "pycharm": {
     "name": "#%%\n"
    }
   }
  },
  {
   "cell_type": "code",
   "execution_count": null,
   "outputs": [],
   "source": [
    "wide_data = pd.read_csv(\"https://raw.githubusercontent.com/stefmolin/Hands-On-Data-Analysis-with-Pandas/master/ch_03/data/wide_data.csv\")"
   ],
   "metadata": {
    "collapsed": false,
    "pycharm": {
     "name": "#%%\n"
    }
   }
  },
  {
   "cell_type": "code",
   "execution_count": null,
   "outputs": [],
   "source": [
    "wide_data.head()"
   ],
   "metadata": {
    "collapsed": false,
    "pycharm": {
     "name": "#%%\n"
    }
   }
  },
  {
   "cell_type": "markdown",
   "source": [
    "In the above dataframe, notice that each type of measured value is a unique type of thing. In this case, they are all numbers, but `TMAX` *only* reports the maximum temperature for the day. This format is great for presentation and analysis. When running the method `df.describe()`, we obtain sensible information on each row."
   ],
   "metadata": {
    "collapsed": false,
    "pycharm": {
     "name": "#%% md\n"
    }
   }
  },
  {
   "cell_type": "code",
   "execution_count": null,
   "outputs": [],
   "source": [
    "wide_data.describe()"
   ],
   "metadata": {
    "collapsed": false,
    "pycharm": {
     "name": "#%%\n"
    }
   }
  },
  {
   "cell_type": "markdown",
   "source": [
    "Wide data is very commonly used in databases. Due to the fact that each column has a unique type of value, relational databases can host a suite of tables that all have information that is linked together through keys. This key allows us to join only the necessary tables together to get information that we need without much excess.\n",
    "\n",
    "One drawback to this design is that it can be fairly inflexible. Imagine a scenario when you are taking a lot of measurements, and you are using a wide format to store that data. Your table might look like the following\n",
    "\n",
    "| test | Measurement 1 | Measurement 2 | Measurement 3 |\n",
    "| ---- | - | - | - |\n",
    "| Observation 1 | 2 | 3 | 3 |\n",
    "| Observation 2 | 5 | 3 | 2 |\n",
    "| Observation 3 | 6 | 3 | 3 |\n",
    "| Observation 4 | 5 | 5 | 5 |\n",
    "| Observation 5 | 0 | 3 | 3 |\n",
    "\n",
    "Then, for whatever reason, you might need to add a new measurement to your experiment. As far as your experiment is concerned, all you need to do is add a new sensor, or start asking a new question. However, if you're also doing the Database administration, you have to perform a schema change, you have to account for the previous rows of missing information (especially if it's a row that cannot be null), you need to update your documentation if you are sharing the data with anyone.\n",
    "\n",
    "Let's contrast this with the Long Data format. With the long data format, you often see two important  columns present: \n",
    "- Key\n",
    "- Value\n",
    "\n",
    "Combining the key column with some sort of row information, we can restructure the wide format to present the way that will have fewer columns, but more rows. An example of a long table is below. "
   ],
   "metadata": {
    "collapsed": false,
    "pycharm": {
     "name": "#%% md\n"
    }
   }
  },
  {
   "cell_type": "code",
   "execution_count": null,
   "outputs": [],
   "source": [
    "long_data = pd.read_csv('https://raw.githubusercontent.com/stefmolin/Hands-On-Data-Analysis-with-Pandas/master/ch_03/data/long_data.csv')[['date', 'datatype', 'value']]"
   ],
   "metadata": {
    "collapsed": false,
    "pycharm": {
     "name": "#%%\n"
    }
   }
  },
  {
   "cell_type": "code",
   "execution_count": null,
   "outputs": [],
   "source": [
    "long_data.head(15)"
   ],
   "metadata": {
    "collapsed": false,
    "pycharm": {
     "name": "#%%\n"
    }
   }
  },
  {
   "cell_type": "markdown",
   "source": [
    "If we carefully compare the above table with the wide table that we examined above, we will see that all the same data is present. In this table, our key column is called `datatype` and the value associated with that datatype is called `value`. We also will notice that each value of the data is repeated 3 times, and that the values in `datatype` are the names of the columns in the wide table. In this table, we have restructured the data such that all of the columns of the previous table are compressed into these two columns. This This format would be very confusing to show another person, but it does remove the need to create new columns. If you start recording a new type of measurement, simply create another key/`datatype` value and start recording the data. This format is often found with dealing with APIs, but would also make for terrible relational database design. Additionally, any attempt at producing summary statistics on this table would be nonsensical.\n",
    "\n",
    "Note that each format has its benefits and reasons for use. Therefore it is important to know how to switch betweent he two as needed. Let's start with how to change from long to wide. \n",
    "\n",
    "### Pivoting DataFrames\n",
    "Converting from a long format to a wide format creates what is often called a **pivot table**. Microsoft Excel also has a functionality to create pivot tables. In pandas, the method that we call is, as you expect `pivot`. We give it a few parameters, like which column should be the index of our new table, which column contains the column names, and which column contains all the values. Doing so produces the following"
   ],
   "metadata": {
    "collapsed": false,
    "pycharm": {
     "name": "#%% md\n"
    }
   }
  },
  {
   "cell_type": "code",
   "execution_count": null,
   "outputs": [],
   "source": [
    "pivot_df = long_data.pivot(\n",
    "    index='date', \n",
    "    columns='datatype',\n",
    "    values='value'\n",
    ")\n",
    "pivot_df.head()"
   ],
   "metadata": {
    "collapsed": false,
    "pycharm": {
     "name": "#%%\n"
    }
   }
  },
  {
   "cell_type": "markdown",
   "source": [
    "Now we have created a neew table that looks like the first wide thable that we created. Now, we could join this table with other datasets, or extract summary statistics.\n",
    "\n",
    "One additional feature of Pandas is to set up your data with a **hierarchical index**. If you recall from last week, this `value` columns was actuall the temperature in Celcius. So, let's rename it as such and include the temperature in Fahrenheit. "
   ],
   "metadata": {
    "collapsed": false,
    "pycharm": {
     "name": "#%% md\n"
    }
   }
  },
  {
   "cell_type": "code",
   "execution_count": null,
   "outputs": [],
   "source": [
    "long_data.rename(columns={\"value\":\"temp_C\"}, inplace=True)\n",
    "long_data[\"temp_F\"] = (long_data.temp_C * 9/5) + 32"
   ],
   "metadata": {
    "collapsed": false,
    "pycharm": {
     "name": "#%%\n"
    }
   }
  },
  {
   "cell_type": "code",
   "execution_count": null,
   "outputs": [],
   "source": [
    "long_data.head()"
   ],
   "metadata": {
    "collapsed": false,
    "pycharm": {
     "name": "#%%\n"
    }
   }
  },
  {
   "cell_type": "markdown",
   "source": [
    "When we pass in multiple columns to the `values` argument, we end up with the following dataframe."
   ],
   "metadata": {
    "collapsed": false,
    "pycharm": {
     "name": "#%% md\n"
    }
   }
  },
  {
   "cell_type": "code",
   "execution_count": null,
   "outputs": [],
   "source": [
    "pivot_df = long_data.pivot(\n",
    "    index='date', \n",
    "    columns='datatype',\n",
    "    values=['temp_C', 'temp_F']\n",
    ")\n",
    "pivot_df.head()"
   ],
   "metadata": {
    "collapsed": false,
    "pycharm": {
     "name": "#%%\n"
    }
   }
  },
  {
   "cell_type": "markdown",
   "source": [
    "We now have two of each column name, one under Celcius, and one under Fahrenheit. Under this structure, Each higher column name actually returns a dataframe."
   ],
   "metadata": {
    "collapsed": false,
    "pycharm": {
     "name": "#%% md\n"
    }
   }
  },
  {
   "cell_type": "code",
   "execution_count": null,
   "outputs": [],
   "source": [
    "pivot_df['temp_C'].head()"
   ],
   "metadata": {
    "collapsed": false,
    "pycharm": {
     "name": "#%%\n"
    }
   }
  },
  {
   "cell_type": "markdown",
   "source": [
    "Therefore, in order to reference any single column, we need to provide (what looks like) two column names. "
   ],
   "metadata": {
    "collapsed": false,
    "pycharm": {
     "name": "#%% md\n"
    }
   }
  },
  {
   "cell_type": "code",
   "execution_count": null,
   "outputs": [],
   "source": [
    "pivot_df['temp_C']['TMAX'].head()"
   ],
   "metadata": {
    "collapsed": false,
    "pycharm": {
     "name": "#%%\n"
    }
   }
  },
  {
   "cell_type": "code",
   "execution_count": null,
   "outputs": [],
   "source": [
    "pivot_df.temp_C.TMAX.head()"
   ],
   "metadata": {
    "collapsed": false,
    "pycharm": {
     "name": "#%%\n"
    }
   }
  },
  {
   "cell_type": "markdown",
   "source": [
    "### Multi-Index\n",
    "Pandas also allows for option to provide multiple indices for a particular row, just like we have provided multiple indices for a column (remember, column headers are actually treated as index objects). To utilize this, we call the familiar `set_index` object, and pass in multiple columns, in the order that they should be grouped. "
   ],
   "metadata": {
    "collapsed": false,
    "pycharm": {
     "name": "#%% md\n"
    }
   }
  },
  {
   "cell_type": "code",
   "execution_count": null,
   "outputs": [],
   "source": [
    "multi_index_df = long_data.set_index(['date', 'datatype'])\n",
    "multi_index_df.head(6)"
   ],
   "metadata": {
    "collapsed": false,
    "pycharm": {
     "name": "#%%\n"
    }
   }
  },
  {
   "cell_type": "markdown",
   "source": [
    "Here we have grouped the rows together based on the date, and have the `datatype` column as a second index. However, this is still our long format. Additionally, the `pivot` method expects a dataframe with only one index. To achieve a similar table as `pivot`, we can use the `unstack` method, which removes all layers of your multi-index and turns the into columns. Essentially, picture as if we have stacked the values on top of each other, and we are now unstacking them, and laying them all out into a single row. "
   ],
   "metadata": {
    "collapsed": false,
    "pycharm": {
     "name": "#%% md\n"
    }
   }
  },
  {
   "cell_type": "code",
   "execution_count": null,
   "outputs": [],
   "source": [
    "unstacked_df = multi_index_df.unstack()\n",
    "unstacked_df.head()"
   ],
   "metadata": {
    "collapsed": false,
    "pycharm": {
     "name": "#%%\n"
    }
   }
  },
  {
   "cell_type": "markdown",
   "source": [
    "### Melting DataFrames\n",
    "Melting is the inverse action of a pivot. A pivot takes rows and combines them into a single column, melting a dataframe takes the columns of a dataframe and converts them into rows. By calling the method `melt`, we can pass in the arguments: \n",
    "- `id_vars`: which columns uniquely identify a row\n",
    "- `value_vars`: which columns contains values\n",
    "- `var_name`: what to name the column with the column names (default is `variable`)\n",
    "- `value_name`: what to name the column with the values of those columns (default is `value`)"
   ],
   "metadata": {
    "collapsed": false,
    "pycharm": {
     "name": "#%% md\n"
    }
   }
  },
  {
   "cell_type": "code",
   "execution_count": null,
   "outputs": [],
   "source": [
    "melted_df = wide_data.melt(\n",
    "    id_vars='date',\n",
    "    value_vars=['TMAX', 'TMIN', 'TOBS'],\n",
    "    value_name='temp_C',\n",
    "    var_name='measurement'\n",
    ")\n",
    "melted_df.head()"
   ],
   "metadata": {
    "collapsed": false,
    "pycharm": {
     "name": "#%%\n"
    }
   }
  },
  {
   "cell_type": "markdown",
   "source": [
    "Alternatively, we have the inverse of `unstack`, being `stack`. This will take the columns and stack them together, creating a multi-index in the process. "
   ],
   "metadata": {
    "collapsed": false,
    "pycharm": {
     "name": "#%% md\n"
    }
   }
  },
  {
   "cell_type": "code",
   "execution_count": null,
   "outputs": [],
   "source": [
    "stacked_series = wide_data.set_index('date').stack()"
   ],
   "metadata": {
    "collapsed": false,
    "pycharm": {
     "name": "#%%\n"
    }
   }
  },
  {
   "cell_type": "code",
   "execution_count": null,
   "outputs": [],
   "source": [
    "stacked_series.head()"
   ],
   "metadata": {
    "collapsed": false,
    "pycharm": {
     "name": "#%%\n"
    }
   }
  },
  {
   "cell_type": "markdown",
   "source": [
    "Upon inspection, we would see that this object is a series, not a dataframe. We can easily change this by calling `to_frame` and passing in the name of the column."
   ],
   "metadata": {
    "collapsed": false,
    "pycharm": {
     "name": "#%% md\n"
    }
   }
  },
  {
   "cell_type": "code",
   "execution_count": null,
   "outputs": [],
   "source": [
    "stacked_df = stacked_series.to_frame('values')"
   ],
   "metadata": {
    "collapsed": false,
    "pycharm": {
     "name": "#%%\n"
    }
   }
  },
  {
   "cell_type": "code",
   "execution_count": null,
   "outputs": [],
   "source": [
    "stacked_df.head()"
   ],
   "metadata": {
    "collapsed": false,
    "pycharm": {
     "name": "#%%\n"
    }
   }
  },
  {
   "cell_type": "markdown",
   "source": [
    "As it stands, this dataframe has a multi-level index, however, the second layer index does not have a name. "
   ],
   "metadata": {
    "collapsed": false,
    "pycharm": {
     "name": "#%% md\n"
    }
   }
  },
  {
   "cell_type": "code",
   "execution_count": null,
   "outputs": [],
   "source": [
    "stacked_df.index"
   ],
   "metadata": {
    "collapsed": false,
    "pycharm": {
     "name": "#%%\n"
    }
   }
  },
  {
   "cell_type": "markdown",
   "source": [
    "We can rename that index by intuitive method calls.  "
   ],
   "metadata": {
    "collapsed": false,
    "pycharm": {
     "name": "#%% md\n"
    }
   }
  },
  {
   "cell_type": "code",
   "execution_count": null,
   "outputs": [],
   "source": [
    "stacked_df.index.rename(['date', 'datatype'], inplace=True)\n",
    "stacked_df.index.names"
   ],
   "metadata": {
    "collapsed": false,
    "pycharm": {
     "name": "#%%\n"
    }
   }
  },
  {
   "cell_type": "code",
   "execution_count": null,
   "outputs": [],
   "source": [
    "stacked_df.head()"
   ],
   "metadata": {
    "collapsed": false,
    "pycharm": {
     "name": "#%%\n"
    }
   }
  },
  {
   "cell_type": "code",
   "execution_count": 5,
   "metadata": {
    "collapsed": false,
    "pycharm": {
     "name": "#%%\n"
    }
   },
   "outputs": [],
   "source": [
    "long_data = pd.read_csv('https://raw.githubusercontent.com/stefmolin/Hands-On-Data-Analysis-with-Pandas/master/ch_03/data/long_data.csv')[['date', 'datatype', 'value']]"
   ]
  },
  {
   "cell_type": "code",
   "execution_count": 6,
   "metadata": {
    "pycharm": {
     "name": "#%%\n"
    }
   },
   "outputs": [
    {
     "data": {
      "text/html": [
       "<div>\n",
       "<style scoped>\n",
       "    .dataframe tbody tr th:only-of-type {\n",
       "        vertical-align: middle;\n",
       "    }\n",
       "\n",
       "    .dataframe tbody tr th {\n",
       "        vertical-align: top;\n",
       "    }\n",
       "\n",
       "    .dataframe thead th {\n",
       "        text-align: right;\n",
       "    }\n",
       "</style>\n",
       "<table border=\"1\" class=\"dataframe\">\n",
       "  <thead>\n",
       "    <tr style=\"text-align: right;\">\n",
       "      <th></th>\n",
       "      <th>date</th>\n",
       "      <th>datatype</th>\n",
       "      <th>value</th>\n",
       "    </tr>\n",
       "  </thead>\n",
       "  <tbody>\n",
       "    <tr>\n",
       "      <th>0</th>\n",
       "      <td>2018-10-01T00:00:00</td>\n",
       "      <td>TMAX</td>\n",
       "      <td>21.1</td>\n",
       "    </tr>\n",
       "    <tr>\n",
       "      <th>1</th>\n",
       "      <td>2018-10-01T00:00:00</td>\n",
       "      <td>TMIN</td>\n",
       "      <td>8.9</td>\n",
       "    </tr>\n",
       "    <tr>\n",
       "      <th>2</th>\n",
       "      <td>2018-10-01T00:00:00</td>\n",
       "      <td>TOBS</td>\n",
       "      <td>13.9</td>\n",
       "    </tr>\n",
       "    <tr>\n",
       "      <th>3</th>\n",
       "      <td>2018-10-02T00:00:00</td>\n",
       "      <td>TMAX</td>\n",
       "      <td>23.9</td>\n",
       "    </tr>\n",
       "    <tr>\n",
       "      <th>4</th>\n",
       "      <td>2018-10-02T00:00:00</td>\n",
       "      <td>TMIN</td>\n",
       "      <td>13.9</td>\n",
       "    </tr>\n",
       "    <tr>\n",
       "      <th>5</th>\n",
       "      <td>2018-10-02T00:00:00</td>\n",
       "      <td>TOBS</td>\n",
       "      <td>17.2</td>\n",
       "    </tr>\n",
       "    <tr>\n",
       "      <th>6</th>\n",
       "      <td>2018-10-03T00:00:00</td>\n",
       "      <td>TMAX</td>\n",
       "      <td>25.0</td>\n",
       "    </tr>\n",
       "    <tr>\n",
       "      <th>7</th>\n",
       "      <td>2018-10-03T00:00:00</td>\n",
       "      <td>TMIN</td>\n",
       "      <td>15.6</td>\n",
       "    </tr>\n",
       "    <tr>\n",
       "      <th>8</th>\n",
       "      <td>2018-10-03T00:00:00</td>\n",
       "      <td>TOBS</td>\n",
       "      <td>16.1</td>\n",
       "    </tr>\n",
       "    <tr>\n",
       "      <th>9</th>\n",
       "      <td>2018-10-04T00:00:00</td>\n",
       "      <td>TMAX</td>\n",
       "      <td>22.8</td>\n",
       "    </tr>\n",
       "    <tr>\n",
       "      <th>10</th>\n",
       "      <td>2018-10-04T00:00:00</td>\n",
       "      <td>TMIN</td>\n",
       "      <td>11.7</td>\n",
       "    </tr>\n",
       "    <tr>\n",
       "      <th>11</th>\n",
       "      <td>2018-10-04T00:00:00</td>\n",
       "      <td>TOBS</td>\n",
       "      <td>11.7</td>\n",
       "    </tr>\n",
       "    <tr>\n",
       "      <th>12</th>\n",
       "      <td>2018-10-05T00:00:00</td>\n",
       "      <td>TMAX</td>\n",
       "      <td>23.3</td>\n",
       "    </tr>\n",
       "    <tr>\n",
       "      <th>13</th>\n",
       "      <td>2018-10-05T00:00:00</td>\n",
       "      <td>TMIN</td>\n",
       "      <td>11.7</td>\n",
       "    </tr>\n",
       "    <tr>\n",
       "      <th>14</th>\n",
       "      <td>2018-10-05T00:00:00</td>\n",
       "      <td>TOBS</td>\n",
       "      <td>18.9</td>\n",
       "    </tr>\n",
       "  </tbody>\n",
       "</table>\n",
       "</div>"
      ],
      "text/plain": [
       "                   date datatype  value\n",
       "0   2018-10-01T00:00:00     TMAX   21.1\n",
       "1   2018-10-01T00:00:00     TMIN    8.9\n",
       "2   2018-10-01T00:00:00     TOBS   13.9\n",
       "3   2018-10-02T00:00:00     TMAX   23.9\n",
       "4   2018-10-02T00:00:00     TMIN   13.9\n",
       "5   2018-10-02T00:00:00     TOBS   17.2\n",
       "6   2018-10-03T00:00:00     TMAX   25.0\n",
       "7   2018-10-03T00:00:00     TMIN   15.6\n",
       "8   2018-10-03T00:00:00     TOBS   16.1\n",
       "9   2018-10-04T00:00:00     TMAX   22.8\n",
       "10  2018-10-04T00:00:00     TMIN   11.7\n",
       "11  2018-10-04T00:00:00     TOBS   11.7\n",
       "12  2018-10-05T00:00:00     TMAX   23.3\n",
       "13  2018-10-05T00:00:00     TMIN   11.7\n",
       "14  2018-10-05T00:00:00     TOBS   18.9"
      ]
     },
     "execution_count": 6,
     "metadata": {},
     "output_type": "execute_result"
    }
   ],
   "source": [
    "long_data.head(15)"
   ]
  },
  {
   "cell_type": "markdown",
   "metadata": {
    "pycharm": {
     "name": "#%% md\n"
    }
   },
   "source": [
    "If we carefully compare the above table with the wide table that we examined above, we will see that all the same data is present. In this table, our key column is called `datatype` and the value associated with that datatype is called `value`. We also will notice that each value of the data is repeated 3 times, and that the values in `datatype` are the names of the columns in the wide table. In this table, we have restructured the data such that all of the columns of the previous table are compressed into these two columns. This This format would be very confusing to show another person, but it does remove the need to create new columns. If you start recording a new type of measurement, simply create another key/`datatype` value and start recording the data. This format is often found with dealing with APIs, but would also make for terrible relational database design. Additionally, any attempt at producing summary statistics on this table would be nonsensical.\n",
    "\n",
    "Note that each format has its benefits and reasons for use. Therefore it is important to know how to switch betweent he two as needed. Let's start with how to change from long to wide. \n",
    "\n",
    "### Pivoting DataFrames\n",
    "Converting from a long format to a wide format creates what is often called a **pivot table**. Microsoft Excel also has a functionality to create pivot tables. In pandas, the method that we call is, as you expect `pivot`. We give it a few parameters, like which column should be the index of our new table, which column contains the column names, and which column contains all the values. Doing so produces the following"
   ]
  },
  {
   "cell_type": "code",
   "execution_count": 7,
   "metadata": {
    "pycharm": {
     "name": "#%%\n"
    }
   },
   "outputs": [
    {
     "data": {
      "text/html": [
       "<div>\n",
       "<style scoped>\n",
       "    .dataframe tbody tr th:only-of-type {\n",
       "        vertical-align: middle;\n",
       "    }\n",
       "\n",
       "    .dataframe tbody tr th {\n",
       "        vertical-align: top;\n",
       "    }\n",
       "\n",
       "    .dataframe thead th {\n",
       "        text-align: right;\n",
       "    }\n",
       "</style>\n",
       "<table border=\"1\" class=\"dataframe\">\n",
       "  <thead>\n",
       "    <tr style=\"text-align: right;\">\n",
       "      <th>datatype</th>\n",
       "      <th>TMAX</th>\n",
       "      <th>TMIN</th>\n",
       "      <th>TOBS</th>\n",
       "    </tr>\n",
       "    <tr>\n",
       "      <th>date</th>\n",
       "      <th></th>\n",
       "      <th></th>\n",
       "      <th></th>\n",
       "    </tr>\n",
       "  </thead>\n",
       "  <tbody>\n",
       "    <tr>\n",
       "      <th>2018-10-01T00:00:00</th>\n",
       "      <td>21.1</td>\n",
       "      <td>8.9</td>\n",
       "      <td>13.9</td>\n",
       "    </tr>\n",
       "    <tr>\n",
       "      <th>2018-10-02T00:00:00</th>\n",
       "      <td>23.9</td>\n",
       "      <td>13.9</td>\n",
       "      <td>17.2</td>\n",
       "    </tr>\n",
       "    <tr>\n",
       "      <th>2018-10-03T00:00:00</th>\n",
       "      <td>25.0</td>\n",
       "      <td>15.6</td>\n",
       "      <td>16.1</td>\n",
       "    </tr>\n",
       "    <tr>\n",
       "      <th>2018-10-04T00:00:00</th>\n",
       "      <td>22.8</td>\n",
       "      <td>11.7</td>\n",
       "      <td>11.7</td>\n",
       "    </tr>\n",
       "    <tr>\n",
       "      <th>2018-10-05T00:00:00</th>\n",
       "      <td>23.3</td>\n",
       "      <td>11.7</td>\n",
       "      <td>18.9</td>\n",
       "    </tr>\n",
       "  </tbody>\n",
       "</table>\n",
       "</div>"
      ],
      "text/plain": [
       "datatype             TMAX  TMIN  TOBS\n",
       "date                                 \n",
       "2018-10-01T00:00:00  21.1   8.9  13.9\n",
       "2018-10-02T00:00:00  23.9  13.9  17.2\n",
       "2018-10-03T00:00:00  25.0  15.6  16.1\n",
       "2018-10-04T00:00:00  22.8  11.7  11.7\n",
       "2018-10-05T00:00:00  23.3  11.7  18.9"
      ]
     },
     "execution_count": 7,
     "metadata": {},
     "output_type": "execute_result"
    }
   ],
   "source": [
    "pivot_df = long_data.pivot(\n",
    "    index='date', \n",
    "    columns='datatype',\n",
    "    values='value'\n",
    ")\n",
    "pivot_df.head()"
   ]
  },
  {
   "cell_type": "markdown",
   "metadata": {
    "pycharm": {
     "name": "#%% md\n"
    }
   },
   "source": [
    "Now we have created a neew table that looks like the first wide thable that we created. Now, we could join this table with other datasets, or extract summary statistics.\n",
    "\n",
    "One additional feature of Pandas is to set up your data with a **hierarchical index**. If you recall from last week, this `value` columns was actuall the temperature in Celcius. So, let's rename it as such and include the temperature in Fahrenheit. "
   ]
  },
  {
   "cell_type": "code",
   "execution_count": 8,
   "metadata": {
    "pycharm": {
     "name": "#%%\n"
    }
   },
   "outputs": [],
   "source": [
    "long_data.rename(columns={\"value\":\"temp_C\"}, inplace=True)\n",
    "long_data[\"temp_F\"] = (long_data.temp_C * 9/5) + 32"
   ]
  },
  {
   "cell_type": "code",
   "execution_count": 9,
   "metadata": {
    "pycharm": {
     "name": "#%%\n"
    }
   },
   "outputs": [
    {
     "data": {
      "text/html": [
       "<div>\n",
       "<style scoped>\n",
       "    .dataframe tbody tr th:only-of-type {\n",
       "        vertical-align: middle;\n",
       "    }\n",
       "\n",
       "    .dataframe tbody tr th {\n",
       "        vertical-align: top;\n",
       "    }\n",
       "\n",
       "    .dataframe thead th {\n",
       "        text-align: right;\n",
       "    }\n",
       "</style>\n",
       "<table border=\"1\" class=\"dataframe\">\n",
       "  <thead>\n",
       "    <tr style=\"text-align: right;\">\n",
       "      <th></th>\n",
       "      <th>date</th>\n",
       "      <th>datatype</th>\n",
       "      <th>temp_C</th>\n",
       "      <th>temp_F</th>\n",
       "    </tr>\n",
       "  </thead>\n",
       "  <tbody>\n",
       "    <tr>\n",
       "      <th>0</th>\n",
       "      <td>2018-10-01T00:00:00</td>\n",
       "      <td>TMAX</td>\n",
       "      <td>21.1</td>\n",
       "      <td>69.98</td>\n",
       "    </tr>\n",
       "    <tr>\n",
       "      <th>1</th>\n",
       "      <td>2018-10-01T00:00:00</td>\n",
       "      <td>TMIN</td>\n",
       "      <td>8.9</td>\n",
       "      <td>48.02</td>\n",
       "    </tr>\n",
       "    <tr>\n",
       "      <th>2</th>\n",
       "      <td>2018-10-01T00:00:00</td>\n",
       "      <td>TOBS</td>\n",
       "      <td>13.9</td>\n",
       "      <td>57.02</td>\n",
       "    </tr>\n",
       "    <tr>\n",
       "      <th>3</th>\n",
       "      <td>2018-10-02T00:00:00</td>\n",
       "      <td>TMAX</td>\n",
       "      <td>23.9</td>\n",
       "      <td>75.02</td>\n",
       "    </tr>\n",
       "    <tr>\n",
       "      <th>4</th>\n",
       "      <td>2018-10-02T00:00:00</td>\n",
       "      <td>TMIN</td>\n",
       "      <td>13.9</td>\n",
       "      <td>57.02</td>\n",
       "    </tr>\n",
       "  </tbody>\n",
       "</table>\n",
       "</div>"
      ],
      "text/plain": [
       "                  date datatype  temp_C  temp_F\n",
       "0  2018-10-01T00:00:00     TMAX    21.1   69.98\n",
       "1  2018-10-01T00:00:00     TMIN     8.9   48.02\n",
       "2  2018-10-01T00:00:00     TOBS    13.9   57.02\n",
       "3  2018-10-02T00:00:00     TMAX    23.9   75.02\n",
       "4  2018-10-02T00:00:00     TMIN    13.9   57.02"
      ]
     },
     "execution_count": 9,
     "metadata": {},
     "output_type": "execute_result"
    }
   ],
   "source": [
    "long_data.head()"
   ]
  },
  {
   "cell_type": "markdown",
   "metadata": {
    "pycharm": {
     "name": "#%% md\n"
    }
   },
   "source": [
    "When we pass in multiple columns to the `values` argument, we end up with the following dataframe."
   ]
  },
  {
   "cell_type": "code",
   "execution_count": 10,
   "metadata": {
    "pycharm": {
     "name": "#%%\n"
    }
   },
   "outputs": [
    {
     "data": {
      "text/html": [
       "<div>\n",
       "<style scoped>\n",
       "    .dataframe tbody tr th:only-of-type {\n",
       "        vertical-align: middle;\n",
       "    }\n",
       "\n",
       "    .dataframe tbody tr th {\n",
       "        vertical-align: top;\n",
       "    }\n",
       "\n",
       "    .dataframe thead tr th {\n",
       "        text-align: left;\n",
       "    }\n",
       "\n",
       "    .dataframe thead tr:last-of-type th {\n",
       "        text-align: right;\n",
       "    }\n",
       "</style>\n",
       "<table border=\"1\" class=\"dataframe\">\n",
       "  <thead>\n",
       "    <tr>\n",
       "      <th></th>\n",
       "      <th colspan=\"3\" halign=\"left\">temp_C</th>\n",
       "      <th colspan=\"3\" halign=\"left\">temp_F</th>\n",
       "    </tr>\n",
       "    <tr>\n",
       "      <th>datatype</th>\n",
       "      <th>TMAX</th>\n",
       "      <th>TMIN</th>\n",
       "      <th>TOBS</th>\n",
       "      <th>TMAX</th>\n",
       "      <th>TMIN</th>\n",
       "      <th>TOBS</th>\n",
       "    </tr>\n",
       "    <tr>\n",
       "      <th>date</th>\n",
       "      <th></th>\n",
       "      <th></th>\n",
       "      <th></th>\n",
       "      <th></th>\n",
       "      <th></th>\n",
       "      <th></th>\n",
       "    </tr>\n",
       "  </thead>\n",
       "  <tbody>\n",
       "    <tr>\n",
       "      <th>2018-10-01T00:00:00</th>\n",
       "      <td>21.1</td>\n",
       "      <td>8.9</td>\n",
       "      <td>13.9</td>\n",
       "      <td>69.98</td>\n",
       "      <td>48.02</td>\n",
       "      <td>57.02</td>\n",
       "    </tr>\n",
       "    <tr>\n",
       "      <th>2018-10-02T00:00:00</th>\n",
       "      <td>23.9</td>\n",
       "      <td>13.9</td>\n",
       "      <td>17.2</td>\n",
       "      <td>75.02</td>\n",
       "      <td>57.02</td>\n",
       "      <td>62.96</td>\n",
       "    </tr>\n",
       "    <tr>\n",
       "      <th>2018-10-03T00:00:00</th>\n",
       "      <td>25.0</td>\n",
       "      <td>15.6</td>\n",
       "      <td>16.1</td>\n",
       "      <td>77.00</td>\n",
       "      <td>60.08</td>\n",
       "      <td>60.98</td>\n",
       "    </tr>\n",
       "    <tr>\n",
       "      <th>2018-10-04T00:00:00</th>\n",
       "      <td>22.8</td>\n",
       "      <td>11.7</td>\n",
       "      <td>11.7</td>\n",
       "      <td>73.04</td>\n",
       "      <td>53.06</td>\n",
       "      <td>53.06</td>\n",
       "    </tr>\n",
       "    <tr>\n",
       "      <th>2018-10-05T00:00:00</th>\n",
       "      <td>23.3</td>\n",
       "      <td>11.7</td>\n",
       "      <td>18.9</td>\n",
       "      <td>73.94</td>\n",
       "      <td>53.06</td>\n",
       "      <td>66.02</td>\n",
       "    </tr>\n",
       "  </tbody>\n",
       "</table>\n",
       "</div>"
      ],
      "text/plain": [
       "                    temp_C             temp_F              \n",
       "datatype              TMAX  TMIN  TOBS   TMAX   TMIN   TOBS\n",
       "date                                                       \n",
       "2018-10-01T00:00:00   21.1   8.9  13.9  69.98  48.02  57.02\n",
       "2018-10-02T00:00:00   23.9  13.9  17.2  75.02  57.02  62.96\n",
       "2018-10-03T00:00:00   25.0  15.6  16.1  77.00  60.08  60.98\n",
       "2018-10-04T00:00:00   22.8  11.7  11.7  73.04  53.06  53.06\n",
       "2018-10-05T00:00:00   23.3  11.7  18.9  73.94  53.06  66.02"
      ]
     },
     "execution_count": 10,
     "metadata": {},
     "output_type": "execute_result"
    }
   ],
   "source": [
    "pivot_df = long_data.pivot(\n",
    "    index='date', \n",
    "    columns='datatype',\n",
    "    values=['temp_C', 'temp_F']\n",
    ")\n",
    "pivot_df.head()"
   ]
  },
  {
   "cell_type": "markdown",
   "metadata": {
    "pycharm": {
     "name": "#%% md\n"
    }
   },
   "source": [
    "We now have two of each column name, one under Celcius, and one under Fahrenheit. Under this structure, Each higher column name actually returns a dataframe."
   ]
  },
  {
   "cell_type": "code",
   "execution_count": 11,
   "metadata": {
    "pycharm": {
     "name": "#%%\n"
    }
   },
   "outputs": [
    {
     "data": {
      "text/html": [
       "<div>\n",
       "<style scoped>\n",
       "    .dataframe tbody tr th:only-of-type {\n",
       "        vertical-align: middle;\n",
       "    }\n",
       "\n",
       "    .dataframe tbody tr th {\n",
       "        vertical-align: top;\n",
       "    }\n",
       "\n",
       "    .dataframe thead th {\n",
       "        text-align: right;\n",
       "    }\n",
       "</style>\n",
       "<table border=\"1\" class=\"dataframe\">\n",
       "  <thead>\n",
       "    <tr style=\"text-align: right;\">\n",
       "      <th>datatype</th>\n",
       "      <th>TMAX</th>\n",
       "      <th>TMIN</th>\n",
       "      <th>TOBS</th>\n",
       "    </tr>\n",
       "    <tr>\n",
       "      <th>date</th>\n",
       "      <th></th>\n",
       "      <th></th>\n",
       "      <th></th>\n",
       "    </tr>\n",
       "  </thead>\n",
       "  <tbody>\n",
       "    <tr>\n",
       "      <th>2018-10-01T00:00:00</th>\n",
       "      <td>21.1</td>\n",
       "      <td>8.9</td>\n",
       "      <td>13.9</td>\n",
       "    </tr>\n",
       "    <tr>\n",
       "      <th>2018-10-02T00:00:00</th>\n",
       "      <td>23.9</td>\n",
       "      <td>13.9</td>\n",
       "      <td>17.2</td>\n",
       "    </tr>\n",
       "    <tr>\n",
       "      <th>2018-10-03T00:00:00</th>\n",
       "      <td>25.0</td>\n",
       "      <td>15.6</td>\n",
       "      <td>16.1</td>\n",
       "    </tr>\n",
       "    <tr>\n",
       "      <th>2018-10-04T00:00:00</th>\n",
       "      <td>22.8</td>\n",
       "      <td>11.7</td>\n",
       "      <td>11.7</td>\n",
       "    </tr>\n",
       "    <tr>\n",
       "      <th>2018-10-05T00:00:00</th>\n",
       "      <td>23.3</td>\n",
       "      <td>11.7</td>\n",
       "      <td>18.9</td>\n",
       "    </tr>\n",
       "  </tbody>\n",
       "</table>\n",
       "</div>"
      ],
      "text/plain": [
       "datatype             TMAX  TMIN  TOBS\n",
       "date                                 \n",
       "2018-10-01T00:00:00  21.1   8.9  13.9\n",
       "2018-10-02T00:00:00  23.9  13.9  17.2\n",
       "2018-10-03T00:00:00  25.0  15.6  16.1\n",
       "2018-10-04T00:00:00  22.8  11.7  11.7\n",
       "2018-10-05T00:00:00  23.3  11.7  18.9"
      ]
     },
     "execution_count": 11,
     "metadata": {},
     "output_type": "execute_result"
    }
   ],
   "source": [
    "pivot_df['temp_C'].head()"
   ]
  },
  {
   "cell_type": "markdown",
   "metadata": {
    "pycharm": {
     "name": "#%% md\n"
    }
   },
   "source": [
    "Therefore, in order to reference any single column, we need to provide (what looks like) two column names. "
   ]
  },
  {
   "cell_type": "code",
   "execution_count": 12,
   "metadata": {
    "pycharm": {
     "name": "#%%\n"
    }
   },
   "outputs": [
    {
     "data": {
      "text/plain": [
       "date\n",
       "2018-10-01T00:00:00    21.1\n",
       "2018-10-02T00:00:00    23.9\n",
       "2018-10-03T00:00:00    25.0\n",
       "2018-10-04T00:00:00    22.8\n",
       "2018-10-05T00:00:00    23.3\n",
       "Name: TMAX, dtype: float64"
      ]
     },
     "execution_count": 12,
     "metadata": {},
     "output_type": "execute_result"
    }
   ],
   "source": [
    "pivot_df['temp_C']['TMAX'].head()"
   ]
  },
  {
   "cell_type": "code",
   "execution_count": 13,
   "metadata": {
    "pycharm": {
     "name": "#%%\n"
    }
   },
   "outputs": [
    {
     "data": {
      "text/plain": [
       "date\n",
       "2018-10-01T00:00:00    21.1\n",
       "2018-10-02T00:00:00    23.9\n",
       "2018-10-03T00:00:00    25.0\n",
       "2018-10-04T00:00:00    22.8\n",
       "2018-10-05T00:00:00    23.3\n",
       "Name: TMAX, dtype: float64"
      ]
     },
     "execution_count": 13,
     "metadata": {},
     "output_type": "execute_result"
    }
   ],
   "source": [
    "pivot_df.temp_C.TMAX.head()"
   ]
  },
  {
   "cell_type": "markdown",
   "metadata": {
    "pycharm": {
     "name": "#%% md\n"
    }
   },
   "source": [
    "### Multi-Index\n",
    "Pandas also allows for option to provide multiple indices for a particular row, just like we have provided multiple indices for a column (remember, column headers are actually treated as index objects). To utilize this, we call the familiar `set_index` object, and pass in multiple columns, in the order that they should be grouped. "
   ]
  },
  {
   "cell_type": "code",
   "execution_count": 14,
   "metadata": {
    "pycharm": {
     "name": "#%%\n"
    }
   },
   "outputs": [
    {
     "data": {
      "text/html": [
       "<div>\n",
       "<style scoped>\n",
       "    .dataframe tbody tr th:only-of-type {\n",
       "        vertical-align: middle;\n",
       "    }\n",
       "\n",
       "    .dataframe tbody tr th {\n",
       "        vertical-align: top;\n",
       "    }\n",
       "\n",
       "    .dataframe thead th {\n",
       "        text-align: right;\n",
       "    }\n",
       "</style>\n",
       "<table border=\"1\" class=\"dataframe\">\n",
       "  <thead>\n",
       "    <tr style=\"text-align: right;\">\n",
       "      <th></th>\n",
       "      <th></th>\n",
       "      <th>temp_C</th>\n",
       "      <th>temp_F</th>\n",
       "    </tr>\n",
       "    <tr>\n",
       "      <th>date</th>\n",
       "      <th>datatype</th>\n",
       "      <th></th>\n",
       "      <th></th>\n",
       "    </tr>\n",
       "  </thead>\n",
       "  <tbody>\n",
       "    <tr>\n",
       "      <th rowspan=\"3\" valign=\"top\">2018-10-01T00:00:00</th>\n",
       "      <th>TMAX</th>\n",
       "      <td>21.1</td>\n",
       "      <td>69.98</td>\n",
       "    </tr>\n",
       "    <tr>\n",
       "      <th>TMIN</th>\n",
       "      <td>8.9</td>\n",
       "      <td>48.02</td>\n",
       "    </tr>\n",
       "    <tr>\n",
       "      <th>TOBS</th>\n",
       "      <td>13.9</td>\n",
       "      <td>57.02</td>\n",
       "    </tr>\n",
       "    <tr>\n",
       "      <th rowspan=\"3\" valign=\"top\">2018-10-02T00:00:00</th>\n",
       "      <th>TMAX</th>\n",
       "      <td>23.9</td>\n",
       "      <td>75.02</td>\n",
       "    </tr>\n",
       "    <tr>\n",
       "      <th>TMIN</th>\n",
       "      <td>13.9</td>\n",
       "      <td>57.02</td>\n",
       "    </tr>\n",
       "    <tr>\n",
       "      <th>TOBS</th>\n",
       "      <td>17.2</td>\n",
       "      <td>62.96</td>\n",
       "    </tr>\n",
       "  </tbody>\n",
       "</table>\n",
       "</div>"
      ],
      "text/plain": [
       "                              temp_C  temp_F\n",
       "date                datatype                \n",
       "2018-10-01T00:00:00 TMAX        21.1   69.98\n",
       "                    TMIN         8.9   48.02\n",
       "                    TOBS        13.9   57.02\n",
       "2018-10-02T00:00:00 TMAX        23.9   75.02\n",
       "                    TMIN        13.9   57.02\n",
       "                    TOBS        17.2   62.96"
      ]
     },
     "execution_count": 14,
     "metadata": {},
     "output_type": "execute_result"
    }
   ],
   "source": [
    "multi_index_df = long_data.set_index(['date', 'datatype'])\n",
    "multi_index_df.head(6)"
   ]
  },
  {
   "cell_type": "markdown",
   "metadata": {
    "pycharm": {
     "name": "#%% md\n"
    }
   },
   "source": [
    "Here we have grouped the rows together based on the date, and have the `datatype` column as a second index. However, this is still our long format. Additionally, the `pivot` method expects a dataframe with only one index. To achieve a similar table as `pivot`, we can use the `unstack` method, which removes all layers of your multi-index and turns the into columns. Essentially, picture as if we have stacked the values on top of each other, and we are now unstacking them, and laying them all out into a single row. "
   ]
  },
  {
   "cell_type": "code",
   "execution_count": 15,
   "metadata": {
    "pycharm": {
     "name": "#%%\n"
    }
   },
   "outputs": [
    {
     "data": {
      "text/html": [
       "<div>\n",
       "<style scoped>\n",
       "    .dataframe tbody tr th:only-of-type {\n",
       "        vertical-align: middle;\n",
       "    }\n",
       "\n",
       "    .dataframe tbody tr th {\n",
       "        vertical-align: top;\n",
       "    }\n",
       "\n",
       "    .dataframe thead tr th {\n",
       "        text-align: left;\n",
       "    }\n",
       "\n",
       "    .dataframe thead tr:last-of-type th {\n",
       "        text-align: right;\n",
       "    }\n",
       "</style>\n",
       "<table border=\"1\" class=\"dataframe\">\n",
       "  <thead>\n",
       "    <tr>\n",
       "      <th></th>\n",
       "      <th colspan=\"3\" halign=\"left\">temp_C</th>\n",
       "      <th colspan=\"3\" halign=\"left\">temp_F</th>\n",
       "    </tr>\n",
       "    <tr>\n",
       "      <th>datatype</th>\n",
       "      <th>TMAX</th>\n",
       "      <th>TMIN</th>\n",
       "      <th>TOBS</th>\n",
       "      <th>TMAX</th>\n",
       "      <th>TMIN</th>\n",
       "      <th>TOBS</th>\n",
       "    </tr>\n",
       "    <tr>\n",
       "      <th>date</th>\n",
       "      <th></th>\n",
       "      <th></th>\n",
       "      <th></th>\n",
       "      <th></th>\n",
       "      <th></th>\n",
       "      <th></th>\n",
       "    </tr>\n",
       "  </thead>\n",
       "  <tbody>\n",
       "    <tr>\n",
       "      <th>2018-10-01T00:00:00</th>\n",
       "      <td>21.1</td>\n",
       "      <td>8.9</td>\n",
       "      <td>13.9</td>\n",
       "      <td>69.98</td>\n",
       "      <td>48.02</td>\n",
       "      <td>57.02</td>\n",
       "    </tr>\n",
       "    <tr>\n",
       "      <th>2018-10-02T00:00:00</th>\n",
       "      <td>23.9</td>\n",
       "      <td>13.9</td>\n",
       "      <td>17.2</td>\n",
       "      <td>75.02</td>\n",
       "      <td>57.02</td>\n",
       "      <td>62.96</td>\n",
       "    </tr>\n",
       "    <tr>\n",
       "      <th>2018-10-03T00:00:00</th>\n",
       "      <td>25.0</td>\n",
       "      <td>15.6</td>\n",
       "      <td>16.1</td>\n",
       "      <td>77.00</td>\n",
       "      <td>60.08</td>\n",
       "      <td>60.98</td>\n",
       "    </tr>\n",
       "    <tr>\n",
       "      <th>2018-10-04T00:00:00</th>\n",
       "      <td>22.8</td>\n",
       "      <td>11.7</td>\n",
       "      <td>11.7</td>\n",
       "      <td>73.04</td>\n",
       "      <td>53.06</td>\n",
       "      <td>53.06</td>\n",
       "    </tr>\n",
       "    <tr>\n",
       "      <th>2018-10-05T00:00:00</th>\n",
       "      <td>23.3</td>\n",
       "      <td>11.7</td>\n",
       "      <td>18.9</td>\n",
       "      <td>73.94</td>\n",
       "      <td>53.06</td>\n",
       "      <td>66.02</td>\n",
       "    </tr>\n",
       "  </tbody>\n",
       "</table>\n",
       "</div>"
      ],
      "text/plain": [
       "                    temp_C             temp_F              \n",
       "datatype              TMAX  TMIN  TOBS   TMAX   TMIN   TOBS\n",
       "date                                                       \n",
       "2018-10-01T00:00:00   21.1   8.9  13.9  69.98  48.02  57.02\n",
       "2018-10-02T00:00:00   23.9  13.9  17.2  75.02  57.02  62.96\n",
       "2018-10-03T00:00:00   25.0  15.6  16.1  77.00  60.08  60.98\n",
       "2018-10-04T00:00:00   22.8  11.7  11.7  73.04  53.06  53.06\n",
       "2018-10-05T00:00:00   23.3  11.7  18.9  73.94  53.06  66.02"
      ]
     },
     "execution_count": 15,
     "metadata": {},
     "output_type": "execute_result"
    }
   ],
   "source": [
    "unstacked_df = multi_index_df.unstack()\n",
    "unstacked_df.head()"
   ]
  },
  {
   "cell_type": "markdown",
   "metadata": {
    "pycharm": {
     "name": "#%% md\n"
    }
   },
   "source": [
    "### Melting DataFrames\n",
    "Melting is the inverse action of a pivot. A pivot takes rows and combines them into a single column, melting a dataframe takes the columns of a dataframe and converts them into rows. By calling the method `melt`, we can pass in the arguments: \n",
    "- `id_vars`: which columns uniquely identify a row\n",
    "- `value_vars`: which columns contains values\n",
    "- `var_name`: what to name the column with the column names (default is `variable`)\n",
    "- `value_name`: what to name the column with the values of those columns (default is `value`)"
   ]
  },
  {
   "cell_type": "code",
   "execution_count": 16,
   "metadata": {
    "pycharm": {
     "name": "#%%\n"
    }
   },
   "outputs": [
    {
     "data": {
      "text/html": [
       "<div>\n",
       "<style scoped>\n",
       "    .dataframe tbody tr th:only-of-type {\n",
       "        vertical-align: middle;\n",
       "    }\n",
       "\n",
       "    .dataframe tbody tr th {\n",
       "        vertical-align: top;\n",
       "    }\n",
       "\n",
       "    .dataframe thead th {\n",
       "        text-align: right;\n",
       "    }\n",
       "</style>\n",
       "<table border=\"1\" class=\"dataframe\">\n",
       "  <thead>\n",
       "    <tr style=\"text-align: right;\">\n",
       "      <th></th>\n",
       "      <th>date</th>\n",
       "      <th>measurement</th>\n",
       "      <th>temp_C</th>\n",
       "    </tr>\n",
       "  </thead>\n",
       "  <tbody>\n",
       "    <tr>\n",
       "      <th>0</th>\n",
       "      <td>2018-10-01</td>\n",
       "      <td>TMAX</td>\n",
       "      <td>21.1</td>\n",
       "    </tr>\n",
       "    <tr>\n",
       "      <th>1</th>\n",
       "      <td>2018-10-02</td>\n",
       "      <td>TMAX</td>\n",
       "      <td>23.9</td>\n",
       "    </tr>\n",
       "    <tr>\n",
       "      <th>2</th>\n",
       "      <td>2018-10-03</td>\n",
       "      <td>TMAX</td>\n",
       "      <td>25.0</td>\n",
       "    </tr>\n",
       "    <tr>\n",
       "      <th>3</th>\n",
       "      <td>2018-10-04</td>\n",
       "      <td>TMAX</td>\n",
       "      <td>22.8</td>\n",
       "    </tr>\n",
       "    <tr>\n",
       "      <th>4</th>\n",
       "      <td>2018-10-05</td>\n",
       "      <td>TMAX</td>\n",
       "      <td>23.3</td>\n",
       "    </tr>\n",
       "  </tbody>\n",
       "</table>\n",
       "</div>"
      ],
      "text/plain": [
       "         date measurement  temp_C\n",
       "0  2018-10-01        TMAX    21.1\n",
       "1  2018-10-02        TMAX    23.9\n",
       "2  2018-10-03        TMAX    25.0\n",
       "3  2018-10-04        TMAX    22.8\n",
       "4  2018-10-05        TMAX    23.3"
      ]
     },
     "execution_count": 16,
     "metadata": {},
     "output_type": "execute_result"
    }
   ],
   "source": [
    "melted_df = wide_data.melt(\n",
    "    id_vars='date',\n",
    "    value_vars=['TMAX', 'TMIN', 'TOBS'],\n",
    "    value_name='temp_C',\n",
    "    var_name='measurement'\n",
    ")\n",
    "melted_df.head()"
   ]
  },
  {
   "cell_type": "markdown",
   "metadata": {
    "pycharm": {
     "name": "#%% md\n"
    }
   },
   "source": [
    "Alternatively, we have the inverse of `unstack`, being `stack`. This will take the columns and stack them together, creating a multi-index in the process. "
   ]
  },
  {
   "cell_type": "code",
   "execution_count": 17,
   "metadata": {
    "pycharm": {
     "name": "#%%\n"
    }
   },
   "outputs": [],
   "source": [
    "stacked_series = wide_data.set_index('date').stack()"
   ]
  },
  {
   "cell_type": "code",
   "execution_count": 18,
   "metadata": {
    "pycharm": {
     "name": "#%%\n"
    }
   },
   "outputs": [
    {
     "data": {
      "text/plain": [
       "date            \n",
       "2018-10-01  TMAX    21.1\n",
       "            TMIN     8.9\n",
       "            TOBS    13.9\n",
       "2018-10-02  TMAX    23.9\n",
       "            TMIN    13.9\n",
       "dtype: float64"
      ]
     },
     "execution_count": 18,
     "metadata": {},
     "output_type": "execute_result"
    }
   ],
   "source": [
    "stacked_series.head()"
   ]
  },
  {
   "cell_type": "markdown",
   "metadata": {
    "pycharm": {
     "name": "#%% md\n"
    }
   },
   "source": [
    "Upon inspection, we would see that this object is a series, not a dataframe. We can easily change this by calling `to_frame` and passing in the name of the column."
   ]
  },
  {
   "cell_type": "code",
   "execution_count": 19,
   "metadata": {
    "pycharm": {
     "name": "#%%\n"
    }
   },
   "outputs": [],
   "source": [
    "stacked_df = stacked_series.to_frame('values')"
   ]
  },
  {
   "cell_type": "code",
   "execution_count": 20,
   "metadata": {
    "pycharm": {
     "name": "#%%\n"
    }
   },
   "outputs": [
    {
     "data": {
      "text/html": [
       "<div>\n",
       "<style scoped>\n",
       "    .dataframe tbody tr th:only-of-type {\n",
       "        vertical-align: middle;\n",
       "    }\n",
       "\n",
       "    .dataframe tbody tr th {\n",
       "        vertical-align: top;\n",
       "    }\n",
       "\n",
       "    .dataframe thead th {\n",
       "        text-align: right;\n",
       "    }\n",
       "</style>\n",
       "<table border=\"1\" class=\"dataframe\">\n",
       "  <thead>\n",
       "    <tr style=\"text-align: right;\">\n",
       "      <th></th>\n",
       "      <th></th>\n",
       "      <th>values</th>\n",
       "    </tr>\n",
       "    <tr>\n",
       "      <th>date</th>\n",
       "      <th></th>\n",
       "      <th></th>\n",
       "    </tr>\n",
       "  </thead>\n",
       "  <tbody>\n",
       "    <tr>\n",
       "      <th rowspan=\"3\" valign=\"top\">2018-10-01</th>\n",
       "      <th>TMAX</th>\n",
       "      <td>21.1</td>\n",
       "    </tr>\n",
       "    <tr>\n",
       "      <th>TMIN</th>\n",
       "      <td>8.9</td>\n",
       "    </tr>\n",
       "    <tr>\n",
       "      <th>TOBS</th>\n",
       "      <td>13.9</td>\n",
       "    </tr>\n",
       "    <tr>\n",
       "      <th rowspan=\"2\" valign=\"top\">2018-10-02</th>\n",
       "      <th>TMAX</th>\n",
       "      <td>23.9</td>\n",
       "    </tr>\n",
       "    <tr>\n",
       "      <th>TMIN</th>\n",
       "      <td>13.9</td>\n",
       "    </tr>\n",
       "  </tbody>\n",
       "</table>\n",
       "</div>"
      ],
      "text/plain": [
       "                 values\n",
       "date                   \n",
       "2018-10-01 TMAX    21.1\n",
       "           TMIN     8.9\n",
       "           TOBS    13.9\n",
       "2018-10-02 TMAX    23.9\n",
       "           TMIN    13.9"
      ]
     },
     "execution_count": 20,
     "metadata": {},
     "output_type": "execute_result"
    }
   ],
   "source": [
    "stacked_df.head()"
   ]
  },
  {
   "cell_type": "markdown",
   "metadata": {
    "pycharm": {
     "name": "#%% md\n"
    }
   },
   "source": [
    "As it stands, this dataframe has a multi-level index, however, the second layer index does not have a name. "
   ]
  },
  {
   "cell_type": "code",
   "execution_count": 21,
   "metadata": {
    "pycharm": {
     "name": "#%%\n"
    }
   },
   "outputs": [
    {
     "data": {
      "text/plain": [
       "MultiIndex([('2018-10-01', 'TMAX'),\n",
       "            ('2018-10-01', 'TMIN'),\n",
       "            ('2018-10-01', 'TOBS'),\n",
       "            ('2018-10-02', 'TMAX'),\n",
       "            ('2018-10-02', 'TMIN'),\n",
       "            ('2018-10-02', 'TOBS'),\n",
       "            ('2018-10-03', 'TMAX'),\n",
       "            ('2018-10-03', 'TMIN'),\n",
       "            ('2018-10-03', 'TOBS'),\n",
       "            ('2018-10-04', 'TMAX'),\n",
       "            ('2018-10-04', 'TMIN'),\n",
       "            ('2018-10-04', 'TOBS'),\n",
       "            ('2018-10-05', 'TMAX'),\n",
       "            ('2018-10-05', 'TMIN'),\n",
       "            ('2018-10-05', 'TOBS'),\n",
       "            ('2018-10-06', 'TMAX'),\n",
       "            ('2018-10-06', 'TMIN'),\n",
       "            ('2018-10-06', 'TOBS'),\n",
       "            ('2018-10-07', 'TMAX'),\n",
       "            ('2018-10-07', 'TMIN'),\n",
       "            ('2018-10-07', 'TOBS'),\n",
       "            ('2018-10-08', 'TMAX'),\n",
       "            ('2018-10-08', 'TMIN'),\n",
       "            ('2018-10-08', 'TOBS'),\n",
       "            ('2018-10-09', 'TMAX'),\n",
       "            ('2018-10-09', 'TMIN'),\n",
       "            ('2018-10-09', 'TOBS'),\n",
       "            ('2018-10-10', 'TMAX'),\n",
       "            ('2018-10-10', 'TMIN'),\n",
       "            ('2018-10-10', 'TOBS'),\n",
       "            ('2018-10-11', 'TMAX'),\n",
       "            ('2018-10-11', 'TMIN'),\n",
       "            ('2018-10-11', 'TOBS'),\n",
       "            ('2018-10-12', 'TMAX'),\n",
       "            ('2018-10-12', 'TMIN'),\n",
       "            ('2018-10-12', 'TOBS'),\n",
       "            ('2018-10-13', 'TMAX'),\n",
       "            ('2018-10-13', 'TMIN'),\n",
       "            ('2018-10-13', 'TOBS'),\n",
       "            ('2018-10-14', 'TMAX'),\n",
       "            ('2018-10-14', 'TMIN'),\n",
       "            ('2018-10-14', 'TOBS'),\n",
       "            ('2018-10-15', 'TMAX'),\n",
       "            ('2018-10-15', 'TMIN'),\n",
       "            ('2018-10-15', 'TOBS'),\n",
       "            ('2018-10-16', 'TMAX'),\n",
       "            ('2018-10-16', 'TMIN'),\n",
       "            ('2018-10-16', 'TOBS'),\n",
       "            ('2018-10-17', 'TMAX'),\n",
       "            ('2018-10-17', 'TMIN'),\n",
       "            ('2018-10-17', 'TOBS'),\n",
       "            ('2018-10-18', 'TMAX'),\n",
       "            ('2018-10-18', 'TMIN'),\n",
       "            ('2018-10-18', 'TOBS'),\n",
       "            ('2018-10-19', 'TMAX'),\n",
       "            ('2018-10-19', 'TMIN'),\n",
       "            ('2018-10-19', 'TOBS'),\n",
       "            ('2018-10-20', 'TMAX'),\n",
       "            ('2018-10-20', 'TMIN'),\n",
       "            ('2018-10-20', 'TOBS'),\n",
       "            ('2018-10-21', 'TMAX'),\n",
       "            ('2018-10-21', 'TMIN'),\n",
       "            ('2018-10-21', 'TOBS'),\n",
       "            ('2018-10-22', 'TMAX'),\n",
       "            ('2018-10-22', 'TMIN'),\n",
       "            ('2018-10-22', 'TOBS'),\n",
       "            ('2018-10-23', 'TMAX'),\n",
       "            ('2018-10-23', 'TMIN'),\n",
       "            ('2018-10-23', 'TOBS'),\n",
       "            ('2018-10-24', 'TMAX'),\n",
       "            ('2018-10-24', 'TMIN'),\n",
       "            ('2018-10-24', 'TOBS'),\n",
       "            ('2018-10-25', 'TMAX'),\n",
       "            ('2018-10-25', 'TMIN'),\n",
       "            ('2018-10-25', 'TOBS'),\n",
       "            ('2018-10-26', 'TMAX'),\n",
       "            ('2018-10-26', 'TMIN'),\n",
       "            ('2018-10-26', 'TOBS'),\n",
       "            ('2018-10-27', 'TMAX'),\n",
       "            ('2018-10-27', 'TMIN'),\n",
       "            ('2018-10-27', 'TOBS'),\n",
       "            ('2018-10-28', 'TMAX'),\n",
       "            ('2018-10-28', 'TMIN'),\n",
       "            ('2018-10-28', 'TOBS'),\n",
       "            ('2018-10-29', 'TMAX'),\n",
       "            ('2018-10-29', 'TMIN'),\n",
       "            ('2018-10-29', 'TOBS'),\n",
       "            ('2018-10-30', 'TMAX'),\n",
       "            ('2018-10-30', 'TMIN'),\n",
       "            ('2018-10-30', 'TOBS'),\n",
       "            ('2018-10-31', 'TMAX'),\n",
       "            ('2018-10-31', 'TMIN'),\n",
       "            ('2018-10-31', 'TOBS')],\n",
       "           names=['date', None])"
      ]
     },
     "execution_count": 21,
     "metadata": {},
     "output_type": "execute_result"
    }
   ],
   "source": [
    "stacked_df.index"
   ]
  },
  {
   "cell_type": "markdown",
   "metadata": {
    "pycharm": {
     "name": "#%% md\n"
    }
   },
   "source": [
    "We can rename that index by intuitive method calls.  "
   ]
  },
  {
   "cell_type": "code",
   "execution_count": 22,
   "metadata": {
    "pycharm": {
     "name": "#%%\n"
    }
   },
   "outputs": [
    {
     "data": {
      "text/plain": [
       "FrozenList(['date', 'datatype'])"
      ]
     },
     "execution_count": 22,
     "metadata": {},
     "output_type": "execute_result"
    }
   ],
   "source": [
    "stacked_df.index.rename(['date', 'datatype'], inplace=True)\n",
    "stacked_df.index.names"
   ]
  },
  {
   "cell_type": "code",
   "execution_count": 23,
   "metadata": {
    "pycharm": {
     "name": "#%%\n"
    }
   },
   "outputs": [
    {
     "data": {
      "text/html": [
       "<div>\n",
       "<style scoped>\n",
       "    .dataframe tbody tr th:only-of-type {\n",
       "        vertical-align: middle;\n",
       "    }\n",
       "\n",
       "    .dataframe tbody tr th {\n",
       "        vertical-align: top;\n",
       "    }\n",
       "\n",
       "    .dataframe thead th {\n",
       "        text-align: right;\n",
       "    }\n",
       "</style>\n",
       "<table border=\"1\" class=\"dataframe\">\n",
       "  <thead>\n",
       "    <tr style=\"text-align: right;\">\n",
       "      <th></th>\n",
       "      <th></th>\n",
       "      <th>values</th>\n",
       "    </tr>\n",
       "    <tr>\n",
       "      <th>date</th>\n",
       "      <th>datatype</th>\n",
       "      <th></th>\n",
       "    </tr>\n",
       "  </thead>\n",
       "  <tbody>\n",
       "    <tr>\n",
       "      <th rowspan=\"3\" valign=\"top\">2018-10-01</th>\n",
       "      <th>TMAX</th>\n",
       "      <td>21.1</td>\n",
       "    </tr>\n",
       "    <tr>\n",
       "      <th>TMIN</th>\n",
       "      <td>8.9</td>\n",
       "    </tr>\n",
       "    <tr>\n",
       "      <th>TOBS</th>\n",
       "      <td>13.9</td>\n",
       "    </tr>\n",
       "    <tr>\n",
       "      <th rowspan=\"2\" valign=\"top\">2018-10-02</th>\n",
       "      <th>TMAX</th>\n",
       "      <td>23.9</td>\n",
       "    </tr>\n",
       "    <tr>\n",
       "      <th>TMIN</th>\n",
       "      <td>13.9</td>\n",
       "    </tr>\n",
       "  </tbody>\n",
       "</table>\n",
       "</div>"
      ],
      "text/plain": [
       "                     values\n",
       "date       datatype        \n",
       "2018-10-01 TMAX        21.1\n",
       "           TMIN         8.9\n",
       "           TOBS        13.9\n",
       "2018-10-02 TMAX        23.9\n",
       "           TMIN        13.9"
      ]
     },
     "execution_count": 23,
     "metadata": {},
     "output_type": "execute_result"
    }
   ],
   "source": [
    "stacked_df.head()"
   ]
  },
  {
   "cell_type": "code",
   "execution_count": null,
   "metadata": {
    "pycharm": {
     "name": "#%%\n"
    }
   },
   "outputs": [],
   "source": []
  }
 ],
 "metadata": {
  "kernelspec": {
   "display_name": "Python 3.10.4 ('python-class')",
   "language": "python",
   "name": "python3"
  },
  "language_info": {
   "codemirror_mode": {
    "name": "ipython",
    "version": 3
   },
   "file_extension": ".py",
   "mimetype": "text/x-python",
   "name": "python",
   "nbconvert_exporter": "python",
   "pygments_lexer": "ipython3",
   "version": "3.10.4"
  },
  "orig_nbformat": 4,
  "vscode": {
   "interpreter": {
    "hash": "e752113259d940eb6cdb8266b4e01ccb99aaf19dbc554f03106f5f3ed78ae61f"
   }
  }
 },
 "nbformat": 4,
 "nbformat_minor": 2
}