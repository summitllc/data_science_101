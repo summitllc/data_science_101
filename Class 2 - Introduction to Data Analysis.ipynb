{
 "cells": [
  {
   "attachments": {
    "22df3f8d-5c5f-4dc9-ba35-e3148ae20b16.png": {
     "image/png": "[encoded data removed]"
    }
   },
   "cell_type": "markdown",
   "id": "1aa270a0-5b04-4dee-85b7-1971e2e5fcd4",
   "metadata": {
    "tags": [],
    "pycharm": {
     "name": "#%% md\n"
    }
   },
   "source": [
    "# Introduction to Data Analysis\n",
    "The second main topic of this course is Data Analysis. We first talk about some basic steps of data analysis and what a bit about what those steps involve. In this notebook, I do not plan to explain all the details of how to execute this process in pandas, only use pandas to showcase that the functionality exists in pandas.\n",
    "## Fundamentals of Data analysis\n",
    "The following diagram depicts a common workflow for data analysis.  \n",
    "\n",
    "![data analysis flow chart.png](attachment:22df3f8d-5c5f-4dc9-ba35-e3148ae20b16.png)\n",
    "\n",
    "*Image credits: (Molin, 2019)*\n",
    "\n",
    "### Data Collection\n",
    "The first step in any data analysis process should be data collection. There are many sources from which to collect data. These different sources will also take different formats. Some questions you will have to ask yourself are \n",
    "- What questions am I trying to answer? \n",
    "- Who has the data that can answers those questions?\n",
    "- How was the data collected? \n",
    "- What kind of changes need to be made to fit my needs?\n",
    "- How do I access The\n",
    "\n",
    "Answering these questions will help you determine what data to access and how to gather it.\n",
    "\n",
    "Once your at the step of actually gathering the data, python has a variety of tools to get that data into your code. For web scraping (e.g. pulling tables from html pages like wiki sites) you have libraries like `requests` and `beautifulsoup`. Querying Databases can be performed using database specific packages, `SQLAlchemy` or even `pandas`. The `requests` library is also useful when receiving data from from an Application Programming Interface (API). Sometimes, you will simply find the data you need as a downloadable file (commonly a `csv` filetype). \n",
    "\n",
    "Let's show an example by downloading some COVID-19 data made available by the [New York Times (2021)](https://github.com/nytimes/covid-19-data)."
   ]
  },
  {
   "cell_type": "code",
   "execution_count": 1,
   "id": "ea283751-2f30-4259-aa30-36a218a13775",
   "metadata": {
    "pycharm": {
     "name": "#%%\n"
    }
   },
   "outputs": [],
   "source": [
    "import pandas as pd"
   ]
  },
  {
   "cell_type": "code",
   "execution_count": 2,
   "id": "27817f96-3010-48a2-8001-bd61ab8bc073",
   "metadata": {
    "pycharm": {
     "name": "#%%\n"
    }
   },
   "outputs": [
    {
     "data": {
      "text/html": [
       "<div>\n",
       "<style scoped>\n",
       "    .dataframe tbody tr th:only-of-type {\n",
       "        vertical-align: middle;\n",
       "    }\n",
       "\n",
       "    .dataframe tbody tr th {\n",
       "        vertical-align: top;\n",
       "    }\n",
       "\n",
       "    .dataframe thead th {\n",
       "        text-align: right;\n",
       "    }\n",
       "</style>\n",
       "<table border=\"1\" class=\"dataframe\">\n",
       "  <thead>\n",
       "    <tr style=\"text-align: right;\">\n",
       "      <th></th>\n",
       "      <th>date</th>\n",
       "      <th>state</th>\n",
       "      <th>fips</th>\n",
       "      <th>cases</th>\n",
       "      <th>deaths</th>\n",
       "    </tr>\n",
       "  </thead>\n",
       "  <tbody>\n",
       "    <tr>\n",
       "      <th>0</th>\n",
       "      <td>2020-01-21</td>\n",
       "      <td>Washington</td>\n",
       "      <td>53</td>\n",
       "      <td>1</td>\n",
       "      <td>0</td>\n",
       "    </tr>\n",
       "    <tr>\n",
       "      <th>1</th>\n",
       "      <td>2020-01-22</td>\n",
       "      <td>Washington</td>\n",
       "      <td>53</td>\n",
       "      <td>1</td>\n",
       "      <td>0</td>\n",
       "    </tr>\n",
       "    <tr>\n",
       "      <th>2</th>\n",
       "      <td>2020-01-23</td>\n",
       "      <td>Washington</td>\n",
       "      <td>53</td>\n",
       "      <td>1</td>\n",
       "      <td>0</td>\n",
       "    </tr>\n",
       "    <tr>\n",
       "      <th>3</th>\n",
       "      <td>2020-01-24</td>\n",
       "      <td>Illinois</td>\n",
       "      <td>17</td>\n",
       "      <td>1</td>\n",
       "      <td>0</td>\n",
       "    </tr>\n",
       "    <tr>\n",
       "      <th>4</th>\n",
       "      <td>2020-01-24</td>\n",
       "      <td>Washington</td>\n",
       "      <td>53</td>\n",
       "      <td>1</td>\n",
       "      <td>0</td>\n",
       "    </tr>\n",
       "    <tr>\n",
       "      <th>...</th>\n",
       "      <td>...</td>\n",
       "      <td>...</td>\n",
       "      <td>...</td>\n",
       "      <td>...</td>\n",
       "      <td>...</td>\n",
       "    </tr>\n",
       "    <tr>\n",
       "      <th>46201</th>\n",
       "      <td>2022-06-15</td>\n",
       "      <td>Virginia</td>\n",
       "      <td>51</td>\n",
       "      <td>1830122</td>\n",
       "      <td>20448</td>\n",
       "    </tr>\n",
       "    <tr>\n",
       "      <th>46202</th>\n",
       "      <td>2022-06-15</td>\n",
       "      <td>Washington</td>\n",
       "      <td>53</td>\n",
       "      <td>1625847</td>\n",
       "      <td>13131</td>\n",
       "    </tr>\n",
       "    <tr>\n",
       "      <th>46203</th>\n",
       "      <td>2022-06-15</td>\n",
       "      <td>West Virginia</td>\n",
       "      <td>54</td>\n",
       "      <td>524432</td>\n",
       "      <td>7016</td>\n",
       "    </tr>\n",
       "    <tr>\n",
       "      <th>46204</th>\n",
       "      <td>2022-06-15</td>\n",
       "      <td>Wisconsin</td>\n",
       "      <td>55</td>\n",
       "      <td>1703203</td>\n",
       "      <td>14711</td>\n",
       "    </tr>\n",
       "    <tr>\n",
       "      <th>46205</th>\n",
       "      <td>2022-06-15</td>\n",
       "      <td>Wyoming</td>\n",
       "      <td>56</td>\n",
       "      <td>162160</td>\n",
       "      <td>1824</td>\n",
       "    </tr>\n",
       "  </tbody>\n",
       "</table>\n",
       "<p>46206 rows × 5 columns</p>\n",
       "</div>"
      ],
      "text/plain": [
       "             date          state  fips    cases  deaths\n",
       "0      2020-01-21     Washington    53        1       0\n",
       "1      2020-01-22     Washington    53        1       0\n",
       "2      2020-01-23     Washington    53        1       0\n",
       "3      2020-01-24       Illinois    17        1       0\n",
       "4      2020-01-24     Washington    53        1       0\n",
       "...           ...            ...   ...      ...     ...\n",
       "46201  2022-06-15       Virginia    51  1830122   20448\n",
       "46202  2022-06-15     Washington    53  1625847   13131\n",
       "46203  2022-06-15  West Virginia    54   524432    7016\n",
       "46204  2022-06-15      Wisconsin    55  1703203   14711\n",
       "46205  2022-06-15        Wyoming    56   162160    1824\n",
       "\n",
       "[46206 rows x 5 columns]"
      ]
     },
     "execution_count": 2,
     "metadata": {},
     "output_type": "execute_result"
    }
   ],
   "source": [
    "url = \"https://raw.githubusercontent.com/nytimes/covid-19-data/master/us-states.csv\"\n",
    "table = pd.read_csv(url)\n",
    "table"
   ]
  },
  {
   "cell_type": "markdown",
   "id": "4668ba61-4f8d-4452-8ebd-c59cb04f7320",
   "metadata": {
    "tags": [],
    "pycharm": {
     "name": "#%% md\n"
    }
   },
   "source": [
    "It is also important to read whatever documentation that comes with your data. For example, the source hosts data at different geographic resoutions ranging from individual counties all the way up to country-wide. We'll take the state as I don't need such a fine grain, but I would like to compare some of the different regions in the United States. It might be important to read up on how they did their counting, or what the different columns mean. This data would be critical in helping me answer the questions I mentioned above.\n",
    "\n",
    "### Data Wrangling\n",
    "Data Wrangling or Data Cleaning is the process of taking the data from an unusable form into one that you can start to answer questions with. This is one of the most critical steps for 2 major reasons. \n",
    "1. It is very likely that you will *not* find the perfect data set that is ready for your use the moment you pick it up. You will likely have to do some reformatting, filtering, or aggregating to get the data to a state in which is is ready to be used for your specific use case. Remember that someone else has likely gathered the data (especially when working at Summit) and had different needs when they gathered the data. \n",
    "2. Many things can happen when collecting (or storing) the data. Human error can cause typos to be recorded in place of the real value. Values may be missing for optional questions on surveys. Unconventional formats may have been used even if the data is correct. All of these things need to be corrected. \n",
    "Even though it may be one of the least enjoyable parts, data wrangling is an absolutely critical step of the process as it allows for more accurate reporting of the data and the underlying trends that can be found in the data. \n",
    "\n",
    "Taking the example above, let's assume that I am only interested in comparing my home state of North Carolina and my current state of Utah. Some cleaning that I might do could involve filtering out any rows that do not report on those two states. "
   ]
  },
  {
   "cell_type": "code",
   "execution_count": 3,
   "id": "aa862712-d7b2-4e00-9994-43bba9894cc9",
   "metadata": {
    "pycharm": {
     "name": "#%%\n"
    }
   },
   "outputs": [
    {
     "data": {
      "text/html": [
       "<div>\n",
       "<style scoped>\n",
       "    .dataframe tbody tr th:only-of-type {\n",
       "        vertical-align: middle;\n",
       "    }\n",
       "\n",
       "    .dataframe tbody tr th {\n",
       "        vertical-align: top;\n",
       "    }\n",
       "\n",
       "    .dataframe thead th {\n",
       "        text-align: right;\n",
       "    }\n",
       "</style>\n",
       "<table border=\"1\" class=\"dataframe\">\n",
       "  <thead>\n",
       "    <tr style=\"text-align: right;\">\n",
       "      <th></th>\n",
       "      <th>date</th>\n",
       "      <th>state</th>\n",
       "      <th>fips</th>\n",
       "      <th>cases</th>\n",
       "      <th>deaths</th>\n",
       "    </tr>\n",
       "  </thead>\n",
       "  <tbody>\n",
       "    <tr>\n",
       "      <th>199</th>\n",
       "      <td>2020-02-25</td>\n",
       "      <td>Utah</td>\n",
       "      <td>49</td>\n",
       "      <td>1</td>\n",
       "      <td>0</td>\n",
       "    </tr>\n",
       "    <tr>\n",
       "      <th>208</th>\n",
       "      <td>2020-02-26</td>\n",
       "      <td>Utah</td>\n",
       "      <td>49</td>\n",
       "      <td>1</td>\n",
       "      <td>0</td>\n",
       "    </tr>\n",
       "    <tr>\n",
       "      <th>217</th>\n",
       "      <td>2020-02-27</td>\n",
       "      <td>Utah</td>\n",
       "      <td>49</td>\n",
       "      <td>1</td>\n",
       "      <td>0</td>\n",
       "    </tr>\n",
       "    <tr>\n",
       "      <th>227</th>\n",
       "      <td>2020-02-28</td>\n",
       "      <td>Utah</td>\n",
       "      <td>49</td>\n",
       "      <td>1</td>\n",
       "      <td>0</td>\n",
       "    </tr>\n",
       "    <tr>\n",
       "      <th>237</th>\n",
       "      <td>2020-02-29</td>\n",
       "      <td>Utah</td>\n",
       "      <td>49</td>\n",
       "      <td>1</td>\n",
       "      <td>0</td>\n",
       "    </tr>\n",
       "    <tr>\n",
       "      <th>...</th>\n",
       "      <td>...</td>\n",
       "      <td>...</td>\n",
       "      <td>...</td>\n",
       "      <td>...</td>\n",
       "      <td>...</td>\n",
       "    </tr>\n",
       "    <tr>\n",
       "      <th>46086</th>\n",
       "      <td>2022-06-13</td>\n",
       "      <td>Utah</td>\n",
       "      <td>49</td>\n",
       "      <td>962441</td>\n",
       "      <td>4793</td>\n",
       "    </tr>\n",
       "    <tr>\n",
       "      <th>46129</th>\n",
       "      <td>2022-06-14</td>\n",
       "      <td>North Carolina</td>\n",
       "      <td>37</td>\n",
       "      <td>2801471</td>\n",
       "      <td>25104</td>\n",
       "    </tr>\n",
       "    <tr>\n",
       "      <th>46142</th>\n",
       "      <td>2022-06-14</td>\n",
       "      <td>Utah</td>\n",
       "      <td>49</td>\n",
       "      <td>962441</td>\n",
       "      <td>4793</td>\n",
       "    </tr>\n",
       "    <tr>\n",
       "      <th>46185</th>\n",
       "      <td>2022-06-15</td>\n",
       "      <td>North Carolina</td>\n",
       "      <td>37</td>\n",
       "      <td>2824770</td>\n",
       "      <td>25150</td>\n",
       "    </tr>\n",
       "    <tr>\n",
       "      <th>46198</th>\n",
       "      <td>2022-06-15</td>\n",
       "      <td>Utah</td>\n",
       "      <td>49</td>\n",
       "      <td>962441</td>\n",
       "      <td>4793</td>\n",
       "    </tr>\n",
       "  </tbody>\n",
       "</table>\n",
       "<p>1677 rows × 5 columns</p>\n",
       "</div>"
      ],
      "text/plain": [
       "             date           state  fips    cases  deaths\n",
       "199    2020-02-25            Utah    49        1       0\n",
       "208    2020-02-26            Utah    49        1       0\n",
       "217    2020-02-27            Utah    49        1       0\n",
       "227    2020-02-28            Utah    49        1       0\n",
       "237    2020-02-29            Utah    49        1       0\n",
       "...           ...             ...   ...      ...     ...\n",
       "46086  2022-06-13            Utah    49   962441    4793\n",
       "46129  2022-06-14  North Carolina    37  2801471   25104\n",
       "46142  2022-06-14            Utah    49   962441    4793\n",
       "46185  2022-06-15  North Carolina    37  2824770   25150\n",
       "46198  2022-06-15            Utah    49   962441    4793\n",
       "\n",
       "[1677 rows x 5 columns]"
      ]
     },
     "execution_count": 3,
     "metadata": {},
     "output_type": "execute_result"
    }
   ],
   "source": [
    "filter_map = [value in [\"North Carolina\", \"Utah\"] for value in table.state]\n",
    "table = table[filter_map]\n",
    "table"
   ]
  },
  {
   "cell_type": "markdown",
   "id": "bffa22a7-987b-4822-8061-07d6136d5bb4",
   "metadata": {
    "pycharm": {
     "name": "#%% md\n"
    }
   },
   "source": [
    "I also don't need the column `fips` because I will not be connecting this table to any other dataset for this analysis, so we can dro pthat column. "
   ]
  },
  {
   "cell_type": "code",
   "execution_count": 8,
   "id": "f6a13bb6-ffa1-4cf8-84b8-674f5d569d15",
   "metadata": {
    "pycharm": {
     "name": "#%%\n"
    }
   },
   "outputs": [
    {
     "data": {
      "text/html": [
       "<div>\n",
       "<style scoped>\n",
       "    .dataframe tbody tr th:only-of-type {\n",
       "        vertical-align: middle;\n",
       "    }\n",
       "\n",
       "    .dataframe tbody tr th {\n",
       "        vertical-align: top;\n",
       "    }\n",
       "\n",
       "    .dataframe thead th {\n",
       "        text-align: right;\n",
       "    }\n",
       "</style>\n",
       "<table border=\"1\" class=\"dataframe\">\n",
       "  <thead>\n",
       "    <tr style=\"text-align: right;\">\n",
       "      <th></th>\n",
       "      <th>date</th>\n",
       "      <th>state</th>\n",
       "      <th>cases</th>\n",
       "      <th>deaths</th>\n",
       "    </tr>\n",
       "  </thead>\n",
       "  <tbody>\n",
       "    <tr>\n",
       "      <th>199</th>\n",
       "      <td>2020-02-25</td>\n",
       "      <td>Utah</td>\n",
       "      <td>1</td>\n",
       "      <td>0</td>\n",
       "    </tr>\n",
       "    <tr>\n",
       "      <th>208</th>\n",
       "      <td>2020-02-26</td>\n",
       "      <td>Utah</td>\n",
       "      <td>1</td>\n",
       "      <td>0</td>\n",
       "    </tr>\n",
       "    <tr>\n",
       "      <th>217</th>\n",
       "      <td>2020-02-27</td>\n",
       "      <td>Utah</td>\n",
       "      <td>1</td>\n",
       "      <td>0</td>\n",
       "    </tr>\n",
       "    <tr>\n",
       "      <th>227</th>\n",
       "      <td>2020-02-28</td>\n",
       "      <td>Utah</td>\n",
       "      <td>1</td>\n",
       "      <td>0</td>\n",
       "    </tr>\n",
       "    <tr>\n",
       "      <th>237</th>\n",
       "      <td>2020-02-29</td>\n",
       "      <td>Utah</td>\n",
       "      <td>1</td>\n",
       "      <td>0</td>\n",
       "    </tr>\n",
       "    <tr>\n",
       "      <th>...</th>\n",
       "      <td>...</td>\n",
       "      <td>...</td>\n",
       "      <td>...</td>\n",
       "      <td>...</td>\n",
       "    </tr>\n",
       "    <tr>\n",
       "      <th>46086</th>\n",
       "      <td>2022-06-13</td>\n",
       "      <td>Utah</td>\n",
       "      <td>962441</td>\n",
       "      <td>4793</td>\n",
       "    </tr>\n",
       "    <tr>\n",
       "      <th>46129</th>\n",
       "      <td>2022-06-14</td>\n",
       "      <td>North Carolina</td>\n",
       "      <td>2801471</td>\n",
       "      <td>25104</td>\n",
       "    </tr>\n",
       "    <tr>\n",
       "      <th>46142</th>\n",
       "      <td>2022-06-14</td>\n",
       "      <td>Utah</td>\n",
       "      <td>962441</td>\n",
       "      <td>4793</td>\n",
       "    </tr>\n",
       "    <tr>\n",
       "      <th>46185</th>\n",
       "      <td>2022-06-15</td>\n",
       "      <td>North Carolina</td>\n",
       "      <td>2824770</td>\n",
       "      <td>25150</td>\n",
       "    </tr>\n",
       "    <tr>\n",
       "      <th>46198</th>\n",
       "      <td>2022-06-15</td>\n",
       "      <td>Utah</td>\n",
       "      <td>962441</td>\n",
       "      <td>4793</td>\n",
       "    </tr>\n",
       "  </tbody>\n",
       "</table>\n",
       "<p>1677 rows × 4 columns</p>\n",
       "</div>"
      ],
      "text/plain": [
       "             date           state    cases  deaths\n",
       "199    2020-02-25            Utah        1       0\n",
       "208    2020-02-26            Utah        1       0\n",
       "217    2020-02-27            Utah        1       0\n",
       "227    2020-02-28            Utah        1       0\n",
       "237    2020-02-29            Utah        1       0\n",
       "...           ...             ...      ...     ...\n",
       "46086  2022-06-13            Utah   962441    4793\n",
       "46129  2022-06-14  North Carolina  2801471   25104\n",
       "46142  2022-06-14            Utah   962441    4793\n",
       "46185  2022-06-15  North Carolina  2824770   25150\n",
       "46198  2022-06-15            Utah   962441    4793\n",
       "\n",
       "[1677 rows x 4 columns]"
      ]
     },
     "execution_count": 8,
     "metadata": {},
     "output_type": "execute_result"
    }
   ],
   "source": [
    "# table = table.drop(\"fips\", axis=1)\n",
    "table"
   ]
  },
  {
   "cell_type": "markdown",
   "id": "085ad25e-e1ee-4c2e-80cc-e68f03403388",
   "metadata": {
    "pycharm": {
     "name": "#%% md\n"
    }
   },
   "source": [
    "### Exploritory Data Analysis\n",
    "Our human brains are very much designed to take in visual data. Plotting the data in some way is a critical part in the data clensing and preperation process. No matter how hard we try, a spacial representations of data will always be much more meaningful to us than raw numbers in a box. \n",
    "\n",
    "\n",
    "Depending on the data, you may get clues that more data is needed, that more cleaning need to be done, or that maybe you need to undo some processes previously believed necessary. Much like every other part of data processing, the answer to these questions will depend on the exact dataset that is being used for a project.\n",
    "\n",
    "For our example, let's plot the data as a time graph for the two states. "
   ]
  },
  {
   "cell_type": "code",
   "execution_count": 9,
   "id": "356e9451-06e7-40ff-bae7-96623032d9e4",
   "metadata": {
    "pycharm": {
     "name": "#%%\n"
    }
   },
   "outputs": [],
   "source": [
    "grouped_data = table.groupby(\"state\")"
   ]
  },
  {
   "cell_type": "code",
   "execution_count": 10,
   "id": "92d29e90-3df0-49dd-86c4-5f2cb89cc75f",
   "metadata": {
    "pycharm": {
     "name": "#%%\n"
    }
   },
   "outputs": [
    {
     "data": {
      "text/html": [
       "<div>\n",
       "<style scoped>\n",
       "    .dataframe tbody tr th:only-of-type {\n",
       "        vertical-align: middle;\n",
       "    }\n",
       "\n",
       "    .dataframe tbody tr th {\n",
       "        vertical-align: top;\n",
       "    }\n",
       "\n",
       "    .dataframe thead th {\n",
       "        text-align: right;\n",
       "    }\n",
       "</style>\n",
       "<table border=\"1\" class=\"dataframe\">\n",
       "  <thead>\n",
       "    <tr style=\"text-align: right;\">\n",
       "      <th></th>\n",
       "      <th>date</th>\n",
       "      <th>state</th>\n",
       "      <th>cases</th>\n",
       "      <th>deaths</th>\n",
       "    </tr>\n",
       "  </thead>\n",
       "  <tbody>\n",
       "    <tr>\n",
       "      <th>277</th>\n",
       "      <td>2020-03-03</td>\n",
       "      <td>North Carolina</td>\n",
       "      <td>1</td>\n",
       "      <td>0</td>\n",
       "    </tr>\n",
       "    <tr>\n",
       "      <th>294</th>\n",
       "      <td>2020-03-04</td>\n",
       "      <td>North Carolina</td>\n",
       "      <td>1</td>\n",
       "      <td>0</td>\n",
       "    </tr>\n",
       "    <tr>\n",
       "      <th>314</th>\n",
       "      <td>2020-03-05</td>\n",
       "      <td>North Carolina</td>\n",
       "      <td>1</td>\n",
       "      <td>0</td>\n",
       "    </tr>\n",
       "    <tr>\n",
       "      <th>339</th>\n",
       "      <td>2020-03-06</td>\n",
       "      <td>North Carolina</td>\n",
       "      <td>2</td>\n",
       "      <td>0</td>\n",
       "    </tr>\n",
       "    <tr>\n",
       "      <th>370</th>\n",
       "      <td>2020-03-07</td>\n",
       "      <td>North Carolina</td>\n",
       "      <td>2</td>\n",
       "      <td>0</td>\n",
       "    </tr>\n",
       "    <tr>\n",
       "      <th>...</th>\n",
       "      <td>...</td>\n",
       "      <td>...</td>\n",
       "      <td>...</td>\n",
       "      <td>...</td>\n",
       "    </tr>\n",
       "    <tr>\n",
       "      <th>45961</th>\n",
       "      <td>2022-06-11</td>\n",
       "      <td>North Carolina</td>\n",
       "      <td>2801017</td>\n",
       "      <td>25104</td>\n",
       "    </tr>\n",
       "    <tr>\n",
       "      <th>46017</th>\n",
       "      <td>2022-06-12</td>\n",
       "      <td>North Carolina</td>\n",
       "      <td>2801017</td>\n",
       "      <td>25104</td>\n",
       "    </tr>\n",
       "    <tr>\n",
       "      <th>46073</th>\n",
       "      <td>2022-06-13</td>\n",
       "      <td>North Carolina</td>\n",
       "      <td>2801365</td>\n",
       "      <td>25104</td>\n",
       "    </tr>\n",
       "    <tr>\n",
       "      <th>46129</th>\n",
       "      <td>2022-06-14</td>\n",
       "      <td>North Carolina</td>\n",
       "      <td>2801471</td>\n",
       "      <td>25104</td>\n",
       "    </tr>\n",
       "    <tr>\n",
       "      <th>46185</th>\n",
       "      <td>2022-06-15</td>\n",
       "      <td>North Carolina</td>\n",
       "      <td>2824770</td>\n",
       "      <td>25150</td>\n",
       "    </tr>\n",
       "  </tbody>\n",
       "</table>\n",
       "<p>835 rows × 4 columns</p>\n",
       "</div>"
      ],
      "text/plain": [
       "             date           state    cases  deaths\n",
       "277    2020-03-03  North Carolina        1       0\n",
       "294    2020-03-04  North Carolina        1       0\n",
       "314    2020-03-05  North Carolina        1       0\n",
       "339    2020-03-06  North Carolina        2       0\n",
       "370    2020-03-07  North Carolina        2       0\n",
       "...           ...             ...      ...     ...\n",
       "45961  2022-06-11  North Carolina  2801017   25104\n",
       "46017  2022-06-12  North Carolina  2801017   25104\n",
       "46073  2022-06-13  North Carolina  2801365   25104\n",
       "46129  2022-06-14  North Carolina  2801471   25104\n",
       "46185  2022-06-15  North Carolina  2824770   25150\n",
       "\n",
       "[835 rows x 4 columns]"
      ]
     },
     "execution_count": 10,
     "metadata": {},
     "output_type": "execute_result"
    }
   ],
   "source": [
    "grouped_data.get_group(\"North Carolina\")"
   ]
  },
  {
   "cell_type": "code",
   "execution_count": 11,
   "id": "04bca48f-bba8-42a0-a055-3396ead61aac",
   "metadata": {
    "pycharm": {
     "name": "#%%\n"
    }
   },
   "outputs": [
    {
     "data": {
      "text/html": [
       "<div>\n",
       "<style scoped>\n",
       "    .dataframe tbody tr th:only-of-type {\n",
       "        vertical-align: middle;\n",
       "    }\n",
       "\n",
       "    .dataframe tbody tr th {\n",
       "        vertical-align: top;\n",
       "    }\n",
       "\n",
       "    .dataframe thead th {\n",
       "        text-align: right;\n",
       "    }\n",
       "</style>\n",
       "<table border=\"1\" class=\"dataframe\">\n",
       "  <thead>\n",
       "    <tr style=\"text-align: right;\">\n",
       "      <th></th>\n",
       "      <th>date</th>\n",
       "      <th>state</th>\n",
       "      <th>cases</th>\n",
       "      <th>deaths</th>\n",
       "    </tr>\n",
       "  </thead>\n",
       "  <tbody>\n",
       "    <tr>\n",
       "      <th>199</th>\n",
       "      <td>2020-02-25</td>\n",
       "      <td>Utah</td>\n",
       "      <td>1</td>\n",
       "      <td>0</td>\n",
       "    </tr>\n",
       "    <tr>\n",
       "      <th>208</th>\n",
       "      <td>2020-02-26</td>\n",
       "      <td>Utah</td>\n",
       "      <td>1</td>\n",
       "      <td>0</td>\n",
       "    </tr>\n",
       "    <tr>\n",
       "      <th>217</th>\n",
       "      <td>2020-02-27</td>\n",
       "      <td>Utah</td>\n",
       "      <td>1</td>\n",
       "      <td>0</td>\n",
       "    </tr>\n",
       "    <tr>\n",
       "      <th>227</th>\n",
       "      <td>2020-02-28</td>\n",
       "      <td>Utah</td>\n",
       "      <td>1</td>\n",
       "      <td>0</td>\n",
       "    </tr>\n",
       "    <tr>\n",
       "      <th>237</th>\n",
       "      <td>2020-02-29</td>\n",
       "      <td>Utah</td>\n",
       "      <td>1</td>\n",
       "      <td>0</td>\n",
       "    </tr>\n",
       "    <tr>\n",
       "      <th>...</th>\n",
       "      <td>...</td>\n",
       "      <td>...</td>\n",
       "      <td>...</td>\n",
       "      <td>...</td>\n",
       "    </tr>\n",
       "    <tr>\n",
       "      <th>45974</th>\n",
       "      <td>2022-06-11</td>\n",
       "      <td>Utah</td>\n",
       "      <td>962441</td>\n",
       "      <td>4793</td>\n",
       "    </tr>\n",
       "    <tr>\n",
       "      <th>46030</th>\n",
       "      <td>2022-06-12</td>\n",
       "      <td>Utah</td>\n",
       "      <td>962441</td>\n",
       "      <td>4793</td>\n",
       "    </tr>\n",
       "    <tr>\n",
       "      <th>46086</th>\n",
       "      <td>2022-06-13</td>\n",
       "      <td>Utah</td>\n",
       "      <td>962441</td>\n",
       "      <td>4793</td>\n",
       "    </tr>\n",
       "    <tr>\n",
       "      <th>46142</th>\n",
       "      <td>2022-06-14</td>\n",
       "      <td>Utah</td>\n",
       "      <td>962441</td>\n",
       "      <td>4793</td>\n",
       "    </tr>\n",
       "    <tr>\n",
       "      <th>46198</th>\n",
       "      <td>2022-06-15</td>\n",
       "      <td>Utah</td>\n",
       "      <td>962441</td>\n",
       "      <td>4793</td>\n",
       "    </tr>\n",
       "  </tbody>\n",
       "</table>\n",
       "<p>842 rows × 4 columns</p>\n",
       "</div>"
      ],
      "text/plain": [
       "             date state   cases  deaths\n",
       "199    2020-02-25  Utah       1       0\n",
       "208    2020-02-26  Utah       1       0\n",
       "217    2020-02-27  Utah       1       0\n",
       "227    2020-02-28  Utah       1       0\n",
       "237    2020-02-29  Utah       1       0\n",
       "...           ...   ...     ...     ...\n",
       "45974  2022-06-11  Utah  962441    4793\n",
       "46030  2022-06-12  Utah  962441    4793\n",
       "46086  2022-06-13  Utah  962441    4793\n",
       "46142  2022-06-14  Utah  962441    4793\n",
       "46198  2022-06-15  Utah  962441    4793\n",
       "\n",
       "[842 rows x 4 columns]"
      ]
     },
     "execution_count": 11,
     "metadata": {},
     "output_type": "execute_result"
    }
   ],
   "source": [
    "grouped_data.get_group(\"Utah\")"
   ]
  },
  {
   "cell_type": "code",
   "execution_count": 12,
   "id": "915fe4e6-8569-446d-bd3f-190337898191",
   "metadata": {
    "pycharm": {
     "name": "#%%\n"
    }
   },
   "outputs": [],
   "source": [
    "import matplotlib.pyplot as plt"
   ]
  },
  {
   "cell_type": "code",
   "execution_count": 13,
   "id": "9ec07c7e-c11e-41b7-a0f3-c75808d6cfe6",
   "metadata": {
    "pycharm": {
     "name": "#%%\n"
    }
   },
   "outputs": [
    {
     "data": {
      "image/png": "[encoded data removed]",
      "text/plain": [
       "<Figure size 432x288 with 1 Axes>"
      ]
     },
     "metadata": {
      "needs_background": "light"
     },
     "output_type": "display_data"
    }
   ],
   "source": [
    "fig = plt.figure()\n",
    "plt.title(\"COVID-19: UT vs NC\")\n",
    "plt.plot(\n",
    "    grouped_data.get_group(\"North Carolina\").date,\n",
    "    grouped_data.get_group(\"North Carolina\").cases,\n",
    "    linestyle=\"solid\", \n",
    "    label=\"NC-cases\"\n",
    ")\n",
    "plt.plot(\n",
    "    grouped_data.get_group(\"North Carolina\").date,\n",
    "    grouped_data.get_group(\"North Carolina\").deaths, \n",
    "    linestyle=\"dashed\",\n",
    "    label=\"NC-deaths\"\n",
    ")\n",
    "plt.plot(\n",
    "    grouped_data.get_group(\"Utah\").date, \n",
    "    grouped_data.get_group(\"Utah\").cases, \n",
    "    linestyle=\"dotted\", \n",
    "    label=\"UT-cases\"\n",
    ")\n",
    "plt.plot(\n",
    "    grouped_data.get_group(\"Utah\").date, \n",
    "    grouped_data.get_group(\"Utah\").deaths, \n",
    "    linestyle=\"dashdot\", \n",
    "    label=\"UT-deaths\"\n",
    ")\n",
    "plt.legend()\n",
    "plt.show()"
   ]
  },
  {
   "cell_type": "markdown",
   "id": "b4e32fa1-a542-4842-a4a8-33d0e0498e76",
   "metadata": {
    "pycharm": {
     "name": "#%% md\n"
    }
   },
   "source": [
    "So, the next thing I would do after looking at this graph is plot it again. Notice the Y-Axis. Clearly, these four observations do not belong next to each other. the number of cases have absolutely skyrocketed in the past amount of time, leaving deaths in the absolute dust. If we want to have a good visual comparson, we absolutely need to separate these graphs further. "
   ]
  },
  {
   "cell_type": "code",
   "execution_count": 14,
   "id": "754ed81e-9d06-440d-b2f5-e342a01ac149",
   "metadata": {
    "pycharm": {
     "name": "#%%\n"
    }
   },
   "outputs": [
    {
     "data": {
      "image/png": "[encoded data removed]",
      "text/plain": [
       "<Figure size 432x288 with 2 Axes>"
      ]
     },
     "metadata": {
      "needs_background": "light"
     },
     "output_type": "display_data"
    }
   ],
   "source": [
    "fig = plt.figure()\n",
    "plt.title(\"COVID-19: UT vs NC\")\n",
    "plt.subplot(121)\n",
    "plt.plot(\n",
    "    grouped_data.get_group(\"North Carolina\").date, \n",
    "    grouped_data.get_group(\"North Carolina\").cases, \n",
    "    linestyle=\"solid\",\n",
    "    label=\"NC-cases\"\n",
    ")\n",
    "\n",
    "plt.plot(\n",
    "    grouped_data.get_group(\"Utah\").date, \n",
    "    grouped_data.get_group(\"Utah\").cases, \n",
    "    linestyle=\"dashed\",\n",
    "    label=\"UT-cases\"\n",
    ")\n",
    "\n",
    "plt.legend()\n",
    "plt.subplot(122)\n",
    "plt.plot(\n",
    "    grouped_data.get_group(\"North Carolina\").date, \n",
    "    grouped_data.get_group(\"North Carolina\").deaths,\n",
    "    linestyle=\"solid\",\n",
    "    label=\"NC-deaths\"\n",
    ")\n",
    "\n",
    "plt.plot(\n",
    "    grouped_data.get_group(\"Utah\").date,\n",
    "    grouped_data.get_group(\"Utah\").deaths, \n",
    "    linestyle=\"dashed\", \n",
    "    label=\"UT-deaths\"\n",
    ")\n",
    "\n",
    "plt.legend()\n",
    "plt.show()"
   ]
  },
  {
   "cell_type": "markdown",
   "id": "45d1ccd0-912f-46e5-a528-a088ea0ab855",
   "metadata": {
    "tags": [],
    "pycharm": {
     "name": "#%% md\n"
    }
   },
   "source": [
    "While each graph is much easier to read, we have still run into some other issues. Notice that the graphs for North Carolina are significantly higher than that of Utah. I want to point out again the scales on on the Y-Axis again. Placing these two graphs side now seems to imply that the number of cases and deaths are rising at similar rates, even though the numbers are clearly printed on the sides. While graphs can offer a very quick and intuitive sense of what the data is doing, you (as a data analyst or presenter) must be causious about what the picture is saying about your data. You can very quickly lead others (or even yourself) to certain conclusions that may not be completely acurate, even though the numbers themselves are true. \n",
    "\n",
    "This is why visualizing the data before actually performing anaysis is critical. It will help you determine what types of analysis needs to be performed, if any further cleaning or normalizing should be performed, if more data needs to be collected simply by being able to look at the data. \n",
    "\n",
    "For example, this graphic tells me that I should probably consider scaling these numbers by the total population of the respective states (North Carolina as over three times as many people as Utah). It tells me that I might need to find some Census data to find an accurate measurement of the population for each state.\n",
    "\n",
    "One thing that I'm not worried about at this step however is how terrible my graphic looks. I recognize that this is simply a quick plot of the data. There are a lot of issues in design and acessability that would need much more work before this is presentable.\n",
    "\n",
    "*Note: I have used MatPlotLib as the plotting libary in this example because that is what I'm most immedietly comfortable with, as that is what I was first taught. Pandas actually has plotting cabability stored as a method in the dataframe object. Do not feel the need to take full control over the graphics as I have done above. Simpler, less scary ways exist.*\n",
    "\n",
    "### Drawing Conclusions\n",
    "After iteratively collecting, cleaning, and preparing the data, we can finally reach the point where we start to ask questions about the data. Questions like \n",
    "- Do we notice any patterns or relationships in the data?\n",
    "- Can we make accurate predictions using the data? \n",
    "- What kind of distributions do we see? \n",
    "- What kind of insights can we draw from the data (if any at all)?\n",
    "\n",
    "Not all of these questions will be applicable, and sometimes, none of your questions can be answered at the current state. Having these questions in mind will help you determine what the next steps should be. Questions like \n",
    "- Should we build some sort of model for the data? \n",
    "- Do we need to collect more data?\n",
    "- Do we need to drop this project and more to something else?\n",
    "\n",
    "can be considered and answered at this point. \n",
    "\n",
    "## Closing Thoughts\n",
    "Unfortunitely most of the work around data analysis will involve iterating over the data, preparing it before you can really do anything with it. Following the 80-20 rule that seems to loom over all that what we do, 80% of the work will be the preperation, and the last 20% will be the good stuff, where you can actually start to learn things about the data. Pandas is an exceptional tool in helping that first 80% run a little bit smoother. "
   ]
  },
  {
   "cell_type": "markdown",
   "id": "98489503-0084-459a-a555-5aaeba75eb2c",
   "metadata": {
    "pycharm": {
     "name": "#%% md\n"
    }
   },
   "source": [
    "Citations:\n",
    "- Molin, S. (2019). Hands-On Data Analysis with Pandas. Packt Publishing Ltd.\n",
    "- The New York Times. (2021). Coronavirus (Covid-19) Data in the United States. Data added to code on 6/17/2022, from https://github.com/nytimes/covid-19-data."
   ]
  }
 ],
 "metadata": {
  "kernelspec": {
   "display_name": "Python 3 (ipykernel)",
   "language": "python",
   "name": "python3"
  },
  "language_info": {
   "codemirror_mode": {
    "name": "ipython",
    "version": 3
   },
   "file_extension": ".py",
   "mimetype": "text/x-python",
   "name": "python",
   "nbconvert_exporter": "python",
   "pygments_lexer": "ipython3",
   "version": "3.9.12"
  }
 },
 "nbformat": 4,
 "nbformat_minor": 5
}