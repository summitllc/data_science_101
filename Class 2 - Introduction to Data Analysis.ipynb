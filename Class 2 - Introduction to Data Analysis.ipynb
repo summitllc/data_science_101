{
 "cells": [
  {
   "attachments": {
    "22df3f8d-5c5f-4dc9-ba35-e3148ae20b16.png": {
     "image/png": "[encoded data removed]"
    }
   },
   "cell_type": "markdown",
   "id": "1aa270a0-5b04-4dee-85b7-1971e2e5fcd4",
   "metadata": {
    "pycharm": {
     "name": "#%% md\n"
    },
    "tags": []
   },
   "source": [
    "# Introduction to Data Analysis\n",
    "Data Analysis is loosely defined as the process of taking data and turning it into some useful information which enables data-driven decision-making. A skilled data analyst can  \n",
    "- gather data from a wide variety of sources\n",
    "- combine different data sets into a common dataset\n",
    "- clean the data of bad observations\n",
    "- take into account outliers and know when to ignore them\n",
    "- communicate with decision makers to discover business needs and data owners to understand nuances of the data set\n",
    "- provide aggregated metrics and graphics to showcase collected data \n",
    "\n",
    "In this course, we attempt to teach the basics of the above-mentioned skills. However, the tools used to perform these tasks vary widely from individual packages within a programming language, to entire frameworks that integrate multiple technologies together. The exact selection used will depend on your workflow, business needs, and available software. We focus on the Pandas library for Python for 2 major reasons: \n",
    "1. Python is open-source and completely free to use. Anyone can download it, write some code, and start a workflow without being charged a dime. Additionally, Python has a vast community of users, meaning it is very easy to obtain help from other users and find teaching resources (though books, classes, or video courses). \n",
    "2. Pandas strength lies in its `DataFrame` class. These act like excel or SQL tables that you can use to build graphs, combine datasets, compute metrics, or extract individual observations. This reduces the complexity of the tasks we explore and increases visibility into the actual processes as they happen. \n",
    "\n",
    "In this lesson, we will focus on some of the most fundamental tasks needed for Data Analysis. Specifically, we will \n",
    "1. collect a dataset,\n",
    "2. read that dataset into python, \n",
    "3. perform some basic manipulation,\n",
    "4. and plot a basic graphic, \n",
    "\n",
    "## Fundamentals of Data analysis\n",
    "The following diagram depicts a common workflow for data analysis.  \n",
    "\n",
    "![data analysis flow chart.png](attachment:22df3f8d-5c5f-4dc9-ba35-e3148ae20b16.png)\n",
    "\n",
    "*Image credits: (Molin, 2019)*\n",
    "\n",
    "Let's take these nodes and discuss what each means. \n",
    "\n",
    "### Data Collection\n",
    "The first step in any data analysis process should be data collection. There are many sources from which to collect data. These different sources will also take different formats. Some questions you will have to ask yourself are \n",
    "- What questions am I trying to answer? \n",
    "- How was the data collected? \n",
    "- What kind of changes need to be made to fit my needs?\n",
    "- Do I need to combine the multiple datasets to get a fuller picture?\n",
    "- Who has the data that can answers those questions?\n",
    "- How do I access the data? \n",
    "- Are there any rules tied to the data that I need to follow?\n",
    "\n",
    "These are a small sampling of some important questions that you may need to ask before starting your project. Ensuring that these questions (and potentially many others) will guide the project as a while. This will determine what resources are available, which datasets can be used, and will help avoid running into last minute snags that could put a deadline at risk. Once these questions have been answered, we can start gathering the data. \n",
    "\n",
    "The most common data sources include databases, flat files (think csv or excel files), APIs, and web pages. Python has a variety of libraries available to access each of these formats, with some of them overlapping to a degree. \n",
    "- Databases can be accessed either by some specific driver for that database or by a package that connects to all databases like SQLAlchemy. This package may require that you install other packages as you connect to specific databases, but the error messages you get will specify what else you need. \n",
    "- When dealing with flat files, Pandas is likely your best option, however it can also read data in from databases. This functionality depends on SQLAlchemy, but is a bit more specific to just reading data, whereas SQLAlchemy can perform all database actions (including table creation or deletion, inserting or updating data, in addition to executing queries or stored procedures). These other tasks may be critical to a data analysis workflow, however, this is well beyond the scope of this course.\n",
    "- For API's and web pages, python ships with a package called `requests` to perform HTTP calls, though others have been created. An example could be gathering cryptocurrency prices from [CoinCap](https://docs.coincap.io/) through a api call like [this one](https://api.coincap.io/v2/assets). Querying this API returns a JSON formatted string that you could store into a pandas dataframe to then filter, aggregate, or generate other metrics. Another way of using `requests` would be to read in a html page which contains an embedded table, which can be parsed out and stored to a dataframe, just like the the json string from the previous example. \n",
    "\n",
    "There is a bit of overlap with all of these methods, but most workflows will likely converge to a point where Pandas is being used to store and manipulate the data in memory, at least until it is dumped or stored somewhere, like in a file or database. \n",
    "\n",
    "Let's practice downloading a dataset from a website. The [New York Times (2021)](https://github.com/nytimes/covid-19-data) maintained a dataset of COVID-19 cases until March 24, 2023. We are going to use the `read_csv` function provided by Pandas to read the CSV directly from the url. \n",
    "\n",
    "The first thing we need to do is import `pandas` into our code."
   ]
  },
  {
   "cell_type": "code",
   "execution_count": null,
   "id": "ea283751-2f30-4259-aa30-36a218a13775",
   "metadata": {
    "pycharm": {
     "name": "#%%\n"
    }
   },
   "outputs": [],
   "source": [
    "import pandas as pd"
   ]
  },
  {
   "attachments": {},
   "cell_type": "markdown",
   "id": "4db857da",
   "metadata": {},
   "source": [
    "Now that we have pandas available, we can call the function, which is show on the second line in the cell below. We need to pass in the url to tell pandas what csv to turn into a dataframe. Note that either the value could instead be the path to a file on your local computer. "
   ]
  },
  {
   "cell_type": "code",
   "execution_count": null,
   "id": "27817f96-3010-48a2-8001-bd61ab8bc073",
   "metadata": {
    "pycharm": {
     "name": "#%%\n"
    }
   },
   "outputs": [],
   "source": [
    "url = \"https://raw.githubusercontent.com/nytimes/covid-19-data/master/us-states.csv\"\n",
    "file_name = 'raw.githubusercontent.com_nytimes_covid-19-data_master_us-states.csv'\n",
    "table = pd.read_csv(file_name)\n",
    "table"
   ]
  },
  {
   "attachments": {},
   "cell_type": "markdown",
   "id": "4668ba61-4f8d-4452-8ebd-c59cb04f7320",
   "metadata": {
    "pycharm": {
     "name": "#%% md\n"
    },
    "tags": []
   },
   "source": [
    "It is also important to read whatever documentation that comes with your data. For example, the source hosts data at different geographic resoutions ranging from individual counties all the way up to country-wide. We'll take the state as I don't need such a fine grain, but I would like to compare some of the different regions in the United States. It might be important to read up on how they did their counting, or what the different columns mean. This data would be critical in helping me answer the questions I mentioned above.\n",
    "\n",
    "### Data Wrangling\n",
    "Data Wrangling or Data Cleaning is the process of taking the data from an unusable form into one that you can start to answer questions with. This is one of the most critical steps for 2 major reasons. \n",
    "1. It is very likely that you will *not* find the perfect data set that is ready for your use the moment you pick it up. You will likely have to do some reformatting, filtering, or aggregating to get the data to a state in which is ready to be used for your specific use case. Remember that someone else has likely gathered the data (especially when working at Summit) and had different needs when they gathered the data. \n",
    "2. Many things can happen when collecting (or storing) the data. Human error can cause typos to be recorded in place of the real value. Values may be missing for optional questions on surveys. Unconventional formats may have been used even if the data is correct. All of these things need to be corrected or standardized. \n",
    "\n",
    "Even though it may be one of the least enjoyable parts, data wrangling is an absolutely critical step of the process as it allows for more accurate reporting of the data and the underlying trends that can be found in the data. \n",
    "\n",
    "Using the COVID-19 dataset we just downloaded, let's compare data from only two states. For this example, we'll examine some numbers for North Carolina and Utah."
   ]
  },
  {
   "cell_type": "code",
   "execution_count": null,
   "id": "aa862712-d7b2-4e00-9994-43bba9894cc9",
   "metadata": {
    "pycharm": {
     "name": "#%%\n"
    }
   },
   "outputs": [],
   "source": [
    "filter_map = [value in [\"North Carolina\", \"Utah\"] for value in table.state]\n",
    "table = table[filter_map]\n",
    "table"
   ]
  },
  {
   "attachments": {},
   "cell_type": "markdown",
   "id": "bffa22a7-987b-4822-8061-07d6136d5bb4",
   "metadata": {
    "pycharm": {
     "name": "#%% md\n"
    }
   },
   "source": [
    "Often times, you will end up with more data than is necessary. This could mean things like either extra columns or rows.  In the previous example, we showed an example of how to filter out rows that we don't want. Below, we will show an example of how to drop the `fips` column, which for our case can be considered duplicate information."
   ]
  },
  {
   "cell_type": "code",
   "execution_count": null,
   "id": "f6a13bb6-ffa1-4cf8-84b8-674f5d569d15",
   "metadata": {
    "pycharm": {
     "name": "#%%\n"
    }
   },
   "outputs": [],
   "source": [
    "table = table.drop(\"fips\", axis=1)\n",
    "table"
   ]
  },
  {
   "attachments": {},
   "cell_type": "markdown",
   "id": "085ad25e-e1ee-4c2e-80cc-e68f03403388",
   "metadata": {
    "pycharm": {
     "name": "#%% md\n"
    }
   },
   "source": [
    "### Exploratory Data Analysis\n",
    "Humans are much more adept at understanding information when displayed in some sort of visual medium. Therefore, plotting the data in some way is critical to the data cleansing and preparation process. \n",
    "\n",
    "\n",
    "Depending on the data, you may get clues that more data is needed, that more cleaning need to be done, or that maybe you need to undo some processes previously believed necessary. Much like every other part of data processing, the answer to these questions will depend on the exact dataset that is being used for a project.\n",
    "\n",
    "For our example, let's plot the data as a time graph for the two states. "
   ]
  },
  {
   "cell_type": "code",
   "execution_count": null,
   "id": "356e9451-06e7-40ff-bae7-96623032d9e4",
   "metadata": {
    "pycharm": {
     "name": "#%%\n"
    }
   },
   "outputs": [],
   "source": [
    "grouped_data = table.groupby(\"state\")"
   ]
  },
  {
   "cell_type": "code",
   "execution_count": null,
   "id": "92d29e90-3df0-49dd-86c4-5f2cb89cc75f",
   "metadata": {
    "pycharm": {
     "name": "#%%\n"
    }
   },
   "outputs": [],
   "source": [
    "grouped_data.get_group(\"North Carolina\")"
   ]
  },
  {
   "cell_type": "code",
   "execution_count": null,
   "id": "04bca48f-bba8-42a0-a055-3396ead61aac",
   "metadata": {
    "pycharm": {
     "name": "#%%\n"
    }
   },
   "outputs": [],
   "source": [
    "grouped_data.get_group(\"Utah\")"
   ]
  },
  {
   "cell_type": "code",
   "execution_count": null,
   "id": "915fe4e6-8569-446d-bd3f-190337898191",
   "metadata": {
    "pycharm": {
     "name": "#%%\n"
    }
   },
   "outputs": [],
   "source": [
    "import matplotlib.pyplot as plt"
   ]
  },
  {
   "cell_type": "code",
   "execution_count": null,
   "id": "9ec07c7e-c11e-41b7-a0f3-c75808d6cfe6",
   "metadata": {
    "pycharm": {
     "name": "#%%\n"
    }
   },
   "outputs": [],
   "source": [
    "fig = plt.figure()\n",
    "plt.title(\"COVID-19: UT vs NC\")\n",
    "plt.plot(\n",
    "    grouped_data.get_group(\"North Carolina\").date,\n",
    "    grouped_data.get_group(\"North Carolina\").cases,\n",
    "    linestyle=\"solid\", \n",
    "    label=\"NC-cases\"\n",
    ")\n",
    "plt.plot(\n",
    "    grouped_data.get_group(\"North Carolina\").date,\n",
    "    grouped_data.get_group(\"North Carolina\").deaths, \n",
    "    linestyle=\"dashed\",\n",
    "    label=\"NC-deaths\"\n",
    ")\n",
    "plt.plot(\n",
    "    grouped_data.get_group(\"Utah\").date, \n",
    "    grouped_data.get_group(\"Utah\").cases, \n",
    "    linestyle=\"dotted\", \n",
    "    label=\"UT-cases\"\n",
    ")\n",
    "plt.plot(\n",
    "    grouped_data.get_group(\"Utah\").date, \n",
    "    grouped_data.get_group(\"Utah\").deaths, \n",
    "    linestyle=\"dashdot\", \n",
    "    label=\"UT-deaths\"\n",
    ")\n",
    "plt.legend()\n",
    "plt.show()"
   ]
  },
  {
   "attachments": {},
   "cell_type": "markdown",
   "id": "b4e32fa1-a542-4842-a4a8-33d0e0498e76",
   "metadata": {
    "pycharm": {
     "name": "#%% md\n"
    }
   },
   "source": [
    "So, the next thing I would do after looking at this graph is plot it again. Notice the Y-Axis. Clearly, these four observations do not belong next to each other. the number of cases have absolutely skyrocketed in the past amount of time, leaving deaths in the absolute dust. If we want to have a good visual comparson, we absolutely need to separate these graphs further. "
   ]
  },
  {
   "cell_type": "code",
   "execution_count": null,
   "id": "754ed81e-9d06-440d-b2f5-e342a01ac149",
   "metadata": {
    "pycharm": {
     "name": "#%%\n"
    }
   },
   "outputs": [],
   "source": [
    "fig = plt.figure()\n",
    "plt.title(\"COVID-19: UT vs NC\")\n",
    "plt.subplot(121)\n",
    "plt.plot(\n",
    "    grouped_data.get_group(\"North Carolina\").date, \n",
    "    grouped_data.get_group(\"North Carolina\").cases, \n",
    "    linestyle=\"solid\",\n",
    "    label=\"NC-cases\"\n",
    ")\n",
    "\n",
    "plt.plot(\n",
    "    grouped_data.get_group(\"Utah\").date, \n",
    "    grouped_data.get_group(\"Utah\").cases, \n",
    "    linestyle=\"dashed\",\n",
    "    label=\"UT-cases\"\n",
    ")\n",
    "\n",
    "plt.legend()\n",
    "plt.subplot(122)\n",
    "plt.plot(\n",
    "    grouped_data.get_group(\"North Carolina\").date, \n",
    "    grouped_data.get_group(\"North Carolina\").deaths,\n",
    "    linestyle=\"solid\",\n",
    "    label=\"NC-deaths\"\n",
    ")\n",
    "\n",
    "plt.plot(\n",
    "    grouped_data.get_group(\"Utah\").date,\n",
    "    grouped_data.get_group(\"Utah\").deaths, \n",
    "    linestyle=\"dashed\", \n",
    "    label=\"UT-deaths\"\n",
    ")\n",
    "\n",
    "plt.legend()\n",
    "plt.show()"
   ]
  },
  {
   "attachments": {},
   "cell_type": "markdown",
   "id": "45d1ccd0-912f-46e5-a528-a088ea0ab855",
   "metadata": {
    "pycharm": {
     "name": "#%% md\n"
    },
    "tags": []
   },
   "source": [
    "While each graph is much easier to read, we have still run into some other issues. Notice that the graphs for North Carolina are significantly higher than that of Utah. I want to point out again the scales on on the Y-Axis again. Placing these two graphs side now seems to imply that the number of cases and deaths are rising at similar rates, even though the numbers are clearly printed on the sides. While graphs can offer a very quick and intuitive sense of what the data is doing, you (as a data analyst or presenter) must be causious about what the picture is saying about your data. You can very quickly lead others (or even yourself) to certain conclusions that may not be completely acurate, even though the numbers themselves are true. \n",
    "\n",
    "This is why visualizing the data before actually performing anaysis is critical. It will help you determine what types of analysis needs to be performed, if any further cleaning or normalizing should be performed, if more data needs to be collected simply by being able to look at the data. \n",
    "\n",
    "For example, this graphic tells me that I should probably consider scaling these numbers by the total population of the respective states (North Carolina as over three times as many people as Utah). It tells me that I might need to find some Census data to find an accurate measurement of the population for each state.\n",
    "\n",
    "One thing that I'm not worried about at this step however is how terrible my graphic looks. I recognize that this is simply a quick plot of the data. There are a lot of issues in design and acessability that would need much more work before this is presentable.\n",
    "\n",
    "*Note: I have used MatPlotLib as the plotting libary in this example because that is what I'm most immedietly comfortable with, as that is what I was first taught. Pandas actually has plotting cabability stored as a method in the dataframe object. Do not feel the need to take full control over the graphics as I have done above. Simpler, less scary ways exist.*\n",
    "\n",
    "### Drawing Conclusions\n",
    "After iteratively collecting, cleaning, and preparing the data, we can finally reach the point where we start to ask questions about the data. Questions like \n",
    "- Do we notice any patterns or relationships in the data?\n",
    "- Can we make accurate predictions using the data? \n",
    "- What kind of distributions do we see? \n",
    "- What kind of insights can we draw from the data (if any at all)?\n",
    "\n",
    "Not all of these questions will be applicable, and sometimes, none of your questions can be answered at the current state. Having these questions in mind will help you determine what the next steps should be. Questions like \n",
    "- Should we build some sort of model for the data? \n",
    "- Do we need to collect more data?\n",
    "- Do we need to drop this project and more to something else?\n",
    "\n",
    "can be considered and answered at this point. \n",
    "\n",
    "## Closing Thoughts\n",
    "Unfortunitely most of the work around data analysis will involve iterating over the data, preparing it before you can really do anything with it. Following the 80-20 rule that seems to loom over all that what we do, 80% of the work will be the preperation, and the last 20% will be the good stuff, where you can actually start to learn things about the data. Pandas is an exceptional tool in helping that first 80% run a little bit smoother. "
   ]
  },
  {
   "attachments": {},
   "cell_type": "markdown",
   "id": "98489503-0084-459a-a555-5aaeba75eb2c",
   "metadata": {
    "pycharm": {
     "name": "#%% md\n"
    }
   },
   "source": [
    "Citations:\n",
    "- Molin, S. (2019). Hands-On Data Analysis with Pandas. Packt Publishing Ltd.\n",
    "- The New York Times. (2021). Coronavirus (Covid-19) Data in the United States. Data added to code on 6/17/2022, from https://github.com/nytimes/covid-19-data."
   ]
  }
 ],
 "metadata": {
  "kernelspec": {
   "display_name": "Python 3 (ipykernel)",
   "language": "python",
   "name": "python3"
  },
  "language_info": {
   "codemirror_mode": {
    "name": "ipython",
    "version": 3
   },
   "file_extension": ".py",
   "mimetype": "text/x-python",
   "name": "python",
   "nbconvert_exporter": "python",
   "pygments_lexer": "ipython3",
   "version": "3.10.9"
  }
 },
 "nbformat": 4,
 "nbformat_minor": 5
}
