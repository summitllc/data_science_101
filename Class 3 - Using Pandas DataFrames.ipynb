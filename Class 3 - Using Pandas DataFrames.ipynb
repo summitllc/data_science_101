{
 "cells": [
  {
   "cell_type": "code",
   "execution_count": 1,
   "id": "d068031f-3ed2-497a-948a-ca312abc6499",
   "metadata": {
    "pycharm": {
     "name": "#%%\n"
    }
   },
   "outputs": [],
   "source": [
    "import pandas as pd"
   ]
  },
  {
   "cell_type": "markdown",
   "id": "994a2a26-5b42-4d8b-8a3c-19bdb89b6c1d",
   "metadata": {
    "pycharm": {
     "name": "#%% md\n"
    }
   },
   "source": [
    "# Using Pandas DataFrames\n",
    "\n",
    "This notebook focuses on using Dataframes, which is the primary data structure that Pandas adds to python. We will discuss the various parts of a Pandas Dataframe and how to create, manipulate, and edit a dataframe. \n",
    "\n",
    "For this section, we are going to be using the data located at  \n",
    "> https://raw.githubusercontent.com/stefmolin/Hands-On-Data-Analysis-with-Pandas/master/ch_02/data/parsed.csv\n",
    "\n",
    "This dataset will be used for all of the exersises.\n",
    "\n",
    "\n",
    "## What is a Dataframe\n",
    "\n",
    "The most widely understood analogy when describing a Pandas Dataframe is to an spreadsheet. In a spreadsheet (be it excel, google sheet, or whatever version you prefer), you have rows, columns, and entries. In fact, Pandas uses this same vocabulary when referring to the various peices of a Dataframe. "
   ]
  },
  {
   "cell_type": "code",
   "execution_count": 2,
   "id": "25f5deb6-a393-427a-a360-9cef6d4085a4",
   "metadata": {
    "pycharm": {
     "name": "#%%\n"
    }
   },
   "outputs": [
    {
     "data": {
      "text/html": [
       "<div>\n",
       "<style scoped>\n",
       "    .dataframe tbody tr th:only-of-type {\n",
       "        vertical-align: middle;\n",
       "    }\n",
       "\n",
       "    .dataframe tbody tr th {\n",
       "        vertical-align: top;\n",
       "    }\n",
       "\n",
       "    .dataframe thead th {\n",
       "        text-align: right;\n",
       "    }\n",
       "</style>\n",
       "<table border=\"1\" class=\"dataframe\">\n",
       "  <thead>\n",
       "    <tr style=\"text-align: right;\">\n",
       "      <th></th>\n",
       "      <th>alert</th>\n",
       "      <th>cdi</th>\n",
       "      <th>code</th>\n",
       "      <th>detail</th>\n",
       "      <th>dmin</th>\n",
       "      <th>felt</th>\n",
       "      <th>gap</th>\n",
       "      <th>ids</th>\n",
       "      <th>mag</th>\n",
       "      <th>magType</th>\n",
       "      <th>...</th>\n",
       "      <th>status</th>\n",
       "      <th>time</th>\n",
       "      <th>title</th>\n",
       "      <th>tsunami</th>\n",
       "      <th>type</th>\n",
       "      <th>types</th>\n",
       "      <th>tz</th>\n",
       "      <th>updated</th>\n",
       "      <th>url</th>\n",
       "      <th>parsed_place</th>\n",
       "    </tr>\n",
       "  </thead>\n",
       "  <tbody>\n",
       "    <tr>\n",
       "      <th>0</th>\n",
       "      <td>NaN</td>\n",
       "      <td>NaN</td>\n",
       "      <td>37389218</td>\n",
       "      <td>https://earthquake.usgs.gov/fdsnws/event/1/que...</td>\n",
       "      <td>0.008693</td>\n",
       "      <td>NaN</td>\n",
       "      <td>85.0</td>\n",
       "      <td>,ci37389218,</td>\n",
       "      <td>1.35</td>\n",
       "      <td>ml</td>\n",
       "      <td>...</td>\n",
       "      <td>automatic</td>\n",
       "      <td>1539475168010</td>\n",
       "      <td>M 1.4 - 9km NE of Aguanga, CA</td>\n",
       "      <td>0</td>\n",
       "      <td>earthquake</td>\n",
       "      <td>,geoserve,nearby-cities,origin,phase-data,</td>\n",
       "      <td>-480.0</td>\n",
       "      <td>1539475395144</td>\n",
       "      <td>https://earthquake.usgs.gov/earthquakes/eventp...</td>\n",
       "      <td>California</td>\n",
       "    </tr>\n",
       "    <tr>\n",
       "      <th>1</th>\n",
       "      <td>NaN</td>\n",
       "      <td>NaN</td>\n",
       "      <td>37389202</td>\n",
       "      <td>https://earthquake.usgs.gov/fdsnws/event/1/que...</td>\n",
       "      <td>0.020030</td>\n",
       "      <td>NaN</td>\n",
       "      <td>79.0</td>\n",
       "      <td>,ci37389202,</td>\n",
       "      <td>1.29</td>\n",
       "      <td>ml</td>\n",
       "      <td>...</td>\n",
       "      <td>automatic</td>\n",
       "      <td>1539475129610</td>\n",
       "      <td>M 1.3 - 9km NE of Aguanga, CA</td>\n",
       "      <td>0</td>\n",
       "      <td>earthquake</td>\n",
       "      <td>,geoserve,nearby-cities,origin,phase-data,</td>\n",
       "      <td>-480.0</td>\n",
       "      <td>1539475253925</td>\n",
       "      <td>https://earthquake.usgs.gov/earthquakes/eventp...</td>\n",
       "      <td>California</td>\n",
       "    </tr>\n",
       "    <tr>\n",
       "      <th>2</th>\n",
       "      <td>NaN</td>\n",
       "      <td>4.4</td>\n",
       "      <td>37389194</td>\n",
       "      <td>https://earthquake.usgs.gov/fdsnws/event/1/que...</td>\n",
       "      <td>0.021370</td>\n",
       "      <td>28.0</td>\n",
       "      <td>21.0</td>\n",
       "      <td>,ci37389194,</td>\n",
       "      <td>3.42</td>\n",
       "      <td>ml</td>\n",
       "      <td>...</td>\n",
       "      <td>automatic</td>\n",
       "      <td>1539475062610</td>\n",
       "      <td>M 3.4 - 8km NE of Aguanga, CA</td>\n",
       "      <td>0</td>\n",
       "      <td>earthquake</td>\n",
       "      <td>,dyfi,focal-mechanism,geoserve,nearby-cities,o...</td>\n",
       "      <td>-480.0</td>\n",
       "      <td>1539536756176</td>\n",
       "      <td>https://earthquake.usgs.gov/earthquakes/eventp...</td>\n",
       "      <td>California</td>\n",
       "    </tr>\n",
       "    <tr>\n",
       "      <th>3</th>\n",
       "      <td>NaN</td>\n",
       "      <td>NaN</td>\n",
       "      <td>37389186</td>\n",
       "      <td>https://earthquake.usgs.gov/fdsnws/event/1/que...</td>\n",
       "      <td>0.026180</td>\n",
       "      <td>NaN</td>\n",
       "      <td>39.0</td>\n",
       "      <td>,ci37389186,</td>\n",
       "      <td>0.44</td>\n",
       "      <td>ml</td>\n",
       "      <td>...</td>\n",
       "      <td>automatic</td>\n",
       "      <td>1539474978070</td>\n",
       "      <td>M 0.4 - 9km NE of Aguanga, CA</td>\n",
       "      <td>0</td>\n",
       "      <td>earthquake</td>\n",
       "      <td>,geoserve,nearby-cities,origin,phase-data,</td>\n",
       "      <td>-480.0</td>\n",
       "      <td>1539475196167</td>\n",
       "      <td>https://earthquake.usgs.gov/earthquakes/eventp...</td>\n",
       "      <td>California</td>\n",
       "    </tr>\n",
       "    <tr>\n",
       "      <th>4</th>\n",
       "      <td>NaN</td>\n",
       "      <td>NaN</td>\n",
       "      <td>73096941</td>\n",
       "      <td>https://earthquake.usgs.gov/fdsnws/event/1/que...</td>\n",
       "      <td>0.077990</td>\n",
       "      <td>NaN</td>\n",
       "      <td>192.0</td>\n",
       "      <td>,nc73096941,</td>\n",
       "      <td>2.16</td>\n",
       "      <td>md</td>\n",
       "      <td>...</td>\n",
       "      <td>automatic</td>\n",
       "      <td>1539474716050</td>\n",
       "      <td>M 2.2 - 10km NW of Avenal, CA</td>\n",
       "      <td>0</td>\n",
       "      <td>earthquake</td>\n",
       "      <td>,geoserve,nearby-cities,origin,phase-data,scit...</td>\n",
       "      <td>-480.0</td>\n",
       "      <td>1539477547926</td>\n",
       "      <td>https://earthquake.usgs.gov/earthquakes/eventp...</td>\n",
       "      <td>California</td>\n",
       "    </tr>\n",
       "    <tr>\n",
       "      <th>...</th>\n",
       "      <td>...</td>\n",
       "      <td>...</td>\n",
       "      <td>...</td>\n",
       "      <td>...</td>\n",
       "      <td>...</td>\n",
       "      <td>...</td>\n",
       "      <td>...</td>\n",
       "      <td>...</td>\n",
       "      <td>...</td>\n",
       "      <td>...</td>\n",
       "      <td>...</td>\n",
       "      <td>...</td>\n",
       "      <td>...</td>\n",
       "      <td>...</td>\n",
       "      <td>...</td>\n",
       "      <td>...</td>\n",
       "      <td>...</td>\n",
       "      <td>...</td>\n",
       "      <td>...</td>\n",
       "      <td>...</td>\n",
       "      <td>...</td>\n",
       "    </tr>\n",
       "    <tr>\n",
       "      <th>9327</th>\n",
       "      <td>NaN</td>\n",
       "      <td>NaN</td>\n",
       "      <td>73086771</td>\n",
       "      <td>https://earthquake.usgs.gov/fdsnws/event/1/que...</td>\n",
       "      <td>0.018060</td>\n",
       "      <td>NaN</td>\n",
       "      <td>185.0</td>\n",
       "      <td>,nc73086771,</td>\n",
       "      <td>0.62</td>\n",
       "      <td>md</td>\n",
       "      <td>...</td>\n",
       "      <td>reviewed</td>\n",
       "      <td>1537230228060</td>\n",
       "      <td>M 0.6 - 9km ENE of Mammoth Lakes, CA</td>\n",
       "      <td>0</td>\n",
       "      <td>earthquake</td>\n",
       "      <td>,geoserve,nearby-cities,origin,phase-data,</td>\n",
       "      <td>-480.0</td>\n",
       "      <td>1537285598315</td>\n",
       "      <td>https://earthquake.usgs.gov/earthquakes/eventp...</td>\n",
       "      <td>California</td>\n",
       "    </tr>\n",
       "    <tr>\n",
       "      <th>9328</th>\n",
       "      <td>NaN</td>\n",
       "      <td>NaN</td>\n",
       "      <td>38063967</td>\n",
       "      <td>https://earthquake.usgs.gov/fdsnws/event/1/que...</td>\n",
       "      <td>0.030410</td>\n",
       "      <td>NaN</td>\n",
       "      <td>50.0</td>\n",
       "      <td>,ci38063967,</td>\n",
       "      <td>1.00</td>\n",
       "      <td>ml</td>\n",
       "      <td>...</td>\n",
       "      <td>reviewed</td>\n",
       "      <td>1537230135130</td>\n",
       "      <td>M 1.0 - 3km W of Julian, CA</td>\n",
       "      <td>0</td>\n",
       "      <td>earthquake</td>\n",
       "      <td>,geoserve,nearby-cities,origin,phase-data,scit...</td>\n",
       "      <td>-480.0</td>\n",
       "      <td>1537276800970</td>\n",
       "      <td>https://earthquake.usgs.gov/earthquakes/eventp...</td>\n",
       "      <td>California</td>\n",
       "    </tr>\n",
       "    <tr>\n",
       "      <th>9329</th>\n",
       "      <td>NaN</td>\n",
       "      <td>NaN</td>\n",
       "      <td>2018261000</td>\n",
       "      <td>https://earthquake.usgs.gov/fdsnws/event/1/que...</td>\n",
       "      <td>0.452600</td>\n",
       "      <td>NaN</td>\n",
       "      <td>276.0</td>\n",
       "      <td>,pr2018261000,</td>\n",
       "      <td>2.40</td>\n",
       "      <td>md</td>\n",
       "      <td>...</td>\n",
       "      <td>reviewed</td>\n",
       "      <td>1537229908180</td>\n",
       "      <td>M 2.4 - 35km NNE of Hatillo, Puerto Rico</td>\n",
       "      <td>0</td>\n",
       "      <td>earthquake</td>\n",
       "      <td>,geoserve,origin,phase-data,</td>\n",
       "      <td>-240.0</td>\n",
       "      <td>1537243777410</td>\n",
       "      <td>https://earthquake.usgs.gov/earthquakes/eventp...</td>\n",
       "      <td>Puerto Rico</td>\n",
       "    </tr>\n",
       "    <tr>\n",
       "      <th>9330</th>\n",
       "      <td>NaN</td>\n",
       "      <td>NaN</td>\n",
       "      <td>38063959</td>\n",
       "      <td>https://earthquake.usgs.gov/fdsnws/event/1/que...</td>\n",
       "      <td>0.018650</td>\n",
       "      <td>NaN</td>\n",
       "      <td>61.0</td>\n",
       "      <td>,ci38063959,</td>\n",
       "      <td>1.10</td>\n",
       "      <td>ml</td>\n",
       "      <td>...</td>\n",
       "      <td>reviewed</td>\n",
       "      <td>1537229545350</td>\n",
       "      <td>M 1.1 - 9km NE of Aguanga, CA</td>\n",
       "      <td>0</td>\n",
       "      <td>earthquake</td>\n",
       "      <td>,focal-mechanism,geoserve,nearby-cities,origin...</td>\n",
       "      <td>-480.0</td>\n",
       "      <td>1537230211640</td>\n",
       "      <td>https://earthquake.usgs.gov/earthquakes/eventp...</td>\n",
       "      <td>California</td>\n",
       "    </tr>\n",
       "    <tr>\n",
       "      <th>9331</th>\n",
       "      <td>NaN</td>\n",
       "      <td>NaN</td>\n",
       "      <td>38063935</td>\n",
       "      <td>https://earthquake.usgs.gov/fdsnws/event/1/que...</td>\n",
       "      <td>0.016980</td>\n",
       "      <td>NaN</td>\n",
       "      <td>39.0</td>\n",
       "      <td>,ci38063935,</td>\n",
       "      <td>0.66</td>\n",
       "      <td>ml</td>\n",
       "      <td>...</td>\n",
       "      <td>reviewed</td>\n",
       "      <td>1537228864470</td>\n",
       "      <td>M 0.7 - 9km NE of Aguanga, CA</td>\n",
       "      <td>0</td>\n",
       "      <td>earthquake</td>\n",
       "      <td>,focal-mechanism,geoserve,nearby-cities,origin...</td>\n",
       "      <td>-480.0</td>\n",
       "      <td>1537305830770</td>\n",
       "      <td>https://earthquake.usgs.gov/earthquakes/eventp...</td>\n",
       "      <td>California</td>\n",
       "    </tr>\n",
       "  </tbody>\n",
       "</table>\n",
       "<p>9332 rows × 27 columns</p>\n",
       "</div>"
      ],
      "text/plain": [
       "     alert  cdi        code  \\\n",
       "0      NaN  NaN    37389218   \n",
       "1      NaN  NaN    37389202   \n",
       "2      NaN  4.4    37389194   \n",
       "3      NaN  NaN    37389186   \n",
       "4      NaN  NaN    73096941   \n",
       "...    ...  ...         ...   \n",
       "9327   NaN  NaN    73086771   \n",
       "9328   NaN  NaN    38063967   \n",
       "9329   NaN  NaN  2018261000   \n",
       "9330   NaN  NaN    38063959   \n",
       "9331   NaN  NaN    38063935   \n",
       "\n",
       "                                                 detail      dmin  felt  \\\n",
       "0     https://earthquake.usgs.gov/fdsnws/event/1/que...  0.008693   NaN   \n",
       "1     https://earthquake.usgs.gov/fdsnws/event/1/que...  0.020030   NaN   \n",
       "2     https://earthquake.usgs.gov/fdsnws/event/1/que...  0.021370  28.0   \n",
       "3     https://earthquake.usgs.gov/fdsnws/event/1/que...  0.026180   NaN   \n",
       "4     https://earthquake.usgs.gov/fdsnws/event/1/que...  0.077990   NaN   \n",
       "...                                                 ...       ...   ...   \n",
       "9327  https://earthquake.usgs.gov/fdsnws/event/1/que...  0.018060   NaN   \n",
       "9328  https://earthquake.usgs.gov/fdsnws/event/1/que...  0.030410   NaN   \n",
       "9329  https://earthquake.usgs.gov/fdsnws/event/1/que...  0.452600   NaN   \n",
       "9330  https://earthquake.usgs.gov/fdsnws/event/1/que...  0.018650   NaN   \n",
       "9331  https://earthquake.usgs.gov/fdsnws/event/1/que...  0.016980   NaN   \n",
       "\n",
       "        gap             ids   mag magType  ...     status           time  \\\n",
       "0      85.0    ,ci37389218,  1.35      ml  ...  automatic  1539475168010   \n",
       "1      79.0    ,ci37389202,  1.29      ml  ...  automatic  1539475129610   \n",
       "2      21.0    ,ci37389194,  3.42      ml  ...  automatic  1539475062610   \n",
       "3      39.0    ,ci37389186,  0.44      ml  ...  automatic  1539474978070   \n",
       "4     192.0    ,nc73096941,  2.16      md  ...  automatic  1539474716050   \n",
       "...     ...             ...   ...     ...  ...        ...            ...   \n",
       "9327  185.0    ,nc73086771,  0.62      md  ...   reviewed  1537230228060   \n",
       "9328   50.0    ,ci38063967,  1.00      ml  ...   reviewed  1537230135130   \n",
       "9329  276.0  ,pr2018261000,  2.40      md  ...   reviewed  1537229908180   \n",
       "9330   61.0    ,ci38063959,  1.10      ml  ...   reviewed  1537229545350   \n",
       "9331   39.0    ,ci38063935,  0.66      ml  ...   reviewed  1537228864470   \n",
       "\n",
       "                                         title tsunami        type  \\\n",
       "0                M 1.4 - 9km NE of Aguanga, CA       0  earthquake   \n",
       "1                M 1.3 - 9km NE of Aguanga, CA       0  earthquake   \n",
       "2                M 3.4 - 8km NE of Aguanga, CA       0  earthquake   \n",
       "3                M 0.4 - 9km NE of Aguanga, CA       0  earthquake   \n",
       "4                M 2.2 - 10km NW of Avenal, CA       0  earthquake   \n",
       "...                                        ...     ...         ...   \n",
       "9327      M 0.6 - 9km ENE of Mammoth Lakes, CA       0  earthquake   \n",
       "9328               M 1.0 - 3km W of Julian, CA       0  earthquake   \n",
       "9329  M 2.4 - 35km NNE of Hatillo, Puerto Rico       0  earthquake   \n",
       "9330             M 1.1 - 9km NE of Aguanga, CA       0  earthquake   \n",
       "9331             M 0.7 - 9km NE of Aguanga, CA       0  earthquake   \n",
       "\n",
       "                                                  types     tz        updated  \\\n",
       "0            ,geoserve,nearby-cities,origin,phase-data, -480.0  1539475395144   \n",
       "1            ,geoserve,nearby-cities,origin,phase-data, -480.0  1539475253925   \n",
       "2     ,dyfi,focal-mechanism,geoserve,nearby-cities,o... -480.0  1539536756176   \n",
       "3            ,geoserve,nearby-cities,origin,phase-data, -480.0  1539475196167   \n",
       "4     ,geoserve,nearby-cities,origin,phase-data,scit... -480.0  1539477547926   \n",
       "...                                                 ...    ...            ...   \n",
       "9327         ,geoserve,nearby-cities,origin,phase-data, -480.0  1537285598315   \n",
       "9328  ,geoserve,nearby-cities,origin,phase-data,scit... -480.0  1537276800970   \n",
       "9329                       ,geoserve,origin,phase-data, -240.0  1537243777410   \n",
       "9330  ,focal-mechanism,geoserve,nearby-cities,origin... -480.0  1537230211640   \n",
       "9331  ,focal-mechanism,geoserve,nearby-cities,origin... -480.0  1537305830770   \n",
       "\n",
       "                                                    url parsed_place  \n",
       "0     https://earthquake.usgs.gov/earthquakes/eventp...   California  \n",
       "1     https://earthquake.usgs.gov/earthquakes/eventp...   California  \n",
       "2     https://earthquake.usgs.gov/earthquakes/eventp...   California  \n",
       "3     https://earthquake.usgs.gov/earthquakes/eventp...   California  \n",
       "4     https://earthquake.usgs.gov/earthquakes/eventp...   California  \n",
       "...                                                 ...          ...  \n",
       "9327  https://earthquake.usgs.gov/earthquakes/eventp...   California  \n",
       "9328  https://earthquake.usgs.gov/earthquakes/eventp...   California  \n",
       "9329  https://earthquake.usgs.gov/earthquakes/eventp...  Puerto Rico  \n",
       "9330  https://earthquake.usgs.gov/earthquakes/eventp...   California  \n",
       "9331  https://earthquake.usgs.gov/earthquakes/eventp...   California  \n",
       "\n",
       "[9332 rows x 27 columns]"
      ]
     },
     "execution_count": 2,
     "metadata": {},
     "output_type": "execute_result"
    }
   ],
   "source": [
    "df = pd.read_csv(\"https://raw.githubusercontent.com/stefmolin/Hands-On-Data-Analysis-with-Pandas/master/ch_02/data/parsed.csv\")\n",
    "df"
   ]
  },
  {
   "cell_type": "markdown",
   "id": "454ebed2-1e67-46ee-9e8a-aab40a54f65c",
   "metadata": {
    "pycharm": {
     "name": "#%% md\n"
    }
   },
   "source": [
    "For this example dataframe we are going to be using for this file, we note that the whole table has 27 columns and 9332 rows. We can also get information about what data type each columns contains. For example: "
   ]
  },
  {
   "cell_type": "code",
   "execution_count": 3,
   "id": "479f8535-f1b0-4ec6-bfc9-b23be13fbcdb",
   "metadata": {
    "pycharm": {
     "name": "#%%\n"
    }
   },
   "outputs": [
    {
     "data": {
      "text/plain": [
       "alert            object\n",
       "cdi             float64\n",
       "code             object\n",
       "detail           object\n",
       "dmin            float64\n",
       "felt            float64\n",
       "gap             float64\n",
       "ids              object\n",
       "mag             float64\n",
       "magType          object\n",
       "mmi             float64\n",
       "net              object\n",
       "nst             float64\n",
       "place            object\n",
       "rms             float64\n",
       "sig               int64\n",
       "sources          object\n",
       "status           object\n",
       "time              int64\n",
       "title            object\n",
       "tsunami           int64\n",
       "type             object\n",
       "types            object\n",
       "tz              float64\n",
       "updated           int64\n",
       "url              object\n",
       "parsed_place     object\n",
       "dtype: object"
      ]
     },
     "execution_count": 3,
     "metadata": {},
     "output_type": "execute_result"
    }
   ],
   "source": [
    "df.dtypes"
   ]
  },
  {
   "cell_type": "markdown",
   "id": "9775f301-dc12-46fb-91ae-85ba72ce412b",
   "metadata": {
    "pycharm": {
     "name": "#%% md\n"
    }
   },
   "source": [
    "In this dataframe, we have integers, floats, and strings (here labeled as `object`). We can extract any one of these columns by referencing the column's name or `index`."
   ]
  },
  {
   "cell_type": "code",
   "execution_count": 4,
   "id": "c7ebded2-9352-469e-842e-eae36ef8e9ee",
   "metadata": {
    "pycharm": {
     "name": "#%%\n"
    }
   },
   "outputs": [
    {
     "data": {
      "text/plain": [
       "0                  9km NE of Aguanga, CA\n",
       "1                  9km NE of Aguanga, CA\n",
       "2                  8km NE of Aguanga, CA\n",
       "3                  9km NE of Aguanga, CA\n",
       "4                  10km NW of Avenal, CA\n",
       "                      ...               \n",
       "9327        9km ENE of Mammoth Lakes, CA\n",
       "9328                 3km W of Julian, CA\n",
       "9329    35km NNE of Hatillo, Puerto Rico\n",
       "9330               9km NE of Aguanga, CA\n",
       "9331               9km NE of Aguanga, CA\n",
       "Name: place, Length: 9332, dtype: object"
      ]
     },
     "execution_count": 4,
     "metadata": {},
     "output_type": "execute_result"
    }
   ],
   "source": [
    "df.place"
   ]
  },
  {
   "cell_type": "markdown",
   "id": "6ac9bf8f-4bbf-4db5-8a3e-e97cb01c2a8b",
   "metadata": {
    "pycharm": {
     "name": "#%% md\n"
    }
   },
   "source": [
    "Alternatively, we can reference the column by using a key, similar to Python dictionaries. "
   ]
  },
  {
   "cell_type": "code",
   "execution_count": 5,
   "id": "c03847b5-23a8-4ac7-ae8c-fecd0b4dd7b6",
   "metadata": {
    "pycharm": {
     "name": "#%%\n"
    }
   },
   "outputs": [
    {
     "data": {
      "text/plain": [
       "0                  9km NE of Aguanga, CA\n",
       "1                  9km NE of Aguanga, CA\n",
       "2                  8km NE of Aguanga, CA\n",
       "3                  9km NE of Aguanga, CA\n",
       "4                  10km NW of Avenal, CA\n",
       "                      ...               \n",
       "9327        9km ENE of Mammoth Lakes, CA\n",
       "9328                 3km W of Julian, CA\n",
       "9329    35km NNE of Hatillo, Puerto Rico\n",
       "9330               9km NE of Aguanga, CA\n",
       "9331               9km NE of Aguanga, CA\n",
       "Name: place, Length: 9332, dtype: object"
      ]
     },
     "execution_count": 5,
     "metadata": {},
     "output_type": "execute_result"
    }
   ],
   "source": [
    "df[\"place\"]"
   ]
  },
  {
   "cell_type": "markdown",
   "id": "13dc350b-1e30-4256-afb8-a27b9a1ffd1f",
   "metadata": {
    "pycharm": {
     "name": "#%% md\n"
    }
   },
   "source": [
    "This single column is no longer a `DataFrame`, but instead is the class object `Series`"
   ]
  },
  {
   "cell_type": "code",
   "execution_count": 6,
   "id": "949edcb4-4395-408b-8d70-c16f5ebbec88",
   "metadata": {
    "pycharm": {
     "name": "#%%\n"
    }
   },
   "outputs": [
    {
     "name": "stdout",
     "output_type": "stream",
     "text": [
      "<class 'pandas.core.frame.DataFrame'>\n",
      "<class 'pandas.core.series.Series'>\n"
     ]
    }
   ],
   "source": [
    "print(type(df))\n",
    "print(type(df.place))"
   ]
  },
  {
   "cell_type": "markdown",
   "id": "db9080ed-dbb2-42fc-99b9-7e878ed0c859",
   "metadata": {
    "pycharm": {
     "name": "#%% md\n"
    }
   },
   "source": [
    "A `DataFrame` object is simply a collection of `Series` objects. All objects in a `Series` have to have the same data type, and a `DataFrame` can be made up of whatever series objects you wish.\n",
    "\n",
    "An additional object that makes up both the `Series` and the `DataFrame` is the `Index`. Notice that on every one of the above outputs, you can see the numbers 0-9331. This list of numbers is the `Index` for each `Series`. Each value in the `Index` is the index of that row or value. For `Series` objects, we can reference a particular value by its index. "
   ]
  },
  {
   "cell_type": "code",
   "execution_count": 8,
   "id": "0f8df151-f668-4220-91db-b4b3de605d34",
   "metadata": {
    "pycharm": {
     "name": "#%%\n"
    }
   },
   "outputs": [
    {
     "ename": "SyntaxError",
     "evalue": "invalid syntax (314454445.py, line 2)",
     "output_type": "error",
     "traceback": [
      "\u001B[1;36m  Input \u001B[1;32mIn [8]\u001B[1;36m\u001B[0m\n\u001B[1;33m    df.3\u001B[0m\n\u001B[1;37m      ^\u001B[0m\n\u001B[1;31mSyntaxError\u001B[0m\u001B[1;31m:\u001B[0m invalid syntax\n"
     ]
    }
   ],
   "source": [
    "# df.place[3]\n",
    "df.3"
   ]
  },
  {
   "cell_type": "markdown",
   "id": "53211fff-71cc-4cfd-a5b8-7b34801e29cc",
   "metadata": {
    "pycharm": {
     "name": "#%% md\n"
    }
   },
   "source": [
    "However, if we try to do the same thing for a `DataFrame`, we get the following error. "
   ]
  },
  {
   "cell_type": "code",
   "execution_count": 9,
   "id": "37239149-8129-4035-9be4-5312c0732c51",
   "metadata": {
    "pycharm": {
     "name": "#%%\n"
    }
   },
   "outputs": [
    {
     "ename": "KeyError",
     "evalue": "3",
     "output_type": "error",
     "traceback": [
      "\u001B[1;31m---------------------------------------------------------------------------\u001B[0m",
      "\u001B[1;31mKeyError\u001B[0m                                  Traceback (most recent call last)",
      "File \u001B[1;32m~\\Anaconda3\\lib\\site-packages\\pandas\\core\\indexes\\base.py:3621\u001B[0m, in \u001B[0;36mIndex.get_loc\u001B[1;34m(self, key, method, tolerance)\u001B[0m\n\u001B[0;32m   3620\u001B[0m \u001B[38;5;28;01mtry\u001B[39;00m:\n\u001B[1;32m-> 3621\u001B[0m     \u001B[38;5;28;01mreturn\u001B[39;00m \u001B[38;5;28;43mself\u001B[39;49m\u001B[38;5;241;43m.\u001B[39;49m\u001B[43m_engine\u001B[49m\u001B[38;5;241;43m.\u001B[39;49m\u001B[43mget_loc\u001B[49m\u001B[43m(\u001B[49m\u001B[43mcasted_key\u001B[49m\u001B[43m)\u001B[49m\n\u001B[0;32m   3622\u001B[0m \u001B[38;5;28;01mexcept\u001B[39;00m \u001B[38;5;167;01mKeyError\u001B[39;00m \u001B[38;5;28;01mas\u001B[39;00m err:\n",
      "File \u001B[1;32m~\\Anaconda3\\lib\\site-packages\\pandas\\_libs\\index.pyx:136\u001B[0m, in \u001B[0;36mpandas._libs.index.IndexEngine.get_loc\u001B[1;34m()\u001B[0m\n",
      "File \u001B[1;32m~\\Anaconda3\\lib\\site-packages\\pandas\\_libs\\index.pyx:163\u001B[0m, in \u001B[0;36mpandas._libs.index.IndexEngine.get_loc\u001B[1;34m()\u001B[0m\n",
      "File \u001B[1;32mpandas\\_libs\\hashtable_class_helper.pxi:5198\u001B[0m, in \u001B[0;36mpandas._libs.hashtable.PyObjectHashTable.get_item\u001B[1;34m()\u001B[0m\n",
      "File \u001B[1;32mpandas\\_libs\\hashtable_class_helper.pxi:5206\u001B[0m, in \u001B[0;36mpandas._libs.hashtable.PyObjectHashTable.get_item\u001B[1;34m()\u001B[0m\n",
      "\u001B[1;31mKeyError\u001B[0m: 3",
      "\nThe above exception was the direct cause of the following exception:\n",
      "\u001B[1;31mKeyError\u001B[0m                                  Traceback (most recent call last)",
      "Input \u001B[1;32mIn [9]\u001B[0m, in \u001B[0;36m<cell line: 1>\u001B[1;34m()\u001B[0m\n\u001B[1;32m----> 1\u001B[0m \u001B[43mdf\u001B[49m\u001B[43m[\u001B[49m\u001B[38;5;241;43m3\u001B[39;49m\u001B[43m]\u001B[49m\n",
      "File \u001B[1;32m~\\Anaconda3\\lib\\site-packages\\pandas\\core\\frame.py:3505\u001B[0m, in \u001B[0;36mDataFrame.__getitem__\u001B[1;34m(self, key)\u001B[0m\n\u001B[0;32m   3503\u001B[0m \u001B[38;5;28;01mif\u001B[39;00m \u001B[38;5;28mself\u001B[39m\u001B[38;5;241m.\u001B[39mcolumns\u001B[38;5;241m.\u001B[39mnlevels \u001B[38;5;241m>\u001B[39m \u001B[38;5;241m1\u001B[39m:\n\u001B[0;32m   3504\u001B[0m     \u001B[38;5;28;01mreturn\u001B[39;00m \u001B[38;5;28mself\u001B[39m\u001B[38;5;241m.\u001B[39m_getitem_multilevel(key)\n\u001B[1;32m-> 3505\u001B[0m indexer \u001B[38;5;241m=\u001B[39m \u001B[38;5;28;43mself\u001B[39;49m\u001B[38;5;241;43m.\u001B[39;49m\u001B[43mcolumns\u001B[49m\u001B[38;5;241;43m.\u001B[39;49m\u001B[43mget_loc\u001B[49m\u001B[43m(\u001B[49m\u001B[43mkey\u001B[49m\u001B[43m)\u001B[49m\n\u001B[0;32m   3506\u001B[0m \u001B[38;5;28;01mif\u001B[39;00m is_integer(indexer):\n\u001B[0;32m   3507\u001B[0m     indexer \u001B[38;5;241m=\u001B[39m [indexer]\n",
      "File \u001B[1;32m~\\Anaconda3\\lib\\site-packages\\pandas\\core\\indexes\\base.py:3623\u001B[0m, in \u001B[0;36mIndex.get_loc\u001B[1;34m(self, key, method, tolerance)\u001B[0m\n\u001B[0;32m   3621\u001B[0m     \u001B[38;5;28;01mreturn\u001B[39;00m \u001B[38;5;28mself\u001B[39m\u001B[38;5;241m.\u001B[39m_engine\u001B[38;5;241m.\u001B[39mget_loc(casted_key)\n\u001B[0;32m   3622\u001B[0m \u001B[38;5;28;01mexcept\u001B[39;00m \u001B[38;5;167;01mKeyError\u001B[39;00m \u001B[38;5;28;01mas\u001B[39;00m err:\n\u001B[1;32m-> 3623\u001B[0m     \u001B[38;5;28;01mraise\u001B[39;00m \u001B[38;5;167;01mKeyError\u001B[39;00m(key) \u001B[38;5;28;01mfrom\u001B[39;00m \u001B[38;5;21;01merr\u001B[39;00m\n\u001B[0;32m   3624\u001B[0m \u001B[38;5;28;01mexcept\u001B[39;00m \u001B[38;5;167;01mTypeError\u001B[39;00m:\n\u001B[0;32m   3625\u001B[0m     \u001B[38;5;66;03m# If we have a listlike key, _check_indexing_error will raise\u001B[39;00m\n\u001B[0;32m   3626\u001B[0m     \u001B[38;5;66;03m#  InvalidIndexError. Otherwise we fall through and re-raise\u001B[39;00m\n\u001B[0;32m   3627\u001B[0m     \u001B[38;5;66;03m#  the TypeError.\u001B[39;00m\n\u001B[0;32m   3628\u001B[0m     \u001B[38;5;28mself\u001B[39m\u001B[38;5;241m.\u001B[39m_check_indexing_error(key)\n",
      "\u001B[1;31mKeyError\u001B[0m: 3"
     ]
    }
   ],
   "source": [
    "df[3]"
   ]
  },
  {
   "cell_type": "markdown",
   "id": "ce059598-8166-450f-94bd-df239ce251fd",
   "metadata": {
    "pycharm": {
     "name": "#%% md\n"
    }
   },
   "source": [
    "This is because the above syntax is trying to refer to the column name. To reference an entire row of a dataframe, you must use the following syntax."
   ]
  },
  {
   "cell_type": "code",
   "execution_count": 14,
   "id": "ecca0e12-8279-48fd-9c67-c10721b7bb38",
   "metadata": {
    "pycharm": {
     "name": "#%%\n"
    }
   },
   "outputs": [
    {
     "data": {
      "text/plain": [
       "alert                                                         NaN\n",
       "cdi                                                           NaN\n",
       "code                                                     37389186\n",
       "detail          https://earthquake.usgs.gov/fdsnws/event/1/que...\n",
       "dmin                                                      0.02618\n",
       "felt                                                          NaN\n",
       "gap                                                          39.0\n",
       "ids                                                  ,ci37389186,\n",
       "mag                                                          0.44\n",
       "magType                                                        ml\n",
       "mmi                                                           NaN\n",
       "net                                                            ci\n",
       "nst                                                          26.0\n",
       "place                                       9km NE of Aguanga, CA\n",
       "rms                                                          0.17\n",
       "sig                                                             3\n",
       "sources                                                      ,ci,\n",
       "status                                                  automatic\n",
       "time                                                1539474978070\n",
       "title                               M 0.4 - 9km NE of Aguanga, CA\n",
       "tsunami                                                         0\n",
       "type                                                   earthquake\n",
       "types                  ,geoserve,nearby-cities,origin,phase-data,\n",
       "tz                                                         -480.0\n",
       "updated                                             1539475196167\n",
       "url             https://earthquake.usgs.gov/earthquakes/eventp...\n",
       "parsed_place                                           California\n",
       "Name: 3, dtype: object"
      ]
     },
     "execution_count": 14,
     "metadata": {},
     "output_type": "execute_result"
    }
   ],
   "source": [
    "df.iloc[3]"
   ]
  },
  {
   "cell_type": "markdown",
   "id": "0ca5f7cd-b30c-4337-b3ca-b426955c842f",
   "metadata": {
    "pycharm": {
     "name": "#%% md\n"
    }
   },
   "source": [
    "The column names can be retrieved by using"
   ]
  },
  {
   "cell_type": "code",
   "execution_count": 15,
   "id": "d1c93772-331b-4635-9dfa-c56a9c45c18e",
   "metadata": {
    "pycharm": {
     "name": "#%%\n"
    }
   },
   "outputs": [
    {
     "data": {
      "text/plain": [
       "Index(['alert', 'cdi', 'code', 'detail', 'dmin', 'felt', 'gap', 'ids', 'mag',\n",
       "       'magType', 'mmi', 'net', 'nst', 'place', 'rms', 'sig', 'sources',\n",
       "       'status', 'time', 'title', 'tsunami', 'type', 'types', 'tz', 'updated',\n",
       "       'url', 'parsed_place'],\n",
       "      dtype='object')"
      ]
     },
     "execution_count": 15,
     "metadata": {},
     "output_type": "execute_result"
    }
   ],
   "source": [
    "df.columns"
   ]
  },
  {
   "cell_type": "markdown",
   "id": "97ed8311-c2f3-4df8-a3da-fc637c9521d0",
   "metadata": {
    "pycharm": {
     "name": "#%% md\n"
    }
   },
   "source": [
    "If we need to refernce multiple columns at once, we can pass in a list of column names into square brackets. This will return a new dataframe of just the subset of columns. "
   ]
  },
  {
   "cell_type": "code",
   "execution_count": 17,
   "id": "27b48fe2-b77e-4f2e-a81e-288d1f4653e8",
   "metadata": {
    "pycharm": {
     "name": "#%%\n"
    }
   },
   "outputs": [
    {
     "data": {
      "text/html": [
       "<div>\n",
       "<style scoped>\n",
       "    .dataframe tbody tr th:only-of-type {\n",
       "        vertical-align: middle;\n",
       "    }\n",
       "\n",
       "    .dataframe tbody tr th {\n",
       "        vertical-align: top;\n",
       "    }\n",
       "\n",
       "    .dataframe thead th {\n",
       "        text-align: right;\n",
       "    }\n",
       "</style>\n",
       "<table border=\"1\" class=\"dataframe\">\n",
       "  <thead>\n",
       "    <tr style=\"text-align: right;\">\n",
       "      <th></th>\n",
       "      <th>time</th>\n",
       "      <th>mag</th>\n",
       "      <th>magType</th>\n",
       "      <th>place</th>\n",
       "      <th>parsed_place</th>\n",
       "    </tr>\n",
       "  </thead>\n",
       "  <tbody>\n",
       "    <tr>\n",
       "      <th>0</th>\n",
       "      <td>1539475168010</td>\n",
       "      <td>1.35</td>\n",
       "      <td>ml</td>\n",
       "      <td>9km NE of Aguanga, CA</td>\n",
       "      <td>California</td>\n",
       "    </tr>\n",
       "    <tr>\n",
       "      <th>1</th>\n",
       "      <td>1539475129610</td>\n",
       "      <td>1.29</td>\n",
       "      <td>ml</td>\n",
       "      <td>9km NE of Aguanga, CA</td>\n",
       "      <td>California</td>\n",
       "    </tr>\n",
       "    <tr>\n",
       "      <th>2</th>\n",
       "      <td>1539475062610</td>\n",
       "      <td>3.42</td>\n",
       "      <td>ml</td>\n",
       "      <td>8km NE of Aguanga, CA</td>\n",
       "      <td>California</td>\n",
       "    </tr>\n",
       "    <tr>\n",
       "      <th>3</th>\n",
       "      <td>1539474978070</td>\n",
       "      <td>0.44</td>\n",
       "      <td>ml</td>\n",
       "      <td>9km NE of Aguanga, CA</td>\n",
       "      <td>California</td>\n",
       "    </tr>\n",
       "    <tr>\n",
       "      <th>4</th>\n",
       "      <td>1539474716050</td>\n",
       "      <td>2.16</td>\n",
       "      <td>md</td>\n",
       "      <td>10km NW of Avenal, CA</td>\n",
       "      <td>California</td>\n",
       "    </tr>\n",
       "    <tr>\n",
       "      <th>...</th>\n",
       "      <td>...</td>\n",
       "      <td>...</td>\n",
       "      <td>...</td>\n",
       "      <td>...</td>\n",
       "      <td>...</td>\n",
       "    </tr>\n",
       "    <tr>\n",
       "      <th>9327</th>\n",
       "      <td>1537230228060</td>\n",
       "      <td>0.62</td>\n",
       "      <td>md</td>\n",
       "      <td>9km ENE of Mammoth Lakes, CA</td>\n",
       "      <td>California</td>\n",
       "    </tr>\n",
       "    <tr>\n",
       "      <th>9328</th>\n",
       "      <td>1537230135130</td>\n",
       "      <td>1.00</td>\n",
       "      <td>ml</td>\n",
       "      <td>3km W of Julian, CA</td>\n",
       "      <td>California</td>\n",
       "    </tr>\n",
       "    <tr>\n",
       "      <th>9329</th>\n",
       "      <td>1537229908180</td>\n",
       "      <td>2.40</td>\n",
       "      <td>md</td>\n",
       "      <td>35km NNE of Hatillo, Puerto Rico</td>\n",
       "      <td>Puerto Rico</td>\n",
       "    </tr>\n",
       "    <tr>\n",
       "      <th>9330</th>\n",
       "      <td>1537229545350</td>\n",
       "      <td>1.10</td>\n",
       "      <td>ml</td>\n",
       "      <td>9km NE of Aguanga, CA</td>\n",
       "      <td>California</td>\n",
       "    </tr>\n",
       "    <tr>\n",
       "      <th>9331</th>\n",
       "      <td>1537228864470</td>\n",
       "      <td>0.66</td>\n",
       "      <td>ml</td>\n",
       "      <td>9km NE of Aguanga, CA</td>\n",
       "      <td>California</td>\n",
       "    </tr>\n",
       "  </tbody>\n",
       "</table>\n",
       "<p>9332 rows × 5 columns</p>\n",
       "</div>"
      ],
      "text/plain": [
       "               time   mag magType                             place  \\\n",
       "0     1539475168010  1.35      ml             9km NE of Aguanga, CA   \n",
       "1     1539475129610  1.29      ml             9km NE of Aguanga, CA   \n",
       "2     1539475062610  3.42      ml             8km NE of Aguanga, CA   \n",
       "3     1539474978070  0.44      ml             9km NE of Aguanga, CA   \n",
       "4     1539474716050  2.16      md             10km NW of Avenal, CA   \n",
       "...             ...   ...     ...                               ...   \n",
       "9327  1537230228060  0.62      md      9km ENE of Mammoth Lakes, CA   \n",
       "9328  1537230135130  1.00      ml               3km W of Julian, CA   \n",
       "9329  1537229908180  2.40      md  35km NNE of Hatillo, Puerto Rico   \n",
       "9330  1537229545350  1.10      ml             9km NE of Aguanga, CA   \n",
       "9331  1537228864470  0.66      ml             9km NE of Aguanga, CA   \n",
       "\n",
       "     parsed_place  \n",
       "0      California  \n",
       "1      California  \n",
       "2      California  \n",
       "3      California  \n",
       "4      California  \n",
       "...           ...  \n",
       "9327   California  \n",
       "9328   California  \n",
       "9329  Puerto Rico  \n",
       "9330   California  \n",
       "9331   California  \n",
       "\n",
       "[9332 rows x 5 columns]"
      ]
     },
     "execution_count": 17,
     "metadata": {},
     "output_type": "execute_result"
    }
   ],
   "source": [
    "df[[\"time\",\"mag\", \"magType\", \"place\", \"parsed_place\"]]"
   ]
  },
  {
   "cell_type": "markdown",
   "id": "6f3e8199-1676-4365-a69a-99d8264afd40",
   "metadata": {
    "pycharm": {
     "name": "#%% md\n"
    }
   },
   "source": [
    "## Using DataFrames\n",
    "\n",
    "Python has a reputation for being very slow. This is due to the fact that \n",
    "1. it is not a compiled language like C or C++\n",
    "2. there is a lot of extra bits on the backend that might not be present in a lower level language. \n",
    "\n",
    "For most scripting use cases, neither of these poses a problem. If you are doing any sort of high volume numerical computations, this will really slow down your workflow. To fix this, the python community created the NumPy package. This package trims down numbers to simply the actual number, offers in more matrix- and vector-like functionality (element-wise addition, vetor products, matrix multiplication, etc.), and many other functions to enable faster numerical computations. Pandas builds upon that base to bring in many of the same speed and functionality benefits into dataframes. To this end, we can operate on entire columns, build entirely new columns based on the values of already existing ones, filter rows based on the value of a single column, etc.\n",
    "\n",
    "### Adding new Columns\n",
    "Let's first build a new column. I want to determine if an earthquake occured on the Ring of Fire. The locations that make up the Ring of Fire are saved in the following list (inlcuding a mix of country and US State names):"
   ]
  },
  {
   "cell_type": "code",
   "execution_count": 27,
   "id": "4c4285fe-3190-4b52-915e-105facf1ba9f",
   "metadata": {
    "pycharm": {
     "name": "#%%\n"
    }
   },
   "outputs": [],
   "source": [
    "ring_of_fire = [ \n",
    "    \"Bolivia\", \n",
    "    \"Chile\", \n",
    "    \"Ecuador\", \n",
    "    \"Peru\", \n",
    "    \"Costa Rica\", \n",
    "    \"Guatemala\", \n",
    "    \"Mexico\", \n",
    "    \"Japan\", \n",
    "    \"Philippines\", \n",
    "    \"Indonesia\", \n",
    "    \"New Zealand\", \n",
    "    \"Antarctic\", \n",
    "    \"Canada\", \n",
    "    \"Fiji\", \n",
    "    \"Alaska\", \n",
    "    \"Washington\", \n",
    "    \"California\", \n",
    "    \"Russia\", \n",
    "    \"Taiwan\", \n",
    "    \"Tonga\", \n",
    "    \"Kermadec Islands\"\n",
    "]"
   ]
  },
  {
   "cell_type": "markdown",
   "id": "d75eedcc-5fe2-4ea1-b1a4-27e35a67c0ff",
   "metadata": {
    "pycharm": {
     "name": "#%% md\n"
    }
   },
   "source": [
    "Taking a look at the column `parsed_place`, we note that these names best match to that column. "
   ]
  },
  {
   "cell_type": "code",
   "execution_count": 19,
   "id": "e518f0b1-13c1-4ead-a636-b55c334fe195",
   "metadata": {
    "pycharm": {
     "name": "#%%\n"
    }
   },
   "outputs": [
    {
     "data": {
      "text/plain": [
       "array(['California', 'Dominican Republic', 'Alaska', 'Indonesia',\n",
       "       'Canada', 'Puerto Rico', 'Montana', 'Nevada', 'Christmas Island',\n",
       "       'Hawaii', 'Northern Mariana Islands', 'Japan', 'Ecuador',\n",
       "       'Vanuatu', 'Mexico', 'Russia', 'British Virgin Islands',\n",
       "       'Washington', 'Papua New Guinea', 'Fiji', 'U.S. Virgin Islands',\n",
       "       'Chile', 'Peru', 'Yemen', 'Guatemala', 'Kansas', 'Australia',\n",
       "       'Wyoming', 'Kuril Islands', 'Oklahoma', 'Tennessee',\n",
       "       'Pacific-Antarctic Ridge', 'Utah', 'Colombia', 'Argentina',\n",
       "       'Oregon', 'Greece', 'Missouri', 'Tajikistan',\n",
       "       'Northern Mid-Atlantic Ridge', 'Sumatra', 'Solomon Islands',\n",
       "       'Burma', 'Taiwan', 'Nicaragua',\n",
       "       'South Georgia and South Sandwich Islands', 'Idaho', 'Kyrgyzstan',\n",
       "       'Arizona', 'Tonga', 'Northern East Pacific Rise', 'South Africa',\n",
       "       'Southern Mid-Atlantic Ridge', 'Costa Rica', 'China',\n",
       "       'Philippines', 'Haiti', 'Jamaica', 'Kentucky', 'New Zealand',\n",
       "       'Iran', 'Afghanistan', 'Southwest Indian Ridge', 'Saint Helena',\n",
       "       'Texas', 'New Caledonia', 'El Salvador',\n",
       "       'Central Mid-Atlantic Ridge', 'Western Xizang', 'Italy',\n",
       "       'Mid-Indian Ridge', 'Ascension Island', 'North Carolina',\n",
       "       'South Sandwich Islands', 'Saint Eustatius and Saba', 'Pakistan',\n",
       "       'Bolivia', 'Turkey', 'Indian Ocean Triple Junction', 'Mayotte',\n",
       "       'Queen Charlotte Islands', 'India', 'Arkansas', 'Guam',\n",
       "       'Uzbekistan', 'Prince Edward Islands', 'Martinique', 'Honduras',\n",
       "       'Southern East Pacific Rise', 'East Timor', 'Barbuda', 'Mauritius',\n",
       "       'Carlsberg Ridge', 'Greenland', 'Balleny Islands',\n",
       "       'Western Indian-Antarctic Ridge', 'South Carolina', 'Vermont',\n",
       "       'Romania', 'New Hampshire', 'Central East Pacific Rise',\n",
       "       'Southeast Indian Ridge', 'Kermadec Islands', 'Colorado',\n",
       "       'Illinois', 'Socotra', 'Azerbaijan', 'Iraq', 'Somalia',\n",
       "       'New Mexico'], dtype=object)"
      ]
     },
     "execution_count": 19,
     "metadata": {},
     "output_type": "execute_result"
    }
   ],
   "source": [
    "df.parsed_place.unique()"
   ]
  },
  {
   "cell_type": "markdown",
   "id": "ce800834-847c-4e92-8312-520cade6c90b",
   "metadata": {
    "pycharm": {
     "name": "#%% md\n"
    }
   },
   "source": [
    "One way of determining if a value is in a given list is by using the `value in list` syntax. Using this, we are essentially asking of a particular value exists within that list. This would look like the following "
   ]
  },
  {
   "cell_type": "code",
   "execution_count": 23,
   "id": "fc9e96b2-7f8d-40a8-8165-5da26c26e332",
   "metadata": {
    "pycharm": {
     "name": "#%%\n"
    }
   },
   "outputs": [
    {
     "data": {
      "text/plain": [
       "True"
      ]
     },
     "execution_count": 23,
     "metadata": {},
     "output_type": "execute_result"
    }
   ],
   "source": [
    "\"North Carolina\" in df.parsed_place.unique()"
   ]
  },
  {
   "cell_type": "markdown",
   "id": "6c5e8429-c0ad-4fad-8c61-a2cc54e6719f",
   "metadata": {
    "pycharm": {
     "name": "#%% md\n"
    }
   },
   "source": [
    "This tells us that at least one row has the value `'North Carolina'` in the `parsed_place` column of our dataset. However, what we need to do is build a series of values for true and false based on the value of that particular row. For this we can use a feature called list comprehension. This one-liner trick builds a list very efficently, which we can later convert into a column. "
   ]
  },
  {
   "cell_type": "code",
   "execution_count": 28,
   "id": "0c4fc90d-66e1-4c03-9df6-660c29aee6f0",
   "metadata": {
    "pycharm": {
     "name": "#%%\n"
    }
   },
   "outputs": [
    {
     "name": "stdout",
     "output_type": "stream",
     "text": [
      "length: 9332\n",
      "unique: {False, True}\n"
     ]
    }
   ],
   "source": [
    "ring_of_fire_column_list = [location in ring_of_fire for location in df.parsed_place]\n",
    "print(\"length:\", len(ring_of_fire_column_list))\n",
    "print(\"unique:\", set(ring_of_fire_column_list))"
   ]
  },
  {
   "cell_type": "markdown",
   "id": "af6d31e4-d871-4667-949b-8698eb105125",
   "metadata": {
    "pycharm": {
     "name": "#%% md\n"
    }
   },
   "source": [
    "Perfect, now we have a list of true/false values with the same number of values as the number of rows in our dataset. Converting this into a series is done simply by instanctiating the class from the Pandas library"
   ]
  },
  {
   "cell_type": "code",
   "execution_count": 29,
   "id": "fbdf21ff-aec0-44d7-a58e-1c46fbcf01aa",
   "metadata": {
    "pycharm": {
     "name": "#%%\n"
    }
   },
   "outputs": [
    {
     "data": {
      "text/plain": [
       "0        True\n",
       "1        True\n",
       "2        True\n",
       "3        True\n",
       "4        True\n",
       "        ...  \n",
       "9327     True\n",
       "9328     True\n",
       "9329    False\n",
       "9330     True\n",
       "9331     True\n",
       "Name: is_in_ring_of_fire, Length: 9332, dtype: bool"
      ]
     },
     "execution_count": 29,
     "metadata": {},
     "output_type": "execute_result"
    }
   ],
   "source": [
    "ring_of_fire_column = pd.Series(ring_of_fire_column_list, name=\"is_in_ring_of_fire\")\n",
    "ring_of_fire_column"
   ]
  },
  {
   "cell_type": "markdown",
   "id": "33b7522e-3793-4edf-9191-c2ccd4b804cd",
   "metadata": {
    "pycharm": {
     "name": "#%% md\n"
    }
   },
   "source": [
    "Pandas is a very versitile library and is able adapt its functionality based on the inputs. Here we were able to convert out list into a Series. We can add our series to the original dataframe by using the `join` method."
   ]
  },
  {
   "cell_type": "code",
   "execution_count": 30,
   "id": "f02997d8-0f31-4ac5-9488-cf30c299be01",
   "metadata": {
    "pycharm": {
     "name": "#%%\n"
    }
   },
   "outputs": [
    {
     "data": {
      "text/html": [
       "<div>\n",
       "<style scoped>\n",
       "    .dataframe tbody tr th:only-of-type {\n",
       "        vertical-align: middle;\n",
       "    }\n",
       "\n",
       "    .dataframe tbody tr th {\n",
       "        vertical-align: top;\n",
       "    }\n",
       "\n",
       "    .dataframe thead th {\n",
       "        text-align: right;\n",
       "    }\n",
       "</style>\n",
       "<table border=\"1\" class=\"dataframe\">\n",
       "  <thead>\n",
       "    <tr style=\"text-align: right;\">\n",
       "      <th></th>\n",
       "      <th>parsed_place</th>\n",
       "      <th>is_in_ring_of_fire</th>\n",
       "    </tr>\n",
       "  </thead>\n",
       "  <tbody>\n",
       "    <tr>\n",
       "      <th>0</th>\n",
       "      <td>California</td>\n",
       "      <td>True</td>\n",
       "    </tr>\n",
       "    <tr>\n",
       "      <th>1</th>\n",
       "      <td>California</td>\n",
       "      <td>True</td>\n",
       "    </tr>\n",
       "    <tr>\n",
       "      <th>2</th>\n",
       "      <td>California</td>\n",
       "      <td>True</td>\n",
       "    </tr>\n",
       "    <tr>\n",
       "      <th>3</th>\n",
       "      <td>California</td>\n",
       "      <td>True</td>\n",
       "    </tr>\n",
       "    <tr>\n",
       "      <th>4</th>\n",
       "      <td>California</td>\n",
       "      <td>True</td>\n",
       "    </tr>\n",
       "    <tr>\n",
       "      <th>...</th>\n",
       "      <td>...</td>\n",
       "      <td>...</td>\n",
       "    </tr>\n",
       "    <tr>\n",
       "      <th>9327</th>\n",
       "      <td>California</td>\n",
       "      <td>True</td>\n",
       "    </tr>\n",
       "    <tr>\n",
       "      <th>9328</th>\n",
       "      <td>California</td>\n",
       "      <td>True</td>\n",
       "    </tr>\n",
       "    <tr>\n",
       "      <th>9329</th>\n",
       "      <td>Puerto Rico</td>\n",
       "      <td>False</td>\n",
       "    </tr>\n",
       "    <tr>\n",
       "      <th>9330</th>\n",
       "      <td>California</td>\n",
       "      <td>True</td>\n",
       "    </tr>\n",
       "    <tr>\n",
       "      <th>9331</th>\n",
       "      <td>California</td>\n",
       "      <td>True</td>\n",
       "    </tr>\n",
       "  </tbody>\n",
       "</table>\n",
       "<p>9332 rows × 2 columns</p>\n",
       "</div>"
      ],
      "text/plain": [
       "     parsed_place  is_in_ring_of_fire\n",
       "0      California                True\n",
       "1      California                True\n",
       "2      California                True\n",
       "3      California                True\n",
       "4      California                True\n",
       "...           ...                 ...\n",
       "9327   California                True\n",
       "9328   California                True\n",
       "9329  Puerto Rico               False\n",
       "9330   California                True\n",
       "9331   California                True\n",
       "\n",
       "[9332 rows x 2 columns]"
      ]
     },
     "execution_count": 30,
     "metadata": {},
     "output_type": "execute_result"
    }
   ],
   "source": [
    "df_join = df.join(ring_of_fire_column)\n",
    "df_join[[\"parsed_place\",\"is_in_ring_of_fire\"]]"
   ]
  },
  {
   "cell_type": "code",
   "execution_count": 32,
   "id": "a62f94c6-3ace-4c07-b161-2df619656c48",
   "metadata": {
    "pycharm": {
     "name": "#%%\n"
    }
   },
   "outputs": [
    {
     "data": {
      "text/plain": [
       "Index(['alert', 'cdi', 'code', 'detail', 'dmin', 'felt', 'gap', 'ids', 'mag',\n",
       "       'magType', 'mmi', 'net', 'nst', 'place', 'rms', 'sig', 'sources',\n",
       "       'status', 'time', 'title', 'tsunami', 'type', 'types', 'tz', 'updated',\n",
       "       'url', 'parsed_place', 'is_in_ring_of_fire'],\n",
       "      dtype='object')"
      ]
     },
     "execution_count": 32,
     "metadata": {},
     "output_type": "execute_result"
    }
   ],
   "source": [
    "df_join.columns"
   ]
  },
  {
   "cell_type": "markdown",
   "id": "96d54222-c942-4302-abca-afdb9e556354",
   "metadata": {
    "pycharm": {
     "name": "#%% md\n"
    }
   },
   "source": [
    "We can now see that the column has been added to the dataframe. \n",
    "\n",
    "_Note: that the dataframe has to be saved again after the joining. Dataframes are imutible (unchangeable) objects in python. Therefore, you need to resave the dataframe after making a change like dropping or adding columns or filtering rows._\n",
    "\n",
    "An alternate (and slightly simpler) way of adding the column is by assigning the list directly to a new key. "
   ]
  },
  {
   "cell_type": "code",
   "execution_count": 33,
   "id": "a8fc736f-912c-40b7-8cff-e9b40ad98d20",
   "metadata": {
    "pycharm": {
     "name": "#%%\n"
    }
   },
   "outputs": [
    {
     "data": {
      "text/html": [
       "<div>\n",
       "<style scoped>\n",
       "    .dataframe tbody tr th:only-of-type {\n",
       "        vertical-align: middle;\n",
       "    }\n",
       "\n",
       "    .dataframe tbody tr th {\n",
       "        vertical-align: top;\n",
       "    }\n",
       "\n",
       "    .dataframe thead th {\n",
       "        text-align: right;\n",
       "    }\n",
       "</style>\n",
       "<table border=\"1\" class=\"dataframe\">\n",
       "  <thead>\n",
       "    <tr style=\"text-align: right;\">\n",
       "      <th></th>\n",
       "      <th>parsed_place</th>\n",
       "      <th>is_in_ring_of_fire</th>\n",
       "    </tr>\n",
       "  </thead>\n",
       "  <tbody>\n",
       "    <tr>\n",
       "      <th>0</th>\n",
       "      <td>California</td>\n",
       "      <td>True</td>\n",
       "    </tr>\n",
       "    <tr>\n",
       "      <th>1</th>\n",
       "      <td>California</td>\n",
       "      <td>True</td>\n",
       "    </tr>\n",
       "    <tr>\n",
       "      <th>2</th>\n",
       "      <td>California</td>\n",
       "      <td>True</td>\n",
       "    </tr>\n",
       "    <tr>\n",
       "      <th>3</th>\n",
       "      <td>California</td>\n",
       "      <td>True</td>\n",
       "    </tr>\n",
       "    <tr>\n",
       "      <th>4</th>\n",
       "      <td>California</td>\n",
       "      <td>True</td>\n",
       "    </tr>\n",
       "    <tr>\n",
       "      <th>...</th>\n",
       "      <td>...</td>\n",
       "      <td>...</td>\n",
       "    </tr>\n",
       "    <tr>\n",
       "      <th>9327</th>\n",
       "      <td>California</td>\n",
       "      <td>True</td>\n",
       "    </tr>\n",
       "    <tr>\n",
       "      <th>9328</th>\n",
       "      <td>California</td>\n",
       "      <td>True</td>\n",
       "    </tr>\n",
       "    <tr>\n",
       "      <th>9329</th>\n",
       "      <td>Puerto Rico</td>\n",
       "      <td>False</td>\n",
       "    </tr>\n",
       "    <tr>\n",
       "      <th>9330</th>\n",
       "      <td>California</td>\n",
       "      <td>True</td>\n",
       "    </tr>\n",
       "    <tr>\n",
       "      <th>9331</th>\n",
       "      <td>California</td>\n",
       "      <td>True</td>\n",
       "    </tr>\n",
       "  </tbody>\n",
       "</table>\n",
       "<p>9332 rows × 2 columns</p>\n",
       "</div>"
      ],
      "text/plain": [
       "     parsed_place  is_in_ring_of_fire\n",
       "0      California                True\n",
       "1      California                True\n",
       "2      California                True\n",
       "3      California                True\n",
       "4      California                True\n",
       "...           ...                 ...\n",
       "9327   California                True\n",
       "9328   California                True\n",
       "9329  Puerto Rico               False\n",
       "9330   California                True\n",
       "9331   California                True\n",
       "\n",
       "[9332 rows x 2 columns]"
      ]
     },
     "execution_count": 33,
     "metadata": {},
     "output_type": "execute_result"
    }
   ],
   "source": [
    "df['is_in_ring_of_fire'] = ring_of_fire_column_list\n",
    "df[[\"parsed_place\", \"is_in_ring_of_fire\"]]"
   ]
  },
  {
   "cell_type": "markdown",
   "id": "9acf8c56-b5aa-434c-aa2b-139b079f53c3",
   "metadata": {
    "pycharm": {
     "name": "#%% md\n"
    }
   },
   "source": [
    "### Filtering rows\n",
    "Filtering rows works by creating a series or list of boolean values, and passing that in as the index argument. This can be either the value of a boolean column, such as the `is_in_ring_of_fire` column we created in the last section. Alternatively, you can filter based on some condition regarding the value of the entry, such as is the magnitude higher than some value. Let's explore both of these options below. "
   ]
  },
  {
   "cell_type": "code",
   "execution_count": 39,
   "id": "8b798771-e72b-4e6f-955e-ba9c019ab1e4",
   "metadata": {
    "pycharm": {
     "name": "#%%\n"
    }
   },
   "outputs": [
    {
     "data": {
      "text/html": [
       "<div>\n",
       "<style scoped>\n",
       "    .dataframe tbody tr th:only-of-type {\n",
       "        vertical-align: middle;\n",
       "    }\n",
       "\n",
       "    .dataframe tbody tr th {\n",
       "        vertical-align: top;\n",
       "    }\n",
       "\n",
       "    .dataframe thead th {\n",
       "        text-align: right;\n",
       "    }\n",
       "</style>\n",
       "<table border=\"1\" class=\"dataframe\">\n",
       "  <thead>\n",
       "    <tr style=\"text-align: right;\">\n",
       "      <th></th>\n",
       "      <th>parsed_place</th>\n",
       "      <th>is_in_ring_of_fire</th>\n",
       "    </tr>\n",
       "  </thead>\n",
       "  <tbody>\n",
       "    <tr>\n",
       "      <th>0</th>\n",
       "      <td>California</td>\n",
       "      <td>True</td>\n",
       "    </tr>\n",
       "    <tr>\n",
       "      <th>1</th>\n",
       "      <td>California</td>\n",
       "      <td>True</td>\n",
       "    </tr>\n",
       "    <tr>\n",
       "      <th>2</th>\n",
       "      <td>California</td>\n",
       "      <td>True</td>\n",
       "    </tr>\n",
       "    <tr>\n",
       "      <th>3</th>\n",
       "      <td>California</td>\n",
       "      <td>True</td>\n",
       "    </tr>\n",
       "    <tr>\n",
       "      <th>4</th>\n",
       "      <td>California</td>\n",
       "      <td>True</td>\n",
       "    </tr>\n",
       "    <tr>\n",
       "      <th>...</th>\n",
       "      <td>...</td>\n",
       "      <td>...</td>\n",
       "    </tr>\n",
       "    <tr>\n",
       "      <th>9326</th>\n",
       "      <td>California</td>\n",
       "      <td>True</td>\n",
       "    </tr>\n",
       "    <tr>\n",
       "      <th>9327</th>\n",
       "      <td>California</td>\n",
       "      <td>True</td>\n",
       "    </tr>\n",
       "    <tr>\n",
       "      <th>9328</th>\n",
       "      <td>California</td>\n",
       "      <td>True</td>\n",
       "    </tr>\n",
       "    <tr>\n",
       "      <th>9330</th>\n",
       "      <td>California</td>\n",
       "      <td>True</td>\n",
       "    </tr>\n",
       "    <tr>\n",
       "      <th>9331</th>\n",
       "      <td>California</td>\n",
       "      <td>True</td>\n",
       "    </tr>\n",
       "  </tbody>\n",
       "</table>\n",
       "<p>7184 rows × 2 columns</p>\n",
       "</div>"
      ],
      "text/plain": [
       "     parsed_place  is_in_ring_of_fire\n",
       "0      California                True\n",
       "1      California                True\n",
       "2      California                True\n",
       "3      California                True\n",
       "4      California                True\n",
       "...           ...                 ...\n",
       "9326   California                True\n",
       "9327   California                True\n",
       "9328   California                True\n",
       "9330   California                True\n",
       "9331   California                True\n",
       "\n",
       "[7184 rows x 2 columns]"
      ]
     },
     "execution_count": 39,
     "metadata": {},
     "output_type": "execute_result"
    }
   ],
   "source": [
    "df[df.is_in_ring_of_fire][[\"parsed_place\",\"is_in_ring_of_fire\"]]"
   ]
  },
  {
   "cell_type": "markdown",
   "id": "940e6df7-4360-4655-8341-f6e629f69081",
   "metadata": {
    "pycharm": {
     "name": "#%% md\n"
    }
   },
   "source": [
    "Notice that the number of rows is smaller by ~2000. To make this even more dramatic, let's show all the rows that are _not_ in the ring of fire. "
   ]
  },
  {
   "cell_type": "code",
   "execution_count": 40,
   "id": "a8f231aa-74f8-473d-af12-2801f8bdaaa6",
   "metadata": {
    "pycharm": {
     "name": "#%%\n"
    }
   },
   "outputs": [
    {
     "data": {
      "text/html": [
       "<div>\n",
       "<style scoped>\n",
       "    .dataframe tbody tr th:only-of-type {\n",
       "        vertical-align: middle;\n",
       "    }\n",
       "\n",
       "    .dataframe tbody tr th {\n",
       "        vertical-align: top;\n",
       "    }\n",
       "\n",
       "    .dataframe thead th {\n",
       "        text-align: right;\n",
       "    }\n",
       "</style>\n",
       "<table border=\"1\" class=\"dataframe\">\n",
       "  <thead>\n",
       "    <tr style=\"text-align: right;\">\n",
       "      <th></th>\n",
       "      <th>parsed_place</th>\n",
       "      <th>is_in_ring_of_fire</th>\n",
       "    </tr>\n",
       "  </thead>\n",
       "  <tbody>\n",
       "    <tr>\n",
       "      <th>5</th>\n",
       "      <td>Dominican Republic</td>\n",
       "      <td>False</td>\n",
       "    </tr>\n",
       "    <tr>\n",
       "      <th>11</th>\n",
       "      <td>Dominican Republic</td>\n",
       "      <td>False</td>\n",
       "    </tr>\n",
       "    <tr>\n",
       "      <th>17</th>\n",
       "      <td>Puerto Rico</td>\n",
       "      <td>False</td>\n",
       "    </tr>\n",
       "    <tr>\n",
       "      <th>20</th>\n",
       "      <td>Puerto Rico</td>\n",
       "      <td>False</td>\n",
       "    </tr>\n",
       "    <tr>\n",
       "      <th>30</th>\n",
       "      <td>Montana</td>\n",
       "      <td>False</td>\n",
       "    </tr>\n",
       "    <tr>\n",
       "      <th>...</th>\n",
       "      <td>...</td>\n",
       "      <td>...</td>\n",
       "    </tr>\n",
       "    <tr>\n",
       "      <th>9306</th>\n",
       "      <td>Puerto Rico</td>\n",
       "      <td>False</td>\n",
       "    </tr>\n",
       "    <tr>\n",
       "      <th>9307</th>\n",
       "      <td>Puerto Rico</td>\n",
       "      <td>False</td>\n",
       "    </tr>\n",
       "    <tr>\n",
       "      <th>9315</th>\n",
       "      <td>Puerto Rico</td>\n",
       "      <td>False</td>\n",
       "    </tr>\n",
       "    <tr>\n",
       "      <th>9319</th>\n",
       "      <td>Argentina</td>\n",
       "      <td>False</td>\n",
       "    </tr>\n",
       "    <tr>\n",
       "      <th>9329</th>\n",
       "      <td>Puerto Rico</td>\n",
       "      <td>False</td>\n",
       "    </tr>\n",
       "  </tbody>\n",
       "</table>\n",
       "<p>2148 rows × 2 columns</p>\n",
       "</div>"
      ],
      "text/plain": [
       "            parsed_place  is_in_ring_of_fire\n",
       "5     Dominican Republic               False\n",
       "11    Dominican Republic               False\n",
       "17           Puerto Rico               False\n",
       "20           Puerto Rico               False\n",
       "30               Montana               False\n",
       "...                  ...                 ...\n",
       "9306         Puerto Rico               False\n",
       "9307         Puerto Rico               False\n",
       "9315         Puerto Rico               False\n",
       "9319           Argentina               False\n",
       "9329         Puerto Rico               False\n",
       "\n",
       "[2148 rows x 2 columns]"
      ]
     },
     "execution_count": 40,
     "metadata": {},
     "output_type": "execute_result"
    }
   ],
   "source": [
    "df[df.is_in_ring_of_fire == False][[\"parsed_place\",\"is_in_ring_of_fire\"]]"
   ]
  },
  {
   "cell_type": "markdown",
   "id": "ceabfcf1-2de0-4fd9-ab2d-a951cd2d3b85",
   "metadata": {
    "pycharm": {
     "name": "#%% md\n"
    }
   },
   "source": [
    "Now we have just over 2000 rows, which lines up roughly with what we noticed before. Notice that we could have used the same syntax for the true case, specificaly, `df.is_in_ring_of_fire == True`. Also notice that the index of the row does not change. The index still points back to the row number of the original dataframe, or the row number is specifically connected to the data, and is not simply a counter. There are ways of reassigning the index, but that is not something I want to explore for this class. \n",
    "\n",
    "Note that we used the equality operator (`==`) when filtering on this second row. This suggestes that we can use other comparison operators for different values as well. Rather, we can use any operator that returns an array boolean values. To clarify what I mean, let's look at the following. "
   ]
  },
  {
   "cell_type": "code",
   "execution_count": 41,
   "id": "74043284-45ea-45cf-b734-4d236142fe7a",
   "metadata": {
    "pycharm": {
     "name": "#%%\n"
    }
   },
   "outputs": [
    {
     "data": {
      "text/plain": [
       "0        True\n",
       "1        True\n",
       "2        True\n",
       "3        True\n",
       "4        True\n",
       "        ...  \n",
       "9327     True\n",
       "9328     True\n",
       "9329    False\n",
       "9330     True\n",
       "9331     True\n",
       "Name: is_in_ring_of_fire, Length: 9332, dtype: bool"
      ]
     },
     "execution_count": 41,
     "metadata": {},
     "output_type": "execute_result"
    }
   ],
   "source": [
    "df.is_in_ring_of_fire == True"
   ]
  },
  {
   "cell_type": "markdown",
   "id": "37af37a2-bd5c-455e-aa2d-1f12f63a2a7e",
   "metadata": {
    "pycharm": {
     "name": "#%% md\n"
    }
   },
   "source": [
    "The above value is a Pandas Series. Coensidentially, it is the set of values as the column that we created. This suggests that any list we create can be used to filter. We could use the following to get the same filter instead of creating a new column. "
   ]
  },
  {
   "cell_type": "code",
   "execution_count": 42,
   "id": "ed60a12f-0197-4c4a-a73d-97837bf452fd",
   "metadata": {
    "pycharm": {
     "name": "#%%\n"
    }
   },
   "outputs": [
    {
     "data": {
      "text/html": [
       "<div>\n",
       "<style scoped>\n",
       "    .dataframe tbody tr th:only-of-type {\n",
       "        vertical-align: middle;\n",
       "    }\n",
       "\n",
       "    .dataframe tbody tr th {\n",
       "        vertical-align: top;\n",
       "    }\n",
       "\n",
       "    .dataframe thead th {\n",
       "        text-align: right;\n",
       "    }\n",
       "</style>\n",
       "<table border=\"1\" class=\"dataframe\">\n",
       "  <thead>\n",
       "    <tr style=\"text-align: right;\">\n",
       "      <th></th>\n",
       "      <th>parsed_place</th>\n",
       "      <th>is_in_ring_of_fire</th>\n",
       "    </tr>\n",
       "  </thead>\n",
       "  <tbody>\n",
       "    <tr>\n",
       "      <th>0</th>\n",
       "      <td>California</td>\n",
       "      <td>True</td>\n",
       "    </tr>\n",
       "    <tr>\n",
       "      <th>1</th>\n",
       "      <td>California</td>\n",
       "      <td>True</td>\n",
       "    </tr>\n",
       "    <tr>\n",
       "      <th>2</th>\n",
       "      <td>California</td>\n",
       "      <td>True</td>\n",
       "    </tr>\n",
       "    <tr>\n",
       "      <th>3</th>\n",
       "      <td>California</td>\n",
       "      <td>True</td>\n",
       "    </tr>\n",
       "    <tr>\n",
       "      <th>4</th>\n",
       "      <td>California</td>\n",
       "      <td>True</td>\n",
       "    </tr>\n",
       "    <tr>\n",
       "      <th>...</th>\n",
       "      <td>...</td>\n",
       "      <td>...</td>\n",
       "    </tr>\n",
       "    <tr>\n",
       "      <th>9326</th>\n",
       "      <td>California</td>\n",
       "      <td>True</td>\n",
       "    </tr>\n",
       "    <tr>\n",
       "      <th>9327</th>\n",
       "      <td>California</td>\n",
       "      <td>True</td>\n",
       "    </tr>\n",
       "    <tr>\n",
       "      <th>9328</th>\n",
       "      <td>California</td>\n",
       "      <td>True</td>\n",
       "    </tr>\n",
       "    <tr>\n",
       "      <th>9330</th>\n",
       "      <td>California</td>\n",
       "      <td>True</td>\n",
       "    </tr>\n",
       "    <tr>\n",
       "      <th>9331</th>\n",
       "      <td>California</td>\n",
       "      <td>True</td>\n",
       "    </tr>\n",
       "  </tbody>\n",
       "</table>\n",
       "<p>7184 rows × 2 columns</p>\n",
       "</div>"
      ],
      "text/plain": [
       "     parsed_place  is_in_ring_of_fire\n",
       "0      California                True\n",
       "1      California                True\n",
       "2      California                True\n",
       "3      California                True\n",
       "4      California                True\n",
       "...           ...                 ...\n",
       "9326   California                True\n",
       "9327   California                True\n",
       "9328   California                True\n",
       "9330   California                True\n",
       "9331   California                True\n",
       "\n",
       "[7184 rows x 2 columns]"
      ]
     },
     "execution_count": 42,
     "metadata": {},
     "output_type": "execute_result"
    }
   ],
   "source": [
    "df[[location in ring_of_fire for location in df.parsed_place]][[\"parsed_place\",\"is_in_ring_of_fire\"]]"
   ]
  },
  {
   "cell_type": "markdown",
   "id": "0237bd6b-18ef-40f9-ae5c-e87489eb9760",
   "metadata": {
    "pycharm": {
     "name": "#%% md\n"
    }
   },
   "source": [
    "We get the same result in fewer lines of code, which can be very helpful if we are pressed for computation time, or we just don't need to add more data for python to manage. \n",
    "\n",
    "Another way we can filter our data is through numerical comparisons. Note the following series"
   ]
  },
  {
   "cell_type": "code",
   "execution_count": 43,
   "id": "4af3b830-bbdc-4765-a0f3-d0dd6448499c",
   "metadata": {
    "pycharm": {
     "name": "#%%\n"
    }
   },
   "outputs": [
    {
     "data": {
      "text/plain": [
       "0       False\n",
       "1       False\n",
       "2        True\n",
       "3       False\n",
       "4        True\n",
       "        ...  \n",
       "9327    False\n",
       "9328    False\n",
       "9329     True\n",
       "9330    False\n",
       "9331    False\n",
       "Name: mag, Length: 9332, dtype: bool"
      ]
     },
     "execution_count": 43,
     "metadata": {},
     "output_type": "execute_result"
    }
   ],
   "source": [
    "df.mag >= 2.0"
   ]
  },
  {
   "cell_type": "markdown",
   "id": "63ded3b7-9308-443d-b24c-0ab8f18d875d",
   "metadata": {
    "pycharm": {
     "name": "#%% md\n"
    }
   },
   "source": [
    "We can use something like this to find just the earthquakes that are above a certain threshold. "
   ]
  },
  {
   "cell_type": "code",
   "execution_count": 44,
   "id": "c9f3b063-be71-4b00-9fe8-3e029bb41a5b",
   "metadata": {
    "pycharm": {
     "name": "#%%\n"
    }
   },
   "outputs": [
    {
     "data": {
      "text/html": [
       "<div>\n",
       "<style scoped>\n",
       "    .dataframe tbody tr th:only-of-type {\n",
       "        vertical-align: middle;\n",
       "    }\n",
       "\n",
       "    .dataframe tbody tr th {\n",
       "        vertical-align: top;\n",
       "    }\n",
       "\n",
       "    .dataframe thead th {\n",
       "        text-align: right;\n",
       "    }\n",
       "</style>\n",
       "<table border=\"1\" class=\"dataframe\">\n",
       "  <thead>\n",
       "    <tr style=\"text-align: right;\">\n",
       "      <th></th>\n",
       "      <th>parsed_place</th>\n",
       "      <th>is_in_ring_of_fire</th>\n",
       "    </tr>\n",
       "  </thead>\n",
       "  <tbody>\n",
       "    <tr>\n",
       "      <th>36</th>\n",
       "      <td>Christmas Island</td>\n",
       "      <td>False</td>\n",
       "    </tr>\n",
       "    <tr>\n",
       "      <th>118</th>\n",
       "      <td>Russia</td>\n",
       "      <td>True</td>\n",
       "    </tr>\n",
       "    <tr>\n",
       "      <th>180</th>\n",
       "      <td>Indonesia</td>\n",
       "      <td>True</td>\n",
       "    </tr>\n",
       "    <tr>\n",
       "      <th>226</th>\n",
       "      <td>Vanuatu</td>\n",
       "      <td>False</td>\n",
       "    </tr>\n",
       "    <tr>\n",
       "      <th>227</th>\n",
       "      <td>Peru</td>\n",
       "      <td>True</td>\n",
       "    </tr>\n",
       "    <tr>\n",
       "      <th>...</th>\n",
       "      <td>...</td>\n",
       "      <td>...</td>\n",
       "    </tr>\n",
       "    <tr>\n",
       "      <th>9175</th>\n",
       "      <td>East Timor</td>\n",
       "      <td>False</td>\n",
       "    </tr>\n",
       "    <tr>\n",
       "      <th>9176</th>\n",
       "      <td>New Zealand</td>\n",
       "      <td>True</td>\n",
       "    </tr>\n",
       "    <tr>\n",
       "      <th>9211</th>\n",
       "      <td>Southwest Indian Ridge</td>\n",
       "      <td>False</td>\n",
       "    </tr>\n",
       "    <tr>\n",
       "      <th>9213</th>\n",
       "      <td>Tonga</td>\n",
       "      <td>True</td>\n",
       "    </tr>\n",
       "    <tr>\n",
       "      <th>9304</th>\n",
       "      <td>Papua New Guinea</td>\n",
       "      <td>False</td>\n",
       "    </tr>\n",
       "  </tbody>\n",
       "</table>\n",
       "<p>151 rows × 2 columns</p>\n",
       "</div>"
      ],
      "text/plain": [
       "                parsed_place  is_in_ring_of_fire\n",
       "36          Christmas Island               False\n",
       "118                   Russia                True\n",
       "180                Indonesia                True\n",
       "226                  Vanuatu               False\n",
       "227                     Peru                True\n",
       "...                      ...                 ...\n",
       "9175              East Timor               False\n",
       "9176             New Zealand                True\n",
       "9211  Southwest Indian Ridge               False\n",
       "9213                   Tonga                True\n",
       "9304        Papua New Guinea               False\n",
       "\n",
       "[151 rows x 2 columns]"
      ]
     },
     "execution_count": 44,
     "metadata": {},
     "output_type": "execute_result"
    }
   ],
   "source": [
    "df[df.mag >= 5.0][[\"parsed_place\",\"is_in_ring_of_fire\"]]"
   ]
  },
  {
   "cell_type": "markdown",
   "id": "8b1e3f7b-8acf-414e-8c4c-8b5a0b8e0ab9",
   "metadata": {
    "pycharm": {
     "name": "#%% md\n"
    }
   },
   "source": [
    "By this point, we can start combining all sorts of conditions on the dataset to zero in on the specific rows that you need for your analysis. Let's find all the earthquakes that hit Indonesia that were also coupled with a tsunami. The first part of this filter is easy. Simply find all the rows where `df.parsed_place == \"Indonesia\"`, very similar to filters we have already performed. For the second part, let's first take a look at the values present in `df.tsunami`. "
   ]
  },
  {
   "cell_type": "code",
   "execution_count": null,
   "id": "237d1681-59da-4bfe-9c0a-0b2c82a82afa",
   "metadata": {
    "pycharm": {
     "name": "#%%\n"
    }
   },
   "outputs": [],
   "source": [
    "df.tsunami.unique()"
   ]
  },
  {
   "cell_type": "markdown",
   "id": "17ab28f4-7876-4ea3-b852-115ebd6439ab",
   "metadata": {
    "pycharm": {
     "name": "#%% md\n"
    }
   },
   "source": [
    "Out of all 9000+ rows, only two values exist: zero and one. Sometimes, a boolean value is stored as integers. If this is the case, the standard translation is `0 == False` and `1== True`. We could have python convert the values of this column to an actual boolean type, but that would be an unnecessary extra step. We can simply use `df.tsunami == 1` to find all the rows where a tsunami was also triggered by the earthquake. \n",
    "\n",
    "To use both filters, there are a couple different ways of managing this. The simplist would be to use the method `loc`. This method allows us to select a subset of columns and combine the filters together using simple and/or operators. For this problem, you could execute the following"
   ]
  },
  {
   "cell_type": "code",
   "execution_count": 45,
   "id": "3a05cbcd-dbc1-4575-963a-a9eb98c969f3",
   "metadata": {
    "pycharm": {
     "name": "#%%\n"
    }
   },
   "outputs": [
    {
     "data": {
      "text/html": [
       "<div>\n",
       "<style scoped>\n",
       "    .dataframe tbody tr th:only-of-type {\n",
       "        vertical-align: middle;\n",
       "    }\n",
       "\n",
       "    .dataframe tbody tr th {\n",
       "        vertical-align: top;\n",
       "    }\n",
       "\n",
       "    .dataframe thead th {\n",
       "        text-align: right;\n",
       "    }\n",
       "</style>\n",
       "<table border=\"1\" class=\"dataframe\">\n",
       "  <thead>\n",
       "    <tr style=\"text-align: right;\">\n",
       "      <th></th>\n",
       "      <th>parsed_place</th>\n",
       "      <th>is_in_ring_of_fire</th>\n",
       "    </tr>\n",
       "  </thead>\n",
       "  <tbody>\n",
       "    <tr>\n",
       "      <th>1406</th>\n",
       "      <td>Indonesia</td>\n",
       "      <td>True</td>\n",
       "    </tr>\n",
       "    <tr>\n",
       "      <th>1698</th>\n",
       "      <td>Indonesia</td>\n",
       "      <td>True</td>\n",
       "    </tr>\n",
       "    <tr>\n",
       "      <th>3112</th>\n",
       "      <td>Indonesia</td>\n",
       "      <td>True</td>\n",
       "    </tr>\n",
       "    <tr>\n",
       "      <th>3150</th>\n",
       "      <td>Indonesia</td>\n",
       "      <td>True</td>\n",
       "    </tr>\n",
       "    <tr>\n",
       "      <th>3605</th>\n",
       "      <td>Indonesia</td>\n",
       "      <td>True</td>\n",
       "    </tr>\n",
       "    <tr>\n",
       "      <th>3609</th>\n",
       "      <td>Indonesia</td>\n",
       "      <td>True</td>\n",
       "    </tr>\n",
       "    <tr>\n",
       "      <th>3692</th>\n",
       "      <td>Indonesia</td>\n",
       "      <td>True</td>\n",
       "    </tr>\n",
       "    <tr>\n",
       "      <th>3699</th>\n",
       "      <td>Indonesia</td>\n",
       "      <td>True</td>\n",
       "    </tr>\n",
       "    <tr>\n",
       "      <th>3707</th>\n",
       "      <td>Indonesia</td>\n",
       "      <td>True</td>\n",
       "    </tr>\n",
       "    <tr>\n",
       "      <th>3709</th>\n",
       "      <td>Indonesia</td>\n",
       "      <td>True</td>\n",
       "    </tr>\n",
       "    <tr>\n",
       "      <th>3714</th>\n",
       "      <td>Indonesia</td>\n",
       "      <td>True</td>\n",
       "    </tr>\n",
       "    <tr>\n",
       "      <th>4027</th>\n",
       "      <td>Indonesia</td>\n",
       "      <td>True</td>\n",
       "    </tr>\n",
       "    <tr>\n",
       "      <th>4827</th>\n",
       "      <td>Indonesia</td>\n",
       "      <td>True</td>\n",
       "    </tr>\n",
       "    <tr>\n",
       "      <th>4888</th>\n",
       "      <td>Indonesia</td>\n",
       "      <td>True</td>\n",
       "    </tr>\n",
       "    <tr>\n",
       "      <th>5054</th>\n",
       "      <td>Indonesia</td>\n",
       "      <td>True</td>\n",
       "    </tr>\n",
       "    <tr>\n",
       "      <th>5146</th>\n",
       "      <td>Indonesia</td>\n",
       "      <td>True</td>\n",
       "    </tr>\n",
       "    <tr>\n",
       "      <th>5179</th>\n",
       "      <td>Indonesia</td>\n",
       "      <td>True</td>\n",
       "    </tr>\n",
       "    <tr>\n",
       "      <th>5195</th>\n",
       "      <td>Indonesia</td>\n",
       "      <td>True</td>\n",
       "    </tr>\n",
       "    <tr>\n",
       "      <th>5196</th>\n",
       "      <td>Indonesia</td>\n",
       "      <td>True</td>\n",
       "    </tr>\n",
       "    <tr>\n",
       "      <th>5214</th>\n",
       "      <td>Indonesia</td>\n",
       "      <td>True</td>\n",
       "    </tr>\n",
       "    <tr>\n",
       "      <th>5240</th>\n",
       "      <td>Indonesia</td>\n",
       "      <td>True</td>\n",
       "    </tr>\n",
       "    <tr>\n",
       "      <th>5244</th>\n",
       "      <td>Indonesia</td>\n",
       "      <td>True</td>\n",
       "    </tr>\n",
       "    <tr>\n",
       "      <th>5245</th>\n",
       "      <td>Indonesia</td>\n",
       "      <td>True</td>\n",
       "    </tr>\n",
       "    <tr>\n",
       "      <th>5250</th>\n",
       "      <td>Indonesia</td>\n",
       "      <td>True</td>\n",
       "    </tr>\n",
       "    <tr>\n",
       "      <th>5256</th>\n",
       "      <td>Indonesia</td>\n",
       "      <td>True</td>\n",
       "    </tr>\n",
       "    <tr>\n",
       "      <th>5258</th>\n",
       "      <td>Indonesia</td>\n",
       "      <td>True</td>\n",
       "    </tr>\n",
       "    <tr>\n",
       "      <th>5259</th>\n",
       "      <td>Indonesia</td>\n",
       "      <td>True</td>\n",
       "    </tr>\n",
       "    <tr>\n",
       "      <th>5263</th>\n",
       "      <td>Indonesia</td>\n",
       "      <td>True</td>\n",
       "    </tr>\n",
       "    <tr>\n",
       "      <th>5289</th>\n",
       "      <td>Indonesia</td>\n",
       "      <td>True</td>\n",
       "    </tr>\n",
       "    <tr>\n",
       "      <th>5321</th>\n",
       "      <td>Indonesia</td>\n",
       "      <td>True</td>\n",
       "    </tr>\n",
       "    <tr>\n",
       "      <th>5323</th>\n",
       "      <td>Indonesia</td>\n",
       "      <td>True</td>\n",
       "    </tr>\n",
       "    <tr>\n",
       "      <th>5790</th>\n",
       "      <td>Indonesia</td>\n",
       "      <td>True</td>\n",
       "    </tr>\n",
       "    <tr>\n",
       "      <th>6004</th>\n",
       "      <td>Indonesia</td>\n",
       "      <td>True</td>\n",
       "    </tr>\n",
       "    <tr>\n",
       "      <th>6134</th>\n",
       "      <td>Indonesia</td>\n",
       "      <td>True</td>\n",
       "    </tr>\n",
       "  </tbody>\n",
       "</table>\n",
       "</div>"
      ],
      "text/plain": [
       "     parsed_place  is_in_ring_of_fire\n",
       "1406    Indonesia                True\n",
       "1698    Indonesia                True\n",
       "3112    Indonesia                True\n",
       "3150    Indonesia                True\n",
       "3605    Indonesia                True\n",
       "3609    Indonesia                True\n",
       "3692    Indonesia                True\n",
       "3699    Indonesia                True\n",
       "3707    Indonesia                True\n",
       "3709    Indonesia                True\n",
       "3714    Indonesia                True\n",
       "4027    Indonesia                True\n",
       "4827    Indonesia                True\n",
       "4888    Indonesia                True\n",
       "5054    Indonesia                True\n",
       "5146    Indonesia                True\n",
       "5179    Indonesia                True\n",
       "5195    Indonesia                True\n",
       "5196    Indonesia                True\n",
       "5214    Indonesia                True\n",
       "5240    Indonesia                True\n",
       "5244    Indonesia                True\n",
       "5245    Indonesia                True\n",
       "5250    Indonesia                True\n",
       "5256    Indonesia                True\n",
       "5258    Indonesia                True\n",
       "5259    Indonesia                True\n",
       "5263    Indonesia                True\n",
       "5289    Indonesia                True\n",
       "5321    Indonesia                True\n",
       "5323    Indonesia                True\n",
       "5790    Indonesia                True\n",
       "6004    Indonesia                True\n",
       "6134    Indonesia                True"
      ]
     },
     "execution_count": 45,
     "metadata": {},
     "output_type": "execute_result"
    }
   ],
   "source": [
    "df.loc[ \n",
    "    (df.parsed_place == \"Indonesia\") & (df.tsunami == 1),\n",
    "    [\"parsed_place\", \"is_in_ring_of_fire\"]\n",
    "]"
   ]
  },
  {
   "cell_type": "markdown",
   "id": "13f9dcfd-c272-44d0-a9c5-737dfa0830c6",
   "metadata": {
    "pycharm": {
     "name": "#%% md\n"
    }
   },
   "source": [
    "_Note: `loc` can also be used to select specific row numbers if that is known. This will work based on the index of the row, not the position in the dataframe. Read [this StackOverflow question](https://stackoverflow.com/questions/31593201/how-are-iloc-and-loc-different) for a more detailed explanation, along with a comparison of another method `iloc`._\n",
    "\n",
    "### Summary Statistics\n",
    "\n",
    "One main point of using large datasets is for calculating statistical values, such as averages and spread. Methods to compute these values are build directly into the `DataFrame` and `Series` classes. They can be accessed by calling the appropriate methods. Doing so returns a series of the "
   ]
  },
  {
   "cell_type": "code",
   "execution_count": 46,
   "id": "6540b22c-3ecc-4378-a63d-f10db286d8a3",
   "metadata": {
    "pycharm": {
     "name": "#%%\n"
    }
   },
   "outputs": [
    {
     "name": "stdout",
     "output_type": "stream",
     "text": [
      "Count non-empty:\n",
      "alert                   59\n",
      "cdi                    329\n",
      "code                  9332\n",
      "detail                9332\n",
      "dmin                  6139\n",
      "felt                   329\n",
      "gap                   6164\n",
      "ids                   9332\n",
      "mag                   9331\n",
      "magType               9331\n",
      "mmi                     93\n",
      "net                   9332\n",
      "nst                   5364\n",
      "place                 9332\n",
      "rms                   9332\n",
      "sig                   9332\n",
      "sources               9332\n",
      "status                9332\n",
      "time                  9332\n",
      "title                 9332\n",
      "tsunami               9332\n",
      "type                  9332\n",
      "types                 9332\n",
      "tz                    9331\n",
      "updated               9332\n",
      "url                   9332\n",
      "parsed_place          9332\n",
      "is_in_ring_of_fire    9332\n",
      "dtype: int64\n",
      "----------------------------------\n",
      "\n",
      "Mean:\n",
      "cdi                   2.754711e+00\n",
      "dmin                  5.449253e-01\n",
      "felt                  1.231003e+01\n",
      "gap                   1.215066e+02\n",
      "mag                   1.497345e+00\n",
      "mmi                   3.651398e+00\n",
      "nst                   1.905388e+01\n",
      "rms                   3.621225e-01\n",
      "sig                   5.689991e+01\n",
      "time                  1.538284e+12\n",
      "tsunami               6.536648e-03\n",
      "tz                   -4.519901e+02\n",
      "updated               1.538537e+12\n",
      "is_in_ring_of_fire    7.698243e-01\n",
      "dtype: float64\n",
      "----------------------------------\n",
      "\n",
      "Standard Deviation:\n",
      "cdi                   1.010637e+00\n",
      "dmin                  2.214305e+00\n",
      "felt                  4.895494e+01\n",
      "gap                   7.296236e+01\n",
      "mag                   1.203347e+00\n",
      "mmi                   1.790523e+00\n",
      "nst                   1.549232e+01\n",
      "rms                   3.177835e-01\n",
      "sig                   9.187216e+01\n",
      "time                  6.080306e+08\n",
      "tsunami               8.058918e-02\n",
      "tz                    2.317526e+02\n",
      "updated               6.564135e+08\n",
      "is_in_ring_of_fire    4.209678e-01\n",
      "dtype: float64\n",
      "----------------------------------\n",
      "\n"
     ]
    },
    {
     "name": "stderr",
     "output_type": "stream",
     "text": [
      "C:\\Users\\tyler.whitaker\\AppData\\Local\\Temp\\ipykernel_5080\\1053878412.py:4: FutureWarning: Dropping of nuisance columns in DataFrame reductions (with 'numeric_only=None') is deprecated; in a future version this will raise TypeError.  Select only valid columns before calling the reduction.\n",
      "  print(df.mean(), end=\"\\n----------------------------------\\n\\n\")\n",
      "C:\\Users\\tyler.whitaker\\AppData\\Local\\Temp\\ipykernel_5080\\1053878412.py:6: FutureWarning: Dropping of nuisance columns in DataFrame reductions (with 'numeric_only=None') is deprecated; in a future version this will raise TypeError.  Select only valid columns before calling the reduction.\n",
      "  print(df.std(), end=\"\\n----------------------------------\\n\\n\")\n"
     ]
    }
   ],
   "source": [
    "print(\"Count non-empty:\")\n",
    "print(df.count(), end=\"\\n----------------------------------\\n\\n\")\n",
    "print(\"Mean:\")\n",
    "print(df.mean(), end=\"\\n----------------------------------\\n\\n\")\n",
    "print(\"Standard Deviation:\")\n",
    "print(df.std(), end=\"\\n----------------------------------\\n\\n\")"
   ]
  },
  {
   "cell_type": "markdown",
   "id": "b7c5884c-1f8f-4404-a26b-45469d0d539a",
   "metadata": {
    "pycharm": {
     "name": "#%% md\n"
    }
   },
   "source": [
    "The above are warning coming from Pandas, letting us know that the current syntax that we are using will soon be deprecated. The following table shows some of the more common methods that you might use on a table or series to gather some high level information about the data. \n",
    "\n",
    "| Method | Description | Data types |\n",
    "| - | - | - |\n",
    "| `count()` | The number of non-null observations | Any |\n",
    "| `nunique()` | The number of unique values | Any |\n",
    "| `sum()` | The toal of the values | Numeric or Boolean | \n",
    "| `mean()` | The average of the values | Numerical or Boolean | \n",
    "| `meadian()` | The median of the values | Numerical | \n",
    "| `min()` | The minimum of the Values | Numerical | \n",
    "| `idxmin()` | The index where the minimum value occurs | Numerical | \n",
    "| `max()` | The maximum of the values | Numerical | \n",
    "| `idxmax()` | The index where the maximum value occurs | Numerical | \n",
    "| `abs()` | The absolute value of the values | Numerical | \n",
    "| `std()` | The standard deviation | Numerical | \n",
    "| `var()` | The variance | Numerical | \n",
    "| `cov()` | The covariance between two `Series`, or a covariance matrix for all column combinations in a DataFrame | Numerical |\n",
    "| `corr()` | The correlation between two `Series`, or a correlation matrix for all column combinations in a `DataFrame` | Numerical | \n",
    "| `quantril()` | Gets a specific quantrile | Numerical | \n",
    "| `cumsum()` | The cumulative sum | Numerical or Boolean | \n",
    "| `cummin()` | The cumulative minimum | Numerical | \n",
    "| `cummax()` | The cumulative maximum | Numerical |\n",
    "\n",
    "A handful of these values can be calculated and displayed all at once by just the `discribe` method."
   ]
  },
  {
   "cell_type": "code",
   "execution_count": 47,
   "id": "5f4b0d11-b7a5-4b73-a7b8-068e625da3f7",
   "metadata": {
    "pycharm": {
     "name": "#%%\n"
    }
   },
   "outputs": [
    {
     "data": {
      "text/html": [
       "<div>\n",
       "<style scoped>\n",
       "    .dataframe tbody tr th:only-of-type {\n",
       "        vertical-align: middle;\n",
       "    }\n",
       "\n",
       "    .dataframe tbody tr th {\n",
       "        vertical-align: top;\n",
       "    }\n",
       "\n",
       "    .dataframe thead th {\n",
       "        text-align: right;\n",
       "    }\n",
       "</style>\n",
       "<table border=\"1\" class=\"dataframe\">\n",
       "  <thead>\n",
       "    <tr style=\"text-align: right;\">\n",
       "      <th></th>\n",
       "      <th>cdi</th>\n",
       "      <th>dmin</th>\n",
       "      <th>felt</th>\n",
       "      <th>gap</th>\n",
       "      <th>mag</th>\n",
       "      <th>mmi</th>\n",
       "      <th>nst</th>\n",
       "      <th>rms</th>\n",
       "      <th>sig</th>\n",
       "      <th>time</th>\n",
       "      <th>tsunami</th>\n",
       "      <th>tz</th>\n",
       "      <th>updated</th>\n",
       "    </tr>\n",
       "  </thead>\n",
       "  <tbody>\n",
       "    <tr>\n",
       "      <th>count</th>\n",
       "      <td>329.000000</td>\n",
       "      <td>6139.000000</td>\n",
       "      <td>329.000000</td>\n",
       "      <td>6164.000000</td>\n",
       "      <td>9331.000000</td>\n",
       "      <td>93.000000</td>\n",
       "      <td>5364.000000</td>\n",
       "      <td>9332.000000</td>\n",
       "      <td>9332.000000</td>\n",
       "      <td>9.332000e+03</td>\n",
       "      <td>9332.000000</td>\n",
       "      <td>9331.000000</td>\n",
       "      <td>9.332000e+03</td>\n",
       "    </tr>\n",
       "    <tr>\n",
       "      <th>mean</th>\n",
       "      <td>2.754711</td>\n",
       "      <td>0.544925</td>\n",
       "      <td>12.310030</td>\n",
       "      <td>121.506588</td>\n",
       "      <td>1.497345</td>\n",
       "      <td>3.651398</td>\n",
       "      <td>19.053878</td>\n",
       "      <td>0.362122</td>\n",
       "      <td>56.899914</td>\n",
       "      <td>1.538284e+12</td>\n",
       "      <td>0.006537</td>\n",
       "      <td>-451.990140</td>\n",
       "      <td>1.538537e+12</td>\n",
       "    </tr>\n",
       "    <tr>\n",
       "      <th>std</th>\n",
       "      <td>1.010637</td>\n",
       "      <td>2.214305</td>\n",
       "      <td>48.954944</td>\n",
       "      <td>72.962363</td>\n",
       "      <td>1.203347</td>\n",
       "      <td>1.790523</td>\n",
       "      <td>15.492315</td>\n",
       "      <td>0.317784</td>\n",
       "      <td>91.872163</td>\n",
       "      <td>6.080306e+08</td>\n",
       "      <td>0.080589</td>\n",
       "      <td>231.752571</td>\n",
       "      <td>6.564135e+08</td>\n",
       "    </tr>\n",
       "    <tr>\n",
       "      <th>min</th>\n",
       "      <td>0.000000</td>\n",
       "      <td>0.000648</td>\n",
       "      <td>0.000000</td>\n",
       "      <td>12.000000</td>\n",
       "      <td>-1.260000</td>\n",
       "      <td>0.000000</td>\n",
       "      <td>0.000000</td>\n",
       "      <td>0.000000</td>\n",
       "      <td>0.000000</td>\n",
       "      <td>1.537229e+12</td>\n",
       "      <td>0.000000</td>\n",
       "      <td>-720.000000</td>\n",
       "      <td>1.537230e+12</td>\n",
       "    </tr>\n",
       "    <tr>\n",
       "      <th>25%</th>\n",
       "      <td>2.000000</td>\n",
       "      <td>0.020425</td>\n",
       "      <td>1.000000</td>\n",
       "      <td>66.142500</td>\n",
       "      <td>0.720000</td>\n",
       "      <td>2.680000</td>\n",
       "      <td>8.000000</td>\n",
       "      <td>0.119675</td>\n",
       "      <td>8.000000</td>\n",
       "      <td>1.537793e+12</td>\n",
       "      <td>0.000000</td>\n",
       "      <td>-540.000000</td>\n",
       "      <td>1.537996e+12</td>\n",
       "    </tr>\n",
       "    <tr>\n",
       "      <th>50%</th>\n",
       "      <td>2.700000</td>\n",
       "      <td>0.059050</td>\n",
       "      <td>2.000000</td>\n",
       "      <td>105.000000</td>\n",
       "      <td>1.300000</td>\n",
       "      <td>3.720000</td>\n",
       "      <td>15.000000</td>\n",
       "      <td>0.210000</td>\n",
       "      <td>26.000000</td>\n",
       "      <td>1.538245e+12</td>\n",
       "      <td>0.000000</td>\n",
       "      <td>-480.000000</td>\n",
       "      <td>1.538621e+12</td>\n",
       "    </tr>\n",
       "    <tr>\n",
       "      <th>75%</th>\n",
       "      <td>3.300000</td>\n",
       "      <td>0.177250</td>\n",
       "      <td>5.000000</td>\n",
       "      <td>159.000000</td>\n",
       "      <td>1.900000</td>\n",
       "      <td>4.570000</td>\n",
       "      <td>25.000000</td>\n",
       "      <td>0.590000</td>\n",
       "      <td>56.000000</td>\n",
       "      <td>1.538766e+12</td>\n",
       "      <td>0.000000</td>\n",
       "      <td>-480.000000</td>\n",
       "      <td>1.539110e+12</td>\n",
       "    </tr>\n",
       "    <tr>\n",
       "      <th>max</th>\n",
       "      <td>8.400000</td>\n",
       "      <td>53.737000</td>\n",
       "      <td>580.000000</td>\n",
       "      <td>355.910000</td>\n",
       "      <td>7.500000</td>\n",
       "      <td>9.120000</td>\n",
       "      <td>172.000000</td>\n",
       "      <td>1.910000</td>\n",
       "      <td>2015.000000</td>\n",
       "      <td>1.539475e+12</td>\n",
       "      <td>1.000000</td>\n",
       "      <td>720.000000</td>\n",
       "      <td>1.539537e+12</td>\n",
       "    </tr>\n",
       "  </tbody>\n",
       "</table>\n",
       "</div>"
      ],
      "text/plain": [
       "              cdi         dmin        felt          gap          mag  \\\n",
       "count  329.000000  6139.000000  329.000000  6164.000000  9331.000000   \n",
       "mean     2.754711     0.544925   12.310030   121.506588     1.497345   \n",
       "std      1.010637     2.214305   48.954944    72.962363     1.203347   \n",
       "min      0.000000     0.000648    0.000000    12.000000    -1.260000   \n",
       "25%      2.000000     0.020425    1.000000    66.142500     0.720000   \n",
       "50%      2.700000     0.059050    2.000000   105.000000     1.300000   \n",
       "75%      3.300000     0.177250    5.000000   159.000000     1.900000   \n",
       "max      8.400000    53.737000  580.000000   355.910000     7.500000   \n",
       "\n",
       "             mmi          nst          rms          sig          time  \\\n",
       "count  93.000000  5364.000000  9332.000000  9332.000000  9.332000e+03   \n",
       "mean    3.651398    19.053878     0.362122    56.899914  1.538284e+12   \n",
       "std     1.790523    15.492315     0.317784    91.872163  6.080306e+08   \n",
       "min     0.000000     0.000000     0.000000     0.000000  1.537229e+12   \n",
       "25%     2.680000     8.000000     0.119675     8.000000  1.537793e+12   \n",
       "50%     3.720000    15.000000     0.210000    26.000000  1.538245e+12   \n",
       "75%     4.570000    25.000000     0.590000    56.000000  1.538766e+12   \n",
       "max     9.120000   172.000000     1.910000  2015.000000  1.539475e+12   \n",
       "\n",
       "           tsunami           tz       updated  \n",
       "count  9332.000000  9331.000000  9.332000e+03  \n",
       "mean      0.006537  -451.990140  1.538537e+12  \n",
       "std       0.080589   231.752571  6.564135e+08  \n",
       "min       0.000000  -720.000000  1.537230e+12  \n",
       "25%       0.000000  -540.000000  1.537996e+12  \n",
       "50%       0.000000  -480.000000  1.538621e+12  \n",
       "75%       0.000000  -480.000000  1.539110e+12  \n",
       "max       1.000000   720.000000  1.539537e+12  "
      ]
     },
     "execution_count": 47,
     "metadata": {},
     "output_type": "execute_result"
    }
   ],
   "source": [
    "df.describe()"
   ]
  },
  {
   "cell_type": "markdown",
   "id": "f2bca029-4346-476c-b6bf-72750cb5d4dc",
   "metadata": {
    "pycharm": {
     "name": "#%% md\n"
    }
   },
   "source": [
    "This provides some of the most common values that used in statistial analysis."
   ]
  },
  {
   "cell_type": "code",
   "execution_count": null,
   "id": "21b39411-1ac7-44dd-acea-744f90c1b21e",
   "metadata": {
    "pycharm": {
     "name": "#%%\n"
    }
   },
   "outputs": [],
   "source": []
  }
 ],
 "metadata": {
  "kernelspec": {
   "display_name": "Python 3 (ipykernel)",
   "language": "python",
   "name": "python3"
  },
  "language_info": {
   "codemirror_mode": {
    "name": "ipython",
    "version": 3
   },
   "file_extension": ".py",
   "mimetype": "text/x-python",
   "name": "python",
   "nbconvert_exporter": "python",
   "pygments_lexer": "ipython3",
   "version": "3.9.12"
  }
 },
 "nbformat": 4,
 "nbformat_minor": 5
}