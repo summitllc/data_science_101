{
 "cells": [
  {
   "attachments": {},
   "cell_type": "markdown",
   "metadata": {
    "collapsed": false,
    "pycharm": {
     "name": "#%% md\n"
    }
   },
   "source": [
    "# Class 7 - Data Visualization and Plotting\n",
    "Data visualization is an extremely useful tool in both analysing the data and in presenting the findings. Humans are visual creatures, and we try to pick out patterns from the things we observe. Luckily, Python has many libraries that make plotting a very easy process. The most popular libraries used in data analysis include\n",
    "- `matplotlib`\n",
    "- `pandas`\n",
    "- `seaborn`\n",
    "\n",
    "Both `pandas` (the same library we have been using for the entire class) and `seaborn` are built on top of the library `matplotlib`. The plotting functions for `pandas` are built in as methods for the data frame itself, but uses the assumption of multiple columns to quicly build visuals that include multiple lines or bars. `Seaborn` is a wrapper around `matplotlib` which provides some defaults and presets that quickly get you to presentaiton ready graphics without much effort. `Matplotlib` provides the most fine-tuned and detailed control of the figures, however requires much more specificity when generating graphics that are ready for presentation.  \n",
    "\n",
    "We will focus on the `matplotlib` and `pandas` for this course. \n",
    "\n",
    "\n",
    "## Matplotlib\n",
    "`Matplotlib` is a library of plotting functions that includes a wide array of possible capabilities. I encurage the reader to look into those functions as needed, but for the scope of this course, we will focus on the `pyplot` package. Let's import that with the traditional alias `plt`. While we're at it, let's go ahead and read in some stock data for Facebook in 2018."
   ]
  },
  {
   "cell_type": "code",
   "execution_count": null,
   "metadata": {
    "collapsed": false,
    "pycharm": {
     "name": "#%%\n"
    }
   },
   "outputs": [],
   "source": [
    "import matplotlib.pyplot as plt\n",
    "import pandas as pd\n",
    "\n",
    "fb = pd.read_csv(\n",
    "    'https://raw.githubusercontent.com/stefmolin/Hands-On-Data-Analysis-with-Pandas/master/ch_05/data/fb_stock_prices_2018.csv',\n",
    "    index_col='date',\n",
    "    parse_dates=True\n",
    ")"
   ]
  },
  {
   "cell_type": "code",
   "execution_count": null,
   "metadata": {
    "collapsed": false,
    "pycharm": {
     "name": "#%%\n"
    }
   },
   "outputs": [],
   "source": [
    "fb.head()"
   ]
  },
  {
   "attachments": {},
   "cell_type": "markdown",
   "metadata": {
    "collapsed": false,
    "pycharm": {
     "name": "#%% md\n"
    }
   },
   "source": [
    "The simplest plot that we could make is that of a line plot. Since how this is series data, a linear sequence of plotted values makes appropriate sense. We can plot that by running"
   ]
  },
  {
   "cell_type": "code",
   "execution_count": null,
   "metadata": {
    "collapsed": false,
    "pycharm": {
     "name": "#%%\n"
    }
   },
   "outputs": [],
   "source": [
    "plt.plot(fb.index, fb.open)\n",
    "plt.show()"
   ]
  },
  {
   "attachments": {},
   "cell_type": "markdown",
   "metadata": {
    "collapsed": false,
    "pycharm": {
     "name": "#%% md\n"
    }
   },
   "source": [
    "*Note: The way that his graph presents itself depends wildly on the environment you are using. Running the above two lines of code in a repl or in an executed python file will open a new window for the graph and pause the code until that window is closed. However, some IDEs actually ignore this, allowing the rest of the code to execute with the window still open. Alternatively, in this jupyter notebook, the graph is saved to the display of the page, and allows us to run the rest of the cells. Be aware of what environment you are using and how you are opening the graphs.*\n",
    "\n",
    "In the simple `plot` function call, we passed in the `x` coordinate, the `y` coordinate, and nothing else. This produced a very simple line graph with not much other than the data itself. The `show` function call takes the graph from memory and displays it, destroying the object that was in memory in the process. Note that because we have not saved the plot to a variable, it is gone until we recreate it."
   ]
  },
  {
   "cell_type": "code",
   "execution_count": null,
   "metadata": {
    "collapsed": false,
    "pycharm": {
     "name": "#%%\n"
    }
   },
   "outputs": [],
   "source": [
    "plt.show()"
   ]
  },
  {
   "attachments": {},
   "cell_type": "markdown",
   "metadata": {
    "collapsed": false,
    "pycharm": {
     "name": "#%% md\n"
    }
   },
   "source": [
    "One nice feature of jupyter notebooks specifically is that we don't always have to call the `show` function to get the graph to display on the screen."
   ]
  },
  {
   "cell_type": "code",
   "execution_count": null,
   "metadata": {
    "collapsed": false,
    "pycharm": {
     "name": "#%%\n"
    }
   },
   "outputs": [],
   "source": [
    "plt.plot(fb.index, fb.open)"
   ]
  },
  {
   "attachments": {},
   "cell_type": "markdown",
   "metadata": {
    "collapsed": false,
    "pycharm": {
     "name": "#%% md\n"
    }
   },
   "source": [
    "If this doesn't work for some reason, try running `%matplotlib inline`. Running this command in my notebook didn't make any difference. It seems my environment was already assuming it to be true.\n",
    "\n",
    "We can also use plot to draw a scatter plot by passing in an additional style argument. This style argument follows the pattern '[color][marker][linestyle]' Let's plot the highs of the stock market data vs the lows."
   ]
  },
  {
   "cell_type": "code",
   "execution_count": null,
   "metadata": {
    "collapsed": false,
    "pycharm": {
     "name": "#%%\n"
    }
   },
   "outputs": [],
   "source": [
    "plt.plot('high', 'low', 'ro', data=fb.head(20))\n",
    "plt.legend()"
   ]
  },
  {
   "attachments": {},
   "cell_type": "markdown",
   "metadata": {
    "collapsed": false,
    "pycharm": {
     "name": "#%% md\n"
    }
   },
   "source": [
    "Passing in the dataframe into the `data` argument allowed us to only pass in the column names into the x and y positions. In the style string, `r` turned the plot to red, and the `o` plotted the data as dots. There are many combinatios that can be created and there is some documentation aobut the different lines, markers, and colors that you can use to create plots in (their documentation)[https://matplotlib.org/stable/api/_as_gen/matplotlib.pyplot.plot.html] in the section labeled Notes. We'll use a variety of them in this document.\n",
    "\n",
    "Let's switch datasets and plot a histogram."
   ]
  },
  {
   "cell_type": "code",
   "execution_count": null,
   "metadata": {
    "collapsed": false,
    "pycharm": {
     "name": "#%%\n"
    }
   },
   "outputs": [],
   "source": [
    "quakes = pd.read_csv('https://raw.githubusercontent.com/stefmolin/Hands-On-Data-Analysis-with-Pandas/master/ch_05/data/earthquakes.csv')\n",
    "plt.hist(quakes.query('magType == \"ml\"').mag)"
   ]
  },
  {
   "attachments": {},
   "cell_type": "markdown",
   "metadata": {
    "collapsed": false,
    "pycharm": {
     "name": "#%% md\n"
    }
   },
   "source": [
    "Remember that when plotting, the exact specifications of the plot will dramatically alter the way that it is perceived. Below, we are going to plot 2 graphs side by side using `subplots`. This is going to allow (for this example) to this data with different parameters. This subplot method could absolutely be used to plot completely different sets of data side by side."
   ]
  },
  {
   "cell_type": "code",
   "execution_count": null,
   "metadata": {
    "collapsed": false,
    "pycharm": {
     "name": "#%%\n"
    }
   },
   "outputs": [],
   "source": [
    "x = quakes.query('magType == \"ml\"').mag\n",
    "fig, axes = plt.subplots(1, 2, figsize=(10,3))\n",
    "for ax, bins, in zip(axes, [7,35]):\n",
    "    ax.hist(x, bins=bins)\n",
    "    ax.set_title(f'bins param: {bins}')"
   ]
  },
  {
   "attachments": {},
   "cell_type": "markdown",
   "metadata": {
    "collapsed": false,
    "pycharm": {
     "name": "#%% md\n"
    }
   },
   "source": [
    "Notice that the shape of both of the following plots is different from the in the plot with 10 bins, we have 2 as the largest bin, but with 7, 1 is the largest bin. Alternatively, with 35 bins, we see something that looks a little more bimodal.\n",
    "\n",
    "In the above example we used a bit of functionality that we haven't discussed yet.\n",
    "- `subplot` allows us to pass in the number of rows and columns that we want, as well as the size of the figure as a whole. This returned the objects `Figure` and `Axes` objects, which we save into the `fig` and `axes` variables.\n",
    "- Many of the `pyplot` functions have also been implemented as methods of these objects. Therefore, we can call things like `ax.plot` or  in our case `ax.hist` to create plots in each of the subplots of our figure.\n",
    "- We used the method `set_title`, which as the name suggests, sets the title for the subplot.\n",
    "\n",
    "Matplotlib and Pyplot include a wide array of functions that can be called to specify the details of your exact plot, such as\n",
    "- setting axes labels\n",
    "- setting limits on the axis\n",
    "- setting titles\n",
    "- create a legend\n",
    "- subplot sizes and locations\n",
    "\n",
    "## Pandas\n",
    "Pandas has also baked plotting functionality directly into the dataframe object. Instead of individual function calls, pandas uses a wide array of arguments to the method `plot`. This way, writing out many different function calls, we just pass in the values as arguments into a single function call. (note that this ability does limit the customizability of the plot). Let's show that below with the facebook data."
   ]
  },
  {
   "cell_type": "code",
   "execution_count": null,
   "metadata": {
    "collapsed": false,
    "pycharm": {
     "name": "#%%\n"
    }
   },
   "outputs": [],
   "source": [
    "fb.plot(\n",
    "    kind='line',\n",
    "    y='open',\n",
    "    figsize=(10,5),\n",
    "    style='b-',\n",
    "    legend=False,\n",
    "    title='Evolution of Facebook Open Price'\n",
    ")"
   ]
  },
  {
   "attachments": {},
   "cell_type": "markdown",
   "metadata": {
    "collapsed": false,
    "pycharm": {
     "name": "#%% md\n"
    }
   },
   "source": [
    "Alternatively, we can pass in the line style, marker, or color as seperate arguments.\n"
   ]
  },
  {
   "cell_type": "code",
   "execution_count": null,
   "metadata": {
    "collapsed": false,
    "pycharm": {
     "name": "#%%\n"
    }
   },
   "outputs": [],
   "source": [
    "fb.plot(\n",
    "    kind='line',\n",
    "    y='open',\n",
    "    figsize=(10, 5),\n",
    "    color='blue',\n",
    "    linestyle='solid',\n",
    "    legend=False,\n",
    "    title='Evolution of Facebook Open Price'\n",
    ")"
   ]
  },
  {
   "attachments": {},
   "cell_type": "markdown",
   "metadata": {
    "collapsed": false,
    "pycharm": {
     "name": "#%% md\n"
    }
   },
   "source": [
    "In addition to this, we can plot multiple datasets at once. See below how we plot 4 lines at the same itme."
   ]
  },
  {
   "cell_type": "code",
   "execution_count": null,
   "metadata": {
    "collapsed": false,
    "pycharm": {
     "name": "#%%\n"
    }
   },
   "outputs": [],
   "source": [
    "fb.loc['2018-01'].plot(\n",
    "    y=['open', 'high', 'low', 'close'],\n",
    "    style=['b-o', 'r--', 'k:', 'g-.'],\n",
    "    title='Facebook OHLC Prices during Jan 2018'\n",
    ")"
   ]
  },
  {
   "attachments": {},
   "cell_type": "markdown",
   "metadata": {
    "collapsed": false,
    "pycharm": {
     "name": "#%% md\n"
    }
   },
   "source": [
    "We don't have to pass in alternatively, if we don't pass in anything for x and y, pandas will plot all the data that it can as unique lines. Additionally, we can create subplots for each of the lines just by passing in `subplot=True` and defining the layout."
   ]
  },
  {
   "cell_type": "code",
   "execution_count": null,
   "metadata": {
    "collapsed": false,
    "pycharm": {
     "name": "#%%\n"
    }
   },
   "outputs": [],
   "source": [
    "fb.plot(\n",
    "    kind='line',\n",
    "    subplots=True,\n",
    "    layout=(3,2),\n",
    "    figsize=(15,10),\n",
    "    title='Facebook Stock 2018'\n",
    ")"
   ]
  },
  {
   "attachments": {},
   "cell_type": "markdown",
   "metadata": {
    "collapsed": false,
    "pycharm": {
     "name": "#%% md\n"
    }
   },
   "source": [
    "The `plot` function can plot a wide variety of types of graphs. The only difference we need to take into account is the keyword argument `kind`. Below is an example of a scatter plot."
   ]
  },
  {
   "cell_type": "code",
   "execution_count": null,
   "metadata": {
    "collapsed": false,
    "pycharm": {
     "name": "#%%\n"
    }
   },
   "outputs": [],
   "source": [
    "fb.plot(\n",
    "    kind='scatter',\n",
    "    x='high',\n",
    "    y='low',\n",
    "    title='Facebook High vs Low'\n",
    ")"
   ]
  },
  {
   "attachments": {},
   "cell_type": "markdown",
   "metadata": {
    "collapsed": false,
    "pycharm": {
     "name": "#%% md\n"
    }
   },
   "source": [
    "Another important plot type for statistical analysis is the Box plot. Once again, all we need to do is present the dataframe that we want to plot, and define `kind`."
   ]
  },
  {
   "cell_type": "code",
   "execution_count": null,
   "metadata": {
    "collapsed": false,
    "pycharm": {
     "name": "#%%\n"
    }
   },
   "outputs": [],
   "source": [
    "fb[['open', 'high', 'low', 'close']].plot(\n",
    "    kind='box',\n",
    "    title='Facebook OHLC Prices Boxplot'\n",
    ")"
   ]
  },
  {
   "cell_type": "code",
   "execution_count": null,
   "metadata": {
    "collapsed": false,
    "pycharm": {
     "name": "#%%\n"
    }
   },
   "outputs": [],
   "source": []
  }
 ],
 "metadata": {
  "kernelspec": {
   "display_name": "Python 3",
   "language": "python",
   "name": "python3"
  },
  "language_info": {
   "codemirror_mode": {
    "name": "ipython",
    "version": 3
   },
   "file_extension": ".py",
   "mimetype": "text/x-python",
   "name": "python",
   "nbconvert_exporter": "python",
   "pygments_lexer": "ipython3",
   "version": "3.10.9"
  }
 },
 "nbformat": 4,
 "nbformat_minor": 0
}
