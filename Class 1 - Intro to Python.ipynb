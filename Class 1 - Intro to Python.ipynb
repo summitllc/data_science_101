{
 "cells": [
  {
   "cell_type": "markdown",
   "id": "93ea460e",
   "metadata": {},
   "source": [
    "# Introduction to Python\n",
    "---\n",
    "\n",
    "*Updated 5/12/2023*\n",
    "\n",
    "This course aims to teach you how to perform various Data Analysis tasks required for a variety of workflows. You will learn how to combine datasets, calculate aggregated values, remove bad data, and create visuals. We are going to be using the Pandas library built for Python. This lesson focuses on some basic python syntax that will be universal about most functions you need to perform within python. We assume minimal prior knowledge of programming or Python syntax.\n",
    "\n",
    "## Basic Operations\n",
    "Many basic operations can be performed through common mathematical operators (like `+`, `-`, and `*`). We discuss many of these below.\n",
    "\n",
    "### Variables\n",
    "A critical function of any script or workflow is the ability to save information for later use. The most common way to do this is by the use of **variables**. In python the we use the equals (`=`) operator, with the variable name on the left, and the value on the right. See below for an example below. Saving a value to a variable name like this allows us to modify, reference, and use the value in a later section of the code. "
   ]
  },
  {
   "cell_type": "code",
   "execution_count": 18,
   "id": "e5617249",
   "metadata": {},
   "outputs": [
    {
     "name": "stdout",
     "output_type": "stream",
     "text": [
      "5\n",
      "3\n",
      "8\n"
     ]
    }
   ],
   "source": [
    "# <- this sumble starts a comment. Fell free to include as many comments as \n",
    "# needed to ensure that you always understand your code whenever you come back\n",
    "# to it. \n",
    "x = 5\n",
    "y = 3\n",
    "sum_of_x_and_y = 8\n",
    "\n",
    "print(x)\n",
    "print(y)\n",
    "print(sum_of_x_and_y)"
   ]
  },
  {
   "cell_type": "code",
   "execution_count": 3,
   "id": "5970c0c3-405f-4a50-9337-194d36e6252b",
   "metadata": {},
   "outputs": [
    {
     "name": "stdout",
     "output_type": "stream",
     "text": [
      "5\n",
      "3\n"
     ]
    }
   ],
   "source": [
    "print(x)\n",
    "print(y)"
   ]
  },
  {
   "cell_type": "markdown",
   "id": "5c5e9068",
   "metadata": {},
   "source": [
    "### Basic Math Functions\n",
    "Python follows a fairly intuitive syntax for performing mathematical functions. All of these will operators will accept a one value on the left, and one on the right. If both values are numeric, it will perform the given operation. Below are examples of some basic mathematic operations. "
   ]
  },
  {
   "cell_type": "code",
   "execution_count": 4,
   "id": "de3378eb",
   "metadata": {},
   "outputs": [
    {
     "name": "stdout",
     "output_type": "stream",
     "text": [
      "8\n",
      "2\n",
      "15\n",
      "1.6666666666666667\n",
      "125\n"
     ]
    }
   ],
   "source": [
    "# Addition\n",
    "print(x + y)\n",
    "\n",
    "# subtraction\n",
    "print(x - y)\n",
    "\n",
    "# multiplication\n",
    "print(x * y)\n",
    "\n",
    "# division\n",
    "print(x / y)\n",
    "\n",
    "# expontential (x ^ y)\n",
    "print(x ** y)"
   ]
  },
  {
   "cell_type": "markdown",
   "id": "4f9439e4",
   "metadata": {},
   "source": [
    "There are some other operators that have specific symbols. We can talk about those as you need them. Note that python follows traditional order of operations for mathematical functions. A common moniker used to remember the order is PEMDAS, which suggests the order of \n",
    "1. **P**arenthisis\n",
    "2. **E**xpontentials\n",
    "3. **M**ultiplication and **D**ivision\n",
    "4. **A**dition and **S**ubtraction"
   ]
  },
  {
   "cell_type": "code",
   "execution_count": 7,
   "id": "a33b0683-6594-4a5c-a4eb-1046b6075d5f",
   "metadata": {},
   "outputs": [
    {
     "data": {
      "text/plain": [
       "'hifriendfriend'"
      ]
     },
     "execution_count": 7,
     "metadata": {},
     "output_type": "execute_result"
    }
   ],
   "source": [
    "'hi' + 'friend'*2"
   ]
  },
  {
   "cell_type": "markdown",
   "id": "de7c38f0-2fd4-40d9-ac7e-9e6414ebfece",
   "metadata": {},
   "source": [
    "### Calling Functions\n",
    "Functions are pre-written code that you can call at any time to execute the same code over and over without rewriting it. Some examples include\n",
    "- `print(\"Some text goes here\")`: Which lets you print stuff to the screen (see above)\n",
    "- `open(filename)`: which opens a file, for example reading in a text file or a dataset.\n",
    "- `abs(number)`: returns the absolute value of a number"
   ]
  },
  {
   "cell_type": "code",
   "execution_count": 11,
   "id": "2775c101",
   "metadata": {},
   "outputs": [
    {
     "name": "stdout",
     "output_type": "stream",
     "text": [
      "Hello World\n",
      "34 + 49 != 15\n"
     ]
    }
   ],
   "source": [
    "print(\"Hello World\")\n",
    "print(abs(-34), \"+\", abs(49), \"!=\", abs(-34 + 49))"
   ]
  },
  {
   "cell_type": "markdown",
   "id": "2df84619",
   "metadata": {},
   "source": [
    "The syntax here is important. The parenthesis is used to determine what information or values needs to be sent to the code behind the function. These values are called arguments. Functions can either receive positional arguments, where the order of the arguments matters, or keyword arguments, where you will assign a value to a variable being sent to the function. Examples of both can be seen below, and will be called out when encountered. \n",
    "\n",
    "**Pro tip:** Always search for some function before trying to write the code yourself. If you need it, it's very likely that someone else has also needed it, and already written the code. The most common resource for these functions will be the hosted in the Libraries and Packages described below. \n",
    "\n",
    "## Libraries and Packages\n",
    "(WARNING: These two words have slightly different meanings, but I will (accidentially) be using them interchangably)\n",
    "\n",
    "Python is an open source programming language, and has a *very* large community of developers. There are libraries for pretty much anything that will make your life easier if you know how to use them. Using the libraries is simple. \n",
    "1. Make sure the package is installed on your computer. Do this by running the command `pip install [package_name]` in a command line environment (Bash, PowerShell, CMD, etc.). If you are using a package and environment manager like `poetry` or `conda`, make sure to use the approved method by that package manager when installing new packages.\n",
    "2. Import the functionality that you need into your script or notebook.\n",
    "\n",
    "Below is an example of how to import code a package."
   ]
  },
  {
   "cell_type": "code",
   "execution_count": 12,
   "id": "5d523927",
   "metadata": {},
   "outputs": [],
   "source": [
    "import pandas as pd\n",
    "import matplotlib.pyplot as plt\n",
    "from sklearn import datasets"
   ]
  },
  {
   "cell_type": "markdown",
   "id": "ab9c2a7d",
   "metadata": {},
   "source": [
    "Given that there are some complications in exactly how code is brought into the code, we won't go into too much details about exactly is happening. The basic keywords are defined below.\n",
    "- `import`: This keyword brings everything from the following module into your code. In the first example, we will have access to the entirety of `pandas` in our code. In the second example we import everything from a subset of `matplotlib`, specifically `pyplot`. \n",
    "- `as` gives the package an alias. This is important when calling the functions or classes. Instead of having to type `pandas.DataFrame` everytime you want to create that class, you only need to type `pd.DataFrame`. Optional, but recommended for your sanity, as it can add up quickly when you import many different libraries. \n",
    "- `from`: This keyword will always need to be paired with the `import` keyword, however it is a different way to subset the import feature. It will only import the explicit things listed in the comma sepparated list after the import statement. Importing only what is nessecary can improve the efficiency of your code. \n",
    "\n",
    "Now that we have these functions at our disposal, we can write code faster. Below is an example of importing a specific dataset from Sci-kit Learn, a machine learning library, saving it to a dataframe, and plotting it's data as a scatter plot."
   ]
  },
  {
   "cell_type": "code",
   "execution_count": 13,
   "id": "f847eb93",
   "metadata": {
    "scrolled": true
   },
   "outputs": [
    {
     "name": "stdout",
     "output_type": "stream",
     "text": [
      "   sepal length (cm)  sepal width (cm)  petal length (cm)  petal width (cm)\n",
      "0                5.1               3.5                1.4               0.2\n",
      "1                4.9               3.0                1.4               0.2\n",
      "2                4.7               3.2                1.3               0.2\n",
      "3                4.6               3.1                1.5               0.2\n",
      "4                5.0               3.6                1.4               0.2\n",
      "       sepal length (cm)  sepal width (cm)  petal length (cm)  \\\n",
      "count         150.000000        150.000000         150.000000   \n",
      "mean            5.843333          3.057333           3.758000   \n",
      "std             0.828066          0.435866           1.765298   \n",
      "min             4.300000          2.000000           1.000000   \n",
      "25%             5.100000          2.800000           1.600000   \n",
      "50%             5.800000          3.000000           4.350000   \n",
      "75%             6.400000          3.300000           5.100000   \n",
      "max             7.900000          4.400000           6.900000   \n",
      "\n",
      "       petal width (cm)  \n",
      "count        150.000000  \n",
      "mean           1.199333  \n",
      "std            0.762238  \n",
      "min            0.100000  \n",
      "25%            0.300000  \n",
      "50%            1.300000  \n",
      "75%            1.800000  \n",
      "max            2.500000  \n"
     ]
    }
   ],
   "source": [
    "iris = datasets.load_iris()\n",
    "# Save to dataframe (table) \n",
    "iris_df = pd.DataFrame(data=iris.data, columns=iris.feature_names)\n",
    "\n",
    "# Print some information about the dataframe\n",
    "print(iris_df.head())\n",
    "print(iris_df.describe())"
   ]
  },
  {
   "cell_type": "code",
   "execution_count": 14,
   "id": "855364ab",
   "metadata": {},
   "outputs": [],
   "source": [
    "# save parts of our dataframe to distinct variables\n",
    "sepal_length = iris_df['sepal length (cm)']\n",
    "sepal_width  = iris_df['sepal width (cm)']\n",
    "petal_length = iris_df['petal length (cm)']\n",
    "petal_width  = iris_df['petal width (cm)']"
   ]
  },
  {
   "cell_type": "code",
   "execution_count": 15,
   "id": "721e7cb5",
   "metadata": {},
   "outputs": [
    {
     "data": {
      "image/png": "[encoded data removed]",
      "text/plain": [
       "<Figure size 640x480 with 1 Axes>"
      ]
     },
     "metadata": {},
     "output_type": "display_data"
    }
   ],
   "source": [
    "# let's plot some data\n",
    "fig = plt.figure()\n",
    "# Note the positional arguments on scatter. The first two are positional arguments, and the last 3 are keyword arguments. \n",
    "plt.scatter(sepal_length, sepal_width, c='Red', marker='.', label='sepal')\n",
    "plt.scatter(petal_length, petal_width, c='Blue', marker='x', label='pedal')\n",
    "\n",
    "plt.legend()\n",
    "plt.xlabel(\"length (cm)\")\n",
    "plt.ylabel(\"width (cm)\")\n",
    "plt.title(\"Iris Dataset\")\n",
    "plt.show()"
   ]
  },
  {
   "cell_type": "markdown",
   "id": "f690fc56",
   "metadata": {},
   "source": [
    "Using code that other people have already written, we are able to fairly quickly and effectively create a graphic to start our visual exploration of the data. \n",
    "\n",
    "However, there is rarely a single way to implement a solution in python. "
   ]
  },
  {
   "cell_type": "code",
   "execution_count": 16,
   "id": "0feee5ec-6188-4289-b5e8-b490e9c100ef",
   "metadata": {},
   "outputs": [
    {
     "data": {
      "image/png": "[encoded data removed]",
      "text/plain": [
       "<Figure size 640x480 with 1 Axes>"
      ]
     },
     "metadata": {},
     "output_type": "display_data"
    }
   ],
   "source": [
    "# Note this variation on scatter where all arguments are assigned to keywords. \n",
    "ax1 = iris_df.plot.scatter(x=\"sepal length (cm)\", y=\"sepal width (cm)\", color=\"red\", marker='.', label=\"sepal\")\n",
    "iris_df.plot.scatter(x=\"petal length (cm)\", y=\"petal width (cm)\", color=\"blue\", marker='x', ax=ax1, label=\"petal\")\n",
    "\n",
    "ax1.set_xlabel(\"length (cm)\")\n",
    "ax1.set_ylabel(\"width (cm)\")\n",
    "ax1.set_title(\"Iris Dataset\");"
   ]
  },
  {
   "cell_type": "markdown",
   "id": "b41053e0-6229-43ce-9e98-65089f980006",
   "metadata": {},
   "source": [
    "In the first example, we extracted the data from the dataframe, saved it to a variable, then created a scatter plot, passing in those columns as a an argument. In the second, we utilized the fact that the `DataFrame` object has plotting functionality as a method of the object. Depending on the programmer, the team, or even the workflow, one method might make more sense to be used, based on readability, workflow, or optimization. The decision as to which approach to be used will be left to the individual programmer with their style and needs."
   ]
  },
  {
   "cell_type": "markdown",
   "id": "54a404f7",
   "metadata": {},
   "source": [
    "## Control Flow\n",
    "When building a workflow (expecially in the context of data analysis), some actions will need to be performed only when certain conditions are meet. Other times, we want to perform the same action multiple times with slightly different data. Below, we discuss the concepts of boolean values, `if` statements and `for` and `while` loops.\n",
    "\n",
    "### Boolean\n",
    "Boolean is a data type which essentially represents a `True` or a `False` statement. The keywords themselves can be used as the value to a variable or as the input to some function, but often times, boolean values are best represented as logical statements. Recall from the beginning of the file, we saved values to `x`, `y`, and `sum_of_x_and_y`. We can check that the addition was performed correctly simply by using the \"is equal\" (`==`) operator. "
   ]
  },
  {
   "cell_type": "code",
   "execution_count": 19,
   "id": "3a9841aa",
   "metadata": {},
   "outputs": [
    {
     "data": {
      "text/plain": [
       "True"
      ]
     },
     "execution_count": 19,
     "metadata": {},
     "output_type": "execute_result"
    }
   ],
   "source": [
    "x + y == sum_of_x_and_y"
   ]
  },
  {
   "cell_type": "markdown",
   "id": "a2dae270",
   "metadata": {},
   "source": [
    "This comparison operator (as well as many others) will turn a set of statements into a single `True` or `False` value. This is most commonly combined with `if` statements to determine if code should be executed or with loops to determine when the loop should end. Other comparison operators include: \n",
    "- `!=`: not equal\n",
    "- `>`: greater than\n",
    "- `>=`: greater than or equal to\n",
    "- `<`: less than\n",
    "- `<=`: less than or equal to\n",
    "\n",
    "Combining these operators with parenthesis and keywords like `not`, `and`, and `or` will enable you to create complex logical checks for whatever situation you might encounter. There are other keywords and functions that can be used as well which fall out of the scope of this lesson. \n",
    "\n",
    "### If Statements\n",
    "Armed with the ability to check if something execute logical statements, we now have the ability to selectively run code based on whether condition has been met. The syntax There are 3 keywords used for If statements. \n",
    "- `if`: This opens the if block. This keyword expects a boolean value of logical statement (which computes a boolean value) immediately after it. Parenthesis are not expected. They can be used when grouping multiple statements together (for example, `(A and B) or C`). After the condition, be sure to include a semi-colon (`:`) to enter the if block. Both `elif` and `else` follow this pattern.\n",
    "- `elif`: This is often also read as \"else if\". This will always be used in combination with an `if` statement just above it. The `elif` keyword allows for an alternate condition to be checked after the first condition returns false, without nesting those conditions within an `else` statement. The boolean value should follow the keyword, just like with if statements. Multiple `elif` statements can be used, but note that the order of the `if` and `elif` checks are important. When one is found to be true, all other checks will be skipped and ignored. \n",
    "- `else`: If all other conditions fail, whatever code is placed in the else block will be executed. It *does not* except any argument, and will fail with a syntax error if one is included. Like `elif`, and `else` block is not required, but will be helpful in cases where it is needed. \n",
    "\n",
    "*Note:* While whitespace (spaces, tabs, and new lines) are typically ignored, there are a handful of locations where it is used as a required part of the syntax. Python uses tabs/4 space characters to define things that are \"inside\" the if statement. The syntax is demonstrated in some examples below. Other blocks require this indenting syntax to define scope, and will be called out when discussed. \n",
    "\n",
    "In the below example, we define a date variable, and check to see what day of the week it is."
   ]
  },
  {
   "cell_type": "code",
   "execution_count": 23,
   "id": "ed3e29ee",
   "metadata": {},
   "outputs": [
    {
     "name": "stdout",
     "output_type": "stream",
     "text": [
      "2023-06-09 10:56:03.286895\n",
      "4\n",
      "🎵 It's Friday! 🎵\n"
     ]
    }
   ],
   "source": [
    "from datetime import datetime\n",
    "date = datetime.today()\n",
    "# date = datetime(2023,6,7)\n",
    "print(date)\n",
    "print(date.weekday())\n",
    "\n",
    "if date.weekday() == 4:\n",
    "    # Note here that the indent (4 spaces) is required to define that this print statement is \"inside\" the if block.\n",
    "    print(\"🎵 It's Friday! 🎵\")\n",
    "    \n",
    "elif date.weekday() == 2:\n",
    "    # Identically for elif and else\n",
    "    print(\"Hump day!\")\n",
    "\n",
    "else:\n",
    "    print(\"Boo!!\")"
   ]
  },
  {
   "cell_type": "markdown",
   "id": "78fa9427",
   "metadata": {},
   "source": [
    "### Loops (for/while)\n",
    "Sometimes, you have some specific steps you need to do multiple times in a row. Python offers 2 types of loops: `for` and `while`.\n",
    "- `for` loops are best used when you have a specific set of values that you know you want to iterate over. This could be a specific range of numbers, or a list of input data.\n",
    "- `while` loops are best used in situations where you only want to leave whenever a certain condition has been meet, but you do not necessarily know how many iterations will be needed. \n",
    "\n",
    "The syntax is very similar to that of the `if` blocks mentioned above that being,\n",
    "1. keyword\n",
    "2. how to loop (condition for `while` loop, or iterator for `for` loops)\n",
    "3. semi-colon\n",
    "4. indent 4 spaces\n",
    "5. code to be run inside the loop.\n",
    "\n",
    "#### Nuances of `for` Loops\n",
    "The `for` loop depends on an object called \"iterators.\" In simple terms, an iterator is an object that has multiple values in it, and has the ability to pass a single value at a time. Below is an example of a `for` loop. "
   ]
  },
  {
   "cell_type": "code",
   "execution_count": 25,
   "id": "2678a8f2-2aee-4b74-9f43-6d6e820031ce",
   "metadata": {},
   "outputs": [
    {
     "data": {
      "text/plain": [
       "0      5.1\n",
       "1      4.9\n",
       "2      4.7\n",
       "3      4.6\n",
       "4      5.0\n",
       "      ... \n",
       "145    6.7\n",
       "146    6.3\n",
       "147    6.5\n",
       "148    6.2\n",
       "149    5.9\n",
       "Name: sepal length (cm), Length: 150, dtype: float64"
      ]
     },
     "execution_count": 25,
     "metadata": {},
     "output_type": "execute_result"
    }
   ],
   "source": [
    "sepal_length"
   ]
  },
  {
   "cell_type": "code",
   "execution_count": 24,
   "id": "ffdc09d8",
   "metadata": {},
   "outputs": [
    {
     "name": "stdout",
     "output_type": "stream",
     "text": [
      "5.1\n",
      "4.9\n",
      "4.7\n",
      "4.6\n",
      "5.0\n",
      "5.4\n",
      "4.6\n",
      "5.0\n",
      "4.4\n",
      "4.9\n",
      "5.4\n",
      "4.8\n",
      "4.8\n",
      "4.3\n",
      "5.8\n",
      "5.7\n",
      "5.4\n",
      "5.1\n",
      "5.7\n",
      "5.1\n",
      "5.4\n",
      "5.1\n",
      "4.6\n",
      "5.1\n",
      "4.8\n",
      "5.0\n",
      "5.0\n",
      "5.2\n",
      "5.2\n",
      "4.7\n",
      "4.8\n",
      "5.4\n",
      "5.2\n",
      "5.5\n",
      "4.9\n",
      "5.0\n",
      "5.5\n",
      "4.9\n",
      "4.4\n",
      "5.1\n",
      "5.0\n",
      "4.5\n",
      "4.4\n",
      "5.0\n",
      "5.1\n",
      "4.8\n",
      "5.1\n",
      "4.6\n",
      "5.3\n",
      "5.0\n",
      "7.0\n",
      "6.4\n",
      "6.9\n",
      "5.5\n",
      "6.5\n",
      "5.7\n",
      "6.3\n",
      "4.9\n",
      "6.6\n",
      "5.2\n",
      "5.0\n",
      "5.9\n",
      "6.0\n",
      "6.1\n",
      "5.6\n",
      "6.7\n",
      "5.6\n",
      "5.8\n",
      "6.2\n",
      "5.6\n",
      "5.9\n",
      "6.1\n",
      "6.3\n",
      "6.1\n",
      "6.4\n",
      "6.6\n",
      "6.8\n",
      "6.7\n",
      "6.0\n",
      "5.7\n",
      "5.5\n",
      "5.5\n",
      "5.8\n",
      "6.0\n",
      "5.4\n",
      "6.0\n",
      "6.7\n",
      "6.3\n",
      "5.6\n",
      "5.5\n",
      "5.5\n",
      "6.1\n",
      "5.8\n",
      "5.0\n",
      "5.6\n",
      "5.7\n",
      "5.7\n",
      "6.2\n",
      "5.1\n",
      "5.7\n",
      "6.3\n",
      "5.8\n",
      "7.1\n",
      "6.3\n",
      "6.5\n",
      "7.6\n",
      "4.9\n",
      "7.3\n",
      "6.7\n",
      "7.2\n",
      "6.5\n",
      "6.4\n",
      "6.8\n",
      "5.7\n",
      "5.8\n",
      "6.4\n",
      "6.5\n",
      "7.7\n",
      "7.7\n",
      "6.0\n",
      "6.9\n",
      "5.6\n",
      "7.7\n",
      "6.3\n",
      "6.7\n",
      "7.2\n",
      "6.2\n",
      "6.1\n",
      "6.4\n",
      "7.2\n",
      "7.4\n",
      "7.9\n",
      "6.4\n",
      "6.3\n",
      "6.1\n",
      "7.7\n",
      "6.3\n",
      "6.4\n",
      "6.0\n",
      "6.9\n",
      "6.7\n",
      "6.9\n",
      "5.8\n",
      "6.8\n",
      "6.7\n",
      "6.7\n",
      "6.3\n",
      "6.5\n",
      "6.2\n",
      "5.9\n"
     ]
    }
   ],
   "source": [
    "for x in sepal_length:\n",
    "    print(x)"
   ]
  },
  {
   "cell_type": "markdown",
   "id": "f6542d41",
   "metadata": {},
   "source": [
    "Let's break down the syntax of the above. \n",
    "- We start with the `for` keyword. This basically tells python that we are going to do a `for` loop, and tells python to expect a specific syntax. \n",
    "- We next need to provide a variable name to save values to. It is also possible to loop over with 2 or more variables, but that is a bit more advanced and is out of the scope of this lesson. In this example, we use the variable `x`.\n",
    "- The most common keyword used in combination with `for` loops is `in`. This is basically the operator that tells us to connect the variable `x` to the list-like object that follows.\n",
    "- The last thing needed is the actual iterator. Commonly, iterators will be in the form of lists, dictionaries, pandas columns, dataframe rows, numpy arrays, or even specific functions like `range`. When used in a `for` loop, all code following the semi-colon will be executed with subsequent values of the iterator. In the above, we see that the `print` statement puts one value from `sepal_length` on the screen. specifically, it does so in the order present in `sepal_length`. This is critical if your current iteration depends on previous iterations or if the ordering is important for any reason. \n",
    "\n",
    "This course provides several chances to practice for loops and get comfortable with the syntax and it's nuances.\n",
    "\n",
    "#### Nuances of `while` Loops\n",
    "While loops are a type of loop that will execute as many times as is needed until a condition is meet. For example, If you are running some sort of numeric simulation, and you need to run the simulation until a certain metric reaches a threshold, you could use a `while` loop to check at every iteration if the threshold has been passed. Below is an example of a `while` loop. "
   ]
  },
  {
   "cell_type": "code",
   "execution_count": 26,
   "id": "84fd8675",
   "metadata": {},
   "outputs": [
    {
     "name": "stdout",
     "output_type": "stream",
     "text": [
      "1\n",
      "2\n",
      "3\n",
      "4\n",
      "5\n",
      "6\n",
      "7\n",
      "8\n",
      "9\n",
      "10\n"
     ]
    }
   ],
   "source": [
    "x = 0\n",
    "while x < 10:\n",
    "    x += 1\n",
    "    print(x)"
   ]
  },
  {
   "cell_type": "markdown",
   "id": "8f755e34",
   "metadata": {},
   "source": [
    "Most of the syntax is identical to that of a `for` loop, with the primary difference being that instead of passing in a variable and an iterator, we provide a boolean statement. In this case we are passing in `x < 10`. Given the context of the code within the for loop, we know that `x` will approach 10 with each iteration. The conditition is checked at the beginning of each iteration, and if the value of the boolean statement is `True`, then the iteration will execute. When (or if) the iteration ever reaches `False`, no more loops will be executed. This can create 2 unexpected situations if the logic is not written correctly. \n",
    "1. Providing statements that are always `False` on the first check. This basically turns your code into an `if` statement. This will depend on the context and the code provided before the while loop.\n",
    "2. Providing statements that are always `True`. This could be providing a statement like `x > 0 or x < 10`. Assuming `x` is a number, this boolean statement ultimately translates to \"is x a number\". Another bug that could cause this by checking a logical statement that never changes. In the example above, failing to increase the value of in the line `x += 1`, x will never reach 10, therefore, will never stop the loop. \n",
    "\n",
    "#### Final Note\n",
    "Technically, both types of loops perform the exact same function. The only difference is exactly how the iterations are defined. In `while` loops, we define the exit condition with that boolean value, and in `for` loops, we define the iterator object that is being used. In most data analysis tasks, `for` loops are going to be most commonly used due to the fact that the dataset (and therefore the number of iterations, and what we need to iterate over) is defined at the beginning of the script. You can do all this with a while loop, however, the `for` loop is a bit more efficent and is easier to read. "
   ]
  },
  {
   "cell_type": "markdown",
   "id": "396572d6",
   "metadata": {},
   "source": [
    "## Closing\n",
    "There is so much more that could be covered here, such as classes, user-defined functions, more complex operators, and many other functions, much of this will be touched on in later lessons as we use them.\n",
    "\n",
    "## Homework Assignment: \n",
    "> Find some python library, package, or function that you believe could help you with what you are doing as an intern at Summit. Explain in the meeting chat why you believe it would be helpful to your workflow. *Reason*: finding packages helpful packages is a common first step when starting a new project or solution. Doing so ensures that you avoid writing code for a workflow that has already been solved. "
   ]
  }
 ],
 "metadata": {
  "kernelspec": {
   "display_name": "Python 3 (ipykernel)",
   "language": "python",
   "name": "python3"
  },
  "language_info": {
   "codemirror_mode": {
    "name": "ipython",
    "version": 3
   },
   "file_extension": ".py",
   "mimetype": "text/x-python",
   "name": "python",
   "nbconvert_exporter": "python",
   "pygments_lexer": "ipython3",
   "version": "3.10.9"
  }
 },
 "nbformat": 4,
 "nbformat_minor": 5
}
