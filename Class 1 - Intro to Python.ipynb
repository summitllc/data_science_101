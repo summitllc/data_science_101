{
 "cells": [
  {
   "cell_type": "markdown",
   "id": "93ea460e",
   "metadata": {},
   "source": [
    "# Introduction to Python\n",
    "While the main focus of the course is Data Analysis, Python is the tool that we will use to perform data analysis. This notebook is an exploration and explanation of some of the basic functions of python to get us started. \n",
    "## Basic Operations\n",
    "Setting a variable. This allows us to store a value for later use, pass it around the program as needed, or use some value in multiple locations without needing to recompute it. "
   ]
  },
  {
   "cell_type": "code",
   "execution_count": null,
   "id": "e5617249",
   "metadata": {},
   "outputs": [],
   "source": [
    "# <- this sumble starts a comment. Fell free to include as many comments as \n",
    "# needed to ensure that you always understand your code whenever you come back\n",
    "# to it. \n",
    "x = 5\n",
    "y = 3\n",
    "addition_of_x_and_y = 8"
   ]
  },
  {
   "cell_type": "markdown",
   "id": "5c5e9068",
   "metadata": {},
   "source": [
    "Most of the basic mathematical operations are pretty intuitive."
   ]
  },
  {
   "cell_type": "code",
   "execution_count": null,
   "id": "de3378eb",
   "metadata": {},
   "outputs": [],
   "source": [
    "# Addition\n",
    "print(x + y)\n",
    "\n",
    "# Notice that whitespace does not make a difference here. \n",
    "print(x+y)\n",
    "print(x + \n",
    "      y )\n",
    "print(x \n",
    "      + \n",
    "      y)"
   ]
  },
  {
   "cell_type": "markdown",
   "id": "0235091e",
   "metadata": {},
   "source": [
    "There are some specific locations where whitespace does matter. We'll talk about them soon. \n",
    "\n",
    "The following are examples of the other basic operators that you will most often be using. "
   ]
  },
  {
   "cell_type": "code",
   "execution_count": null,
   "id": "30a1027c",
   "metadata": {},
   "outputs": [],
   "source": [
    "# subtraction\n",
    "print(x - y)\n",
    "\n",
    "# multiplication\n",
    "print(x * y)\n",
    "\n",
    "# division\n",
    "print(x / y)\n",
    "\n",
    "# expontential (x ^ y)\n",
    "print(x ** y)"
   ]
  },
  {
   "cell_type": "markdown",
   "id": "4f9439e4",
   "metadata": {},
   "source": [
    "There are some other operators that have specific symbols. We can talk about those as you need them. \n",
    "\n",
    "## Calling Functions\n",
    "Functions are pre-written code that you can call at any time to execute the same code over and over without rewriting it. Some examples include\n",
    "- `print(\"Some text goes here\")`: Which lets you print stuff to the screen (see above)\n",
    "- `open(filename)`: which opens a file, for example reading in a text file or a dataset.\n",
    "- `abs(number)`: returns the absolute value of a number"
   ]
  },
  {
   "cell_type": "code",
   "execution_count": null,
   "id": "2775c101",
   "metadata": {},
   "outputs": [],
   "source": [
    "print(\"Hello World\")\n",
    "print(abs(-34), \"+\", abs(49), \"!=\", abs(-34 + 49))"
   ]
  },
  {
   "cell_type": "markdown",
   "id": "2df84619",
   "metadata": {},
   "source": [
    "**Pro tip:** Always search for some function before trying to write the code yourself. If you need it, it's very likely that someone else has also needed it, and already written the code. \n",
    "\n",
    "## Libraries/Packages\n",
    "(WARNING: These two words have slightly different meanings, but I will (accidentially) be using them interchangably)\n",
    "\n",
    "Python is an open source programming language, and has a *very* large community of developers. There are libraries for pretty much anything that will make your life easier if you know how to use them. Using the libraries is simple. \n",
    "1. Make sure the package is installed on your computer. Do this by using something like `pip install [package_name]`. If you are using a package manager like `poetry` or `conda`, make sure to use the approved method by that package manager when installing new packages.\n",
    "2. Import the functionality that you need eg. "
   ]
  },
  {
   "cell_type": "code",
   "execution_count": null,
   "id": "5d523927",
   "metadata": {},
   "outputs": [],
   "source": [
    "import pandas as pd\n",
    "import matplotlib.pyplot as plt\n",
    "from sklearn import datasets"
   ]
  },
  {
   "cell_type": "markdown",
   "id": "ab9c2a7d",
   "metadata": {},
   "source": [
    "The above keywords perform the following: \n",
    "- `import`: brings the entire library into your code. Anything the package can do is available. \n",
    "- `as` gives the package an alias. This is important when calling the functions or classes. Optional, but recommended for your sanity\n",
    "- `from`: When you only want specific functionality from a package, you can import speicific things from that package.\n",
    "\n",
    "Now that we have these handy functions at our disposal, we can write code faster. "
   ]
  },
  {
   "cell_type": "code",
   "execution_count": null,
   "id": "f847eb93",
   "metadata": {
    "scrolled": true
   },
   "outputs": [],
   "source": [
    "iris = datasets.load_iris()\n",
    "# Save to dataframe (table) \n",
    "iris_df = pd.DataFrame(data=iris.data, columns=iris.feature_names)\n",
    "\n",
    "# Print some information about the dataframe\n",
    "print(iris_df.head())\n",
    "print(iris_df.describe())"
   ]
  },
  {
   "cell_type": "code",
   "execution_count": null,
   "id": "855364ab",
   "metadata": {},
   "outputs": [],
   "source": [
    "# save parts of our dataframe to distinct variables\n",
    "sepal_length = iris_df['sepal length (cm)']\n",
    "sepal_width  = iris_df['sepal width (cm)']\n",
    "petal_length = iris_df['petal length (cm)']\n",
    "petal_width  = iris_df['petal width (cm)']"
   ]
  },
  {
   "cell_type": "code",
   "execution_count": null,
   "id": "721e7cb5",
   "metadata": {},
   "outputs": [],
   "source": [
    "# let's plot some data\n",
    "fig = plt.figure()\n",
    "plt.scatter(sepal_length, sepal_width, c='Red', marker='.', label='sepal')\n",
    "plt.scatter(petal_length, petal_width, c='Blue', marker='x', label='pedal')\n",
    "\n",
    "plt.legend()\n",
    "plt.xlabel(\"length (cm)\")\n",
    "plt.ylabel(\"width (cm)\")\n",
    "plt.title(\"Iris Dataset\")\n",
    "plt.show()"
   ]
  },
  {
   "cell_type": "markdown",
   "id": "f690fc56",
   "metadata": {},
   "source": [
    "Using code that other people have already written, we are able to fairly quickly and effectively create a graphic to start our visual exploration of the data. \n",
    "\n",
    "However, there is rarely a single way to implement a solution in python. "
   ]
  },
  {
   "cell_type": "code",
   "execution_count": null,
   "id": "0feee5ec-6188-4289-b5e8-b490e9c100ef",
   "metadata": {},
   "outputs": [],
   "source": [
    "ax1 = iris_df.plot.scatter(x=\"sepal length (cm)\", y=\"sepal width (cm)\", color=\"red\", marker='.', label=\"sepal\")\n",
    "iris_df.plot.scatter(x=\"petal length (cm)\", y=\"petal width (cm)\", color=\"blue\", marker='x', ax=ax1, label=\"petal\")\n",
    "\n",
    "ax1.set_xlabel(\"length (cm)\")\n",
    "ax1.set_ylabel(\"width (cm)\")\n",
    "ax1.set_title(\"Iris Dataset\");"
   ]
  },
  {
   "cell_type": "markdown",
   "id": "b41053e0-6229-43ce-9e98-65089f980006",
   "metadata": {},
   "source": [
    "Sometimes, the same solution can be reached by multiple methods. It simply depends which packages you are more comfortable with, and what functionality you need. "
   ]
  },
  {
   "cell_type": "markdown",
   "id": "54a404f7",
   "metadata": {},
   "source": [
    "# Control Flow\n",
    "## Conditional (if/else)"
   ]
  },
  {
   "cell_type": "code",
   "execution_count": null,
   "id": "969b29ee",
   "metadata": {},
   "outputs": [],
   "source": [
    "from datetime import datetime"
   ]
  },
  {
   "cell_type": "code",
   "execution_count": null,
   "id": "ed3e29ee",
   "metadata": {},
   "outputs": [],
   "source": [
    "Today = \n",
    "date = datetime(2022,6,8)\n",
    "print(date)"
   ]
  },
  {
   "cell_type": "code",
   "execution_count": null,
   "id": "7f969651",
   "metadata": {},
   "outputs": [],
   "source": [
    "if date.weekday() == 4:\n",
    "    print(\"🎵 It's Friday! 🎵\")\n",
    "    \n",
    "elif date.weekday() == 2:\n",
    "    print(\"Hump day!\")\n",
    "\n",
    "else:\n",
    "    print(\"Boo!!\")"
   ]
  },
  {
   "cell_type": "markdown",
   "id": "78fa9427",
   "metadata": {},
   "source": [
    "## Loops (for/while)"
   ]
  },
  {
   "cell_type": "code",
   "execution_count": null,
   "id": "ffdc09d8",
   "metadata": {},
   "outputs": [],
   "source": [
    "for x in sepal_length:\n",
    "    print(x)"
   ]
  },
  {
   "cell_type": "code",
   "execution_count": null,
   "id": "84fd8675",
   "metadata": {},
   "outputs": [],
   "source": [
    "x = 0\n",
    "while x < 10:\n",
    "    x += 1\n",
    "    print(x)"
   ]
  },
  {
   "cell_type": "markdown",
   "id": "396572d6",
   "metadata": {},
   "source": [
    "Homework Assignment: \n",
    "> Find some python library, package, or function that you believe could help you with what you are doing as an intern at Summit (preferably something other than `pandas` or `matplotlib`). Explain in the meeting chat why you believe it would be helpful to your work."
   ]
  }
 ],
 "metadata": {
  "kernelspec": {
   "display_name": "Python [conda env:root] *",
   "language": "python",
   "name": "conda-root-py"
  },
  "language_info": {
   "codemirror_mode": {
    "name": "ipython",
    "version": 3
   },
   "file_extension": ".py",
   "mimetype": "text/x-python",
   "name": "python",
   "nbconvert_exporter": "python",
   "pygments_lexer": "ipython3",
   "version": "3.9.12"
  }
 },
 "nbformat": 4,
 "nbformat_minor": 5
}
